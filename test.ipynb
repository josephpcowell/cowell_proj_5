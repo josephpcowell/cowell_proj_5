{
 "metadata": {
  "language_info": {
   "codemirror_mode": {
    "name": "ipython",
    "version": 3
   },
   "file_extension": ".py",
   "mimetype": "text/x-python",
   "name": "python",
   "nbconvert_exporter": "python",
   "pygments_lexer": "ipython3",
   "version": "3.7.7-final"
  },
  "orig_nbformat": 2,
  "kernelspec": {
   "name": "python3",
   "display_name": "Python 3"
  }
 },
 "nbformat": 4,
 "nbformat_minor": 2,
 "cells": [
  {
   "cell_type": "code",
   "execution_count": 1,
   "metadata": {},
   "outputs": [
    {
     "output_type": "stream",
     "name": "stderr",
     "text": [
      "Neither PyTorch nor TensorFlow >= 2.0 have been found.Models won't be available and only tokenizers, configurationand file/data utilities can be used.\n",
      "Loading checkpoint beatles_mod1/run1/model-1000\n",
      "WARNING:tensorflow:From /Users/joecowell/opt/anaconda3/lib/python3.7/site-packages/tensorflow/python/training/saver.py:1276: checkpoint_exists (from tensorflow.python.training.checkpoint_management) is deprecated and will be removed in a future version.\n",
      "Instructions for updating:\n",
      "Use standard file APIs to check for files with this prefix.\n",
      "INFO:tensorflow:Restoring parameters from beatles_mod1/run1/model-1000\n"
     ]
    }
   ],
   "source": [
    "import generator\n",
    "from generator import gen_lyrics"
   ]
  },
  {
   "cell_type": "code",
   "execution_count": 2,
   "metadata": {},
   "outputs": [
    {
     "output_type": "stream",
     "name": "stdout",
     "text": [
      "WARNING:tensorflow:From /Users/joecowell/opt/anaconda3/lib/python3.7/site-packages/gpt_2_simple/src/sample.py:32: add_dispatch_support.<locals>.wrapper (from tensorflow.python.ops.array_ops) is deprecated and will be removed in a future version.\n",
      "Instructions for updating:\n",
      "Use tf.where in 2.0, which has the same broadcast rule as np.where\n",
      "hey come on, come on, come on\n",
      "Come on, it's such a joy, come on, it's such a joy\n",
      "Come on, let's make it easy, come on, let's make it easy\n",
      "Make it easy (Everybody), come on, let's make it easy\n",
      "Make it easy (Everybody), come on, let's make it easy\n",
      "Make it easy (Everybody), come on, let's make it easy\n",
      "Everybody's got something to hide\n",
      "Except for me and my monkey\n",
      "Uh oh), oh\n",
      "Oh yeah, oh yeah\n",
      "Uh oh), oh yeah\n",
      "Uh oh), oh yeah\n",
      "Uh oh)\n",
      "Yeah, she thinks she's a lesbian\n",
      "(Sexy Sadie), she thinks she's a lesbian\n",
      "(Sexy Sadie, she thinks she's a lesbian)\n",
      "Well, she thinks she's a lesbian (Sexy Sadie, she thinks she's a lesbian)\n",
      "But she doesn't listen to all the pleas my girl\n",
      "Put up with her jacking off\n",
      "Sexy Sadie\"\n",
      "\"I've got a word or two\n",
      "To say about the things that you do\n",
      "You're telling all those lies\n",
      "About the good things that we can have\n",
      "If we close our eyes\n",
      "Do what you want to do\n",
      "And go where you're going to\n",
      "Think for yourself\n",
      "'Cause I won't be there with you\n",
      "I left you far behind\n",
      "The ruins of the life that you have in mind\n",
      "And though you still can't see\n",
      "I know your mind's made up\n",
      "You're gonna cause more misery\n",
      "Do what you want to do\n",
      "And go where you're going to\n",
      "Think for yourself\n",
      "'Cause I won't be there with you\n",
      "Although your mind's opaque\n",
      "Try thinking more if just for your own sake\n",
      "The future still looks good\n",
      "And you've got time to rectify\n",
      "All the things that you should\n",
      "Do what you want to do\n",
      "And go where you're going to\n",
      "Think for yourself\n",
      "'Cause I won't be there with you\n",
      "Do what you want to do\n",
      "And go where you're going to\n",
      "Think for yourself\n",
      "'Cause I won't be there with you\n",
      "Think for yourself\n",
      "'Cause I won't be there with you\"\n",
      "\"Say the word and you'll be free\n",
      "Say the word and be like me\n",
      "Say the word I'm thinking of\n",
      "Have you heard the word is love?\n",
      "It\n"
     ]
    }
   ],
   "source": [
    "print(gen_lyrics('hey'))"
   ]
  },
  {
   "cell_type": "code",
   "execution_count": null,
   "metadata": {},
   "outputs": [],
   "source": []
  }
 ]
}