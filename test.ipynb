{
 "metadata": {
  "language_info": {
   "codemirror_mode": {
    "name": "ipython",
    "version": 3
   },
   "file_extension": ".py",
   "mimetype": "text/x-python",
   "name": "python",
   "nbconvert_exporter": "python",
   "pygments_lexer": "ipython3",
   "version": "3.7.7-final"
  },
  "orig_nbformat": 2,
  "kernelspec": {
   "name": "python3",
   "display_name": "Python 3"
  }
 },
 "nbformat": 4,
 "nbformat_minor": 2,
 "cells": [
  {
   "cell_type": "code",
   "execution_count": 1,
   "metadata": {},
   "outputs": [
    {
     "output_type": "stream",
     "name": "stderr",
     "text": [
      "Neither PyTorch nor TensorFlow >= 2.0 have been found.Models won't be available and only tokenizers, configurationand file/data utilities can be used.\n"
     ]
    }
   ],
   "source": [
    "import generator\n",
    "from generator import gen_lyrics\n",
    "%load_ext autoreload\n",
    "%autoreload 2"
   ]
  },
  {
   "cell_type": "code",
   "execution_count": 2,
   "metadata": {},
   "outputs": [
    {
     "output_type": "stream",
     "name": "stdout",
     "text": [
      "Loading checkpoint beatles_mod1/run1/model-1000\n",
      "WARNING:tensorflow:From /Users/joecowell/opt/anaconda3/lib/python3.7/site-packages/tensorflow/python/training/saver.py:1276: checkpoint_exists (from tensorflow.python.training.checkpoint_management) is deprecated and will be removed in a future version.\n",
      "Instructions for updating:\n",
      "Use standard file APIs to check for files with this prefix.\n",
      "INFO:tensorflow:Restoring parameters from beatles_mod1/run1/model-1000\n",
      "WARNING:tensorflow:From /Users/joecowell/opt/anaconda3/lib/python3.7/site-packages/gpt_2_simple/src/sample.py:32: add_dispatch_support.<locals>.wrapper (from tensorflow.python.ops.array_ops) is deprecated and will be removed in a future version.\n",
      "Instructions for updating:\n",
      "Use tf.where in 2.0, which has the same broadcast rule as np.where\n"
     ]
    }
   ],
   "source": [
    "hi = gen_lyrics('hey')"
   ]
  },
  {
   "cell_type": "code",
   "execution_count": 4,
   "metadata": {},
   "outputs": [
    {
     "output_type": "stream",
     "name": "stdout",
     "text": [
      "hey come back to me\nHere I am on my knees\nBegging if you please\nAnd the night you don't come my way\nI'll pray and pray more each day\n'Cause we love you, Mr. Moonlight\nAnd the night you don't come my way\nOh, I'll pray and pray more each day\n'Cause we love you, Mr. Moonlight\nMr. Moonlight\nMr. Moonlight, come again please\nHere I am on my knees\nBegging if you please\nAnd the night you don't come my way\nOh I pray and pray more each day\n'Cause we love you, Mr. Moonlight\nMr. Moonlight\nMr. Moonlight\nMr. Moonlight\"\n\"Ah, Kansas City\nGoing to get my baby back home\nYeah, yeah\nI'm going to Kansas City\nGoing to get my baby back home\nYeah, yeah\nWell, it's a long, long, time\nSince my baby's been gone\nAh, Kansas City\nGoing to to get my baby one time\nYeah, yeah\nI'm going to Kansas City\nGoing to get my baby one time\nYeah, yeah\nIt's just a one, two, three, four\nFive, six, seven, eight, nine, wah\nHey, hey, hey, hey\nHey, baby, woo no clown\nI say you're no clown\nNow, now, now, now\nTell me baby\nWhat's been wrong with you\nHey, hey, hey, hey\nHey, now, baby, woo no clown\nI say you're no clown\nNow, now, now, now\nTell me baby\nWhat's been wrong with you\nWell, I'll say bye\nBye, bye, baby bye, bye\nOh, so long\nBye, bye, baby I'm gone\nYeah, I said\nBye, bye, baby, bye, bye\nBye, bye, bye, bye\nWell, I'll say bye\nBye, bye, baby bye, bye\nWoo, so long\nBye, bye, baby, I'm gone\"\n\"Ooh, I need your love, babe\nGuess you know it's true\nHope you need my love, babe\nJust like I need you\nHold me, love me\nHold me, love me\nI ain't got nothing but love, babe\nEight days a week\n\n"
     ]
    }
   ],
   "source": [
    "print(hi)"
   ]
  },
  {
   "cell_type": "code",
   "execution_count": 5,
   "metadata": {},
   "outputs": [
    {
     "output_type": "execute_result",
     "data": {
      "text/plain": [
       "'hey come back to me\\nHere I am on my knees\\nBegging if you please\\nAnd the night you don\\'t come my way\\nI\\'ll pray and pray more each day\\n\\'Cause we love you, Mr. Moonlight\\nAnd the night you don\\'t come my way\\nOh, I\\'ll pray and pray more each day\\n\\'Cause we love you, Mr. Moonlight\\nMr. Moonlight\\nMr. Moonlight, come again please\\nHere I am on my knees\\nBegging if you please\\nAnd the night you don\\'t come my way\\nOh I pray and pray more each day\\n\\'Cause we love you, Mr. Moonlight\\nMr. Moonlight\\nMr. Moonlight\\nMr. Moonlight\"\\n\"Ah, Kansas City\\nGoing to get my baby back home\\nYeah, yeah\\nI\\'m going to Kansas City\\nGoing to get my baby back home\\nYeah, yeah\\nWell, it\\'s a long, long, time\\nSince my baby\\'s been gone\\nAh, Kansas City\\nGoing to to get my baby one time\\nYeah, yeah\\nI\\'m going to Kansas City\\nGoing to get my baby one time\\nYeah, yeah\\nIt\\'s just a one, two, three, four\\nFive, six, seven, eight, nine, wah\\nHey, hey, hey, hey\\nHey, baby, woo no clown\\nI say you\\'re no clown\\nNow, now, now, now\\nTell me baby\\nWhat\\'s been wrong with you\\nHey, hey, hey, hey\\nHey, now, baby, woo no clown\\nI say you\\'re no clown\\nNow, now, now, now\\nTell me baby\\nWhat\\'s been wrong with you\\nWell, I\\'ll say bye\\nBye, bye, baby bye, bye\\nOh, so long\\nBye, bye, baby I\\'m gone\\nYeah, I said\\nBye, bye, baby, bye, bye\\nBye, bye, bye, bye\\nWell, I\\'ll say bye\\nBye, bye, baby bye, bye\\nWoo, so long\\nBye, bye, baby, I\\'m gone\"\\n\"Ooh, I need your love, babe\\nGuess you know it\\'s true\\nHope you need my love, babe\\nJust like I need you\\nHold me, love me\\nHold me, love me\\nI ain\\'t got nothing but love, babe\\nEight days a week\\n'"
      ]
     },
     "metadata": {},
     "execution_count": 5
    }
   ],
   "source": [
    "hi"
   ]
  },
  {
   "cell_type": "code",
   "execution_count": 8,
   "metadata": {},
   "outputs": [],
   "source": [
    "split = hi.splitlines()\n",
    "verse = split[:4]"
   ]
  },
  {
   "cell_type": "code",
   "execution_count": 12,
   "metadata": {},
   "outputs": [
    {
     "output_type": "stream",
     "name": "stdout",
     "text": [
      "hey come back to me\nHere I am on my knees\nBegging if you please\nAnd the night you don't come my way\n"
     ]
    }
   ],
   "source": [
    "print(\"\\n\".join(verse))"
   ]
  },
  {
   "cell_type": "code",
   "execution_count": 14,
   "metadata": {},
   "outputs": [
    {
     "output_type": "stream",
     "name": "stdout",
     "text": [
      "['hey come back to me', 'Here I am on my knees', 'Begging if you please', \"And the night you don't come my way\"]\n"
     ]
    }
   ],
   "source": [
    "print(verse)"
   ]
  },
  {
   "cell_type": "code",
   "execution_count": null,
   "metadata": {},
   "outputs": [],
   "source": []
  }
 ]
}