{
 "metadata": {
  "language_info": {
   "codemirror_mode": {
    "name": "ipython",
    "version": 3
   },
   "file_extension": ".py",
   "mimetype": "text/x-python",
   "name": "python",
   "nbconvert_exporter": "python",
   "pygments_lexer": "ipython3",
   "version": "3.7.7-final"
  },
  "orig_nbformat": 2,
  "kernelspec": {
   "name": "python3",
   "display_name": "Python 3"
  }
 },
 "nbformat": 4,
 "nbformat_minor": 2,
 "cells": [
  {
   "cell_type": "code",
   "execution_count": 1,
   "metadata": {},
   "outputs": [
    {
     "output_type": "stream",
     "name": "stderr",
     "text": [
      "Neither PyTorch nor TensorFlow >= 2.0 have been found.Models won't be available and only tokenizers, configurationand file/data utilities can be used.\n"
     ]
    }
   ],
   "source": [
    "import generator\n",
    "from generator import gen_lyrics\n",
    "%load_ext autoreload\n",
    "%autoreload 2\n",
    "\n",
    "# % tensorflow_version 1.x\n",
    "import gpt_2_simple as gpt2\n",
    "from datetime import datetime\n",
    "import tensorflow\n",
    "\n",
    "import numpy as np  # linear algebra\n",
    "import pandas as pd  # data processing, CSV file I/O (e.g. pd.read_csv)\n",
    "from transformers import AutoTokenizer, GPT2Tokenizer\n",
    "\n",
    "import os"
   ]
  },
  {
   "cell_type": "code",
   "execution_count": 2,
   "metadata": {},
   "outputs": [
    {
     "output_type": "stream",
     "name": "stdout",
     "text": [
      "Loading checkpoint beatles_mod1/run1/model-1000\n",
      "WARNING:tensorflow:From /Users/joecowell/opt/anaconda3/lib/python3.7/site-packages/tensorflow/python/training/saver.py:1276: checkpoint_exists (from tensorflow.python.training.checkpoint_management) is deprecated and will be removed in a future version.\n",
      "Instructions for updating:\n",
      "Use standard file APIs to check for files with this prefix.\n",
      "INFO:tensorflow:Restoring parameters from beatles_mod1/run1/model-1000\n",
      "WARNING:tensorflow:From /Users/joecowell/opt/anaconda3/lib/python3.7/site-packages/gpt_2_simple/src/sample.py:32: add_dispatch_support.<locals>.wrapper (from tensorflow.python.ops.array_ops) is deprecated and will be removed in a future version.\n",
      "Instructions for updating:\n",
      "Use tf.where in 2.0, which has the same broadcast rule as np.where\n"
     ]
    }
   ],
   "source": [
    "hi = gen_lyrics('hey')"
   ]
  },
  {
   "cell_type": "code",
   "execution_count": 3,
   "metadata": {},
   "outputs": [
    {
     "output_type": "stream",
     "name": "stdout",
     "text": [
      "hey said yes, I say yes, yes, yes, yes)\nI've been waiting such a long time\n(I've been waiting a long, long time)\nSince I heard from that girlfriend of mine\n(Since I heard from that girl of mine)\n(Since I heard from that girl of mine)\n(Since I heard from that girl of mine)\n(Since I heard from that girl of mine)\n(Since I heard from that girl of mine)\n(Since I heard from that girl of mine)\n(Since I heard from that girl of mine)\n(Since I heard from that girl of mine)\n(Since I heard from that girl of mine)\n(Since I heard from that girl of mine)\n(Since I heard from that girl of mine)\n(Since I heard from that girl of mine)\n(Since I heard from that girl of mine)\n(Since I heard from that girl of mine)\n(Since I heard from that girl of mine)\n(Since I heard from that girl of mine)\n(Since I heard from that girl of mine)\n(Since I heard from that girl of mine)\n(Since I heard from that girl of mine)\n(Since I heard from that girl of mine)\n(Since I heard from that girl of mine)\n(Since I heard from that girl of mine)\n(Since I heard from that girl of mine)\n(Since I heard from that girl of mine)\n(Since I heard from that girl of mine)\"\n\"I should have known better with a girl like you\nThat I would love you any old way\nNow, though I'm scared to death to death\nYes, I know that you're going to cry\nWhen I find you've left me no more\nI should have known better with a girl like you\nThat I would love you any old way\nNow, though I'm scared to death to death\nYes, I know that you're going to cry\nWhen I find you've left me no more\nI should have known better with a girl like you\nThat I would love you any old way\nNow, though I'm scared to death to death\nYes, I know that you're going to cry\nWhen I find you've left me no more\"\n\"I was alone, I took a ride\nI didn't know what I would find there\nAnother road where\n"
     ]
    }
   ],
   "source": [
    "print(hi)"
   ]
  },
  {
   "cell_type": "code",
   "execution_count": 5,
   "metadata": {},
   "outputs": [
    {
     "output_type": "execute_result",
     "data": {
      "text/plain": [
       "'hey come back to me\\nHere I am on my knees\\nBegging if you please\\nAnd the night you don\\'t come my way\\nI\\'ll pray and pray more each day\\n\\'Cause we love you, Mr. Moonlight\\nAnd the night you don\\'t come my way\\nOh, I\\'ll pray and pray more each day\\n\\'Cause we love you, Mr. Moonlight\\nMr. Moonlight\\nMr. Moonlight, come again please\\nHere I am on my knees\\nBegging if you please\\nAnd the night you don\\'t come my way\\nOh I pray and pray more each day\\n\\'Cause we love you, Mr. Moonlight\\nMr. Moonlight\\nMr. Moonlight\\nMr. Moonlight\"\\n\"Ah, Kansas City\\nGoing to get my baby back home\\nYeah, yeah\\nI\\'m going to Kansas City\\nGoing to get my baby back home\\nYeah, yeah\\nWell, it\\'s a long, long, time\\nSince my baby\\'s been gone\\nAh, Kansas City\\nGoing to to get my baby one time\\nYeah, yeah\\nI\\'m going to Kansas City\\nGoing to get my baby one time\\nYeah, yeah\\nIt\\'s just a one, two, three, four\\nFive, six, seven, eight, nine, wah\\nHey, hey, hey, hey\\nHey, baby, woo no clown\\nI say you\\'re no clown\\nNow, now, now, now\\nTell me baby\\nWhat\\'s been wrong with you\\nHey, hey, hey, hey\\nHey, now, baby, woo no clown\\nI say you\\'re no clown\\nNow, now, now, now\\nTell me baby\\nWhat\\'s been wrong with you\\nWell, I\\'ll say bye\\nBye, bye, baby bye, bye\\nOh, so long\\nBye, bye, baby I\\'m gone\\nYeah, I said\\nBye, bye, baby, bye, bye\\nBye, bye, bye, bye\\nWell, I\\'ll say bye\\nBye, bye, baby bye, bye\\nWoo, so long\\nBye, bye, baby, I\\'m gone\"\\n\"Ooh, I need your love, babe\\nGuess you know it\\'s true\\nHope you need my love, babe\\nJust like I need you\\nHold me, love me\\nHold me, love me\\nI ain\\'t got nothing but love, babe\\nEight days a week\\n'"
      ]
     },
     "metadata": {},
     "execution_count": 5
    }
   ],
   "source": [
    "hi"
   ]
  },
  {
   "cell_type": "code",
   "execution_count": 8,
   "metadata": {},
   "outputs": [],
   "source": [
    "split = hi.splitlines()\n",
    "verse = split[:4]"
   ]
  },
  {
   "cell_type": "code",
   "execution_count": 4,
   "metadata": {},
   "outputs": [
    {
     "output_type": "error",
     "ename": "NameError",
     "evalue": "name 'verse' is not defined",
     "traceback": [
      "\u001b[0;31m---------------------------------------------------------------------------\u001b[0m",
      "\u001b[0;31mNameError\u001b[0m                                 Traceback (most recent call last)",
      "\u001b[0;32m<ipython-input-4-da8f62b9e39b>\u001b[0m in \u001b[0;36m<module>\u001b[0;34m\u001b[0m\n\u001b[0;32m----> 1\u001b[0;31m \u001b[0mprint\u001b[0m\u001b[0;34m(\u001b[0m\u001b[0;34m\"\\n\"\u001b[0m\u001b[0;34m.\u001b[0m\u001b[0mjoin\u001b[0m\u001b[0;34m(\u001b[0m\u001b[0mverse\u001b[0m\u001b[0;34m)\u001b[0m\u001b[0;34m)\u001b[0m\u001b[0;34m\u001b[0m\u001b[0;34m\u001b[0m\u001b[0m\n\u001b[0m",
      "\u001b[0;31mNameError\u001b[0m: name 'verse' is not defined"
     ]
    }
   ],
   "source": [
    "print(\"\\n\".join(verse))"
   ]
  },
  {
   "cell_type": "code",
   "execution_count": 14,
   "metadata": {},
   "outputs": [
    {
     "output_type": "stream",
     "name": "stdout",
     "text": [
      "['hey come back to me', 'Here I am on my knees', 'Begging if you please', \"And the night you don't come my way\"]\n"
     ]
    }
   ],
   "source": [
    "print(verse)"
   ]
  },
  {
   "cell_type": "code",
   "execution_count": 2,
   "metadata": {},
   "outputs": [
    {
     "output_type": "stream",
     "name": "stdout",
     "text": [
      "Loading checkpoint checkpoint_all/beatles2/model-300\n",
      "WARNING:tensorflow:From /Users/joecowell/opt/anaconda3/lib/python3.7/site-packages/tensorflow/python/training/saver.py:1276: checkpoint_exists (from tensorflow.python.training.checkpoint_management) is deprecated and will be removed in a future version.\n",
      "Instructions for updating:\n",
      "Use standard file APIs to check for files with this prefix.\n",
      "INFO:tensorflow:Restoring parameters from checkpoint_all/beatles2/model-300\n"
     ]
    }
   ],
   "source": [
    "sess = gpt2.start_tf_sess()\n",
    "gpt2.load_gpt2(sess, checkpoint_dir=\"checkpoint_all\", run_name=\"beatles2\")"
   ]
  },
  {
   "cell_type": "code",
   "execution_count": 120,
   "metadata": {},
   "outputs": [],
   "source": [
    "text = gpt2.generate(\n",
    "    sess,\n",
    "    length=500,\n",
    "    temperature=1.0,\n",
    "    top_k=0,\n",
    "    top_p=0.9,\n",
    "    prefix=\"It's been a long time\",\n",
    "    return_as_list=True,\n",
    ")"
   ]
  },
  {
   "cell_type": "code",
   "execution_count": 121,
   "metadata": {},
   "outputs": [
    {
     "output_type": "stream",
     "name": "stdout",
     "text": [
      "It's been a long time\nI was so young, I never even thought of you\nIf I meet you I'll try not to jealous\nOh dear, what can I do?\nBaby's in black and I'm feeling blue\nTell me, oh what can I do?\nShe thinks of him and so she dresses in black\nAnd though he'll never come back, she's dressed in black\nOh dear, what can I do?\nBaby's in black and I'm feeling blue\nTell me, oh what can I do?\nI think of her, but she thinks only of him\nAnd though it's only a whim, she thinks of him\nOh how long will it take\nTill she sees the mistake she has made?\nDear what can I do?\nBaby's in black and I'm feeling blue\nTell me, oh what can I do?\nOh how long will it take\nTill she sees the mistake she has made?\nDear what can I do?\nBaby's in black and I'm feeling blue\nTell me, oh what can I do?She thinks of him and so she dresses in black\nAnd though he'll never come back, she's dressed in black\nOh dear, what can I do?\nBaby's in black and I'm feeling blue\nTell me, oh what can I do?She thinks of him and so she dresses in black\nAnd though he'll never come back, she's dressed in black\nOh dear, what can I do?\nBaby's in black and I'm feeling blue\nTell me, oh what can I do?She thinks of him and so she dresses in black\nAnd though he'll never come back, she's dressed in black\nOh dear, what can I do?\nBaby's in black and I'm feeling blue\nTell me, oh what can I do?Oh dear, what can I do?\nBaby's in black and I'm feeling blue\nTell me, oh what can I do?\nShe thinks of him and so she dresses in black\nAnd though he'll never come back, she's dressed in black\nOh dear, what can I do?\nBaby's in black and I'm feeling blue\nTell me, oh what can I do?She thinks of him and so she dresses in black\nAnd though he'll never come back, she's dressed in black\nOh dear, what can I do?\nBaby's in black\n"
     ]
    }
   ],
   "source": [
    "print(text[0])"
   ]
  },
  {
   "cell_type": "code",
   "execution_count": null,
   "metadata": {},
   "outputs": [],
   "source": []
  },
  {
   "cell_type": "code",
   "execution_count": null,
   "metadata": {},
   "outputs": [],
   "source": []
  }
 ]
}