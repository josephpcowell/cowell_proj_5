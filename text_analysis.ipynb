{
 "metadata": {
  "language_info": {
   "codemirror_mode": {
    "name": "ipython",
    "version": 3
   },
   "file_extension": ".py",
   "mimetype": "text/x-python",
   "name": "python",
   "nbconvert_exporter": "python",
   "pygments_lexer": "ipython3",
   "version": "3.7.9-final"
  },
  "orig_nbformat": 2,
  "kernelspec": {
   "name": "python3",
   "display_name": "Python 3"
  }
 },
 "nbformat": 4,
 "nbformat_minor": 2,
 "cells": [
  {
   "cell_type": "code",
   "execution_count": 1,
   "metadata": {},
   "outputs": [],
   "source": [
    "# The usual suspects (and json)\n",
    "import json\n",
    "import numpy as np\n",
    "import pandas as pd\n",
    "import matplotlib.pyplot as plt\n",
    "import seaborn as sns\n",
    "\n",
    "# NLP libraries\n",
    "from sklearn.feature_extraction.text import CountVectorizer, TfidfVectorizer\n",
    "from sklearn.decomposition import TruncatedSVD, NMF\n",
    "from nltk.tokenize import TreebankWordTokenizer, TweetTokenizer\n",
    "from nltk.stem import PorterStemmer\n",
    "from nltk import SnowballStemmer\n",
    "from sklearn.manifold import TSNE\n",
    "import nltk\n",
    "\n",
    "from helper_functions.lyrics_cleaners import rep_linebrk, display_topics\n",
    "\n",
    "# Pipeline functions\n",
    "from helper_functions.pipeline import NLPPipe, tweet_clean1\n",
    "\n",
    "# # Helper functions\n",
    "# from Py_Files.helper_functions import txt_to_df, scatter, display_topics\n",
    "\n",
    "# Visualization packages\n",
    "import matplotlib.pyplot as plt\n",
    "import matplotlib.patches as mpatches\n",
    "import matplotlib\n",
    "%matplotlib inline\n",
    "import seaborn as sns\n",
    "\n",
    "import pickle\n",
    "%load_ext autoreload\n",
    "%autoreload 2"
   ]
  },
  {
   "cell_type": "code",
   "execution_count": 2,
   "metadata": {},
   "outputs": [],
   "source": [
    "all_proj = pd.read_pickle(\"AllBeatlesProj.pkl\")"
   ]
  },
  {
   "cell_type": "code",
   "execution_count": 3,
   "metadata": {},
   "outputs": [],
   "source": [
    "all_proj = all_proj.reset_index()\n",
    "all_proj = all_proj.drop_duplicates(subset='song_title').reset_index().drop(columns='index')\n",
    "all_proj['lyrics'] = all_proj['lyrics'].apply(lambda x: rep_linebrk(x))"
   ]
  },
  {
   "cell_type": "code",
   "execution_count": 4,
   "metadata": {},
   "outputs": [],
   "source": [
    "corpus_list = all_proj['lyrics'].tolist()\n",
    "# Let's turn all of the tweets into a list, so our Pipeline\n",
    "# can work with our data better"
   ]
  },
  {
   "cell_type": "code",
   "execution_count": 5,
   "metadata": {},
   "outputs": [],
   "source": [
    "stopwords = nltk.corpus.stopwords.words('english')\n",
    "stopwords.append('oh')\n",
    "stopwords.append('ve')\n",
    "stopwords.append('ll')\n",
    "stopwords.append('ooh')\n",
    "stopwords.append('na')\n",
    "stopwords.append('la')\n",
    "stopwords.append('ca')\n",
    "stopwords.append('wo')\n",
    "stopwords.append('ah')\n",
    "stopwords.append('yeah')\n",
    "stopwords.append('oo')\n",
    "stopwords.append('woah')\n",
    "stopwords.append('well')\n",
    "stopwords.append('doo')\n",
    "stopwords.append('da')\n",
    "stopwords.append('mm')\n",
    "stopwords.append('mmm')\n",
    "stopwords.append('uh')\n",
    "stopwords.append('hey')\n",
    "stopwords.append('go')\n",
    "stopwords.append('know')\n",
    "stopwords.append('like')\n",
    "stopwords.append('see')\n",
    "stopwords.append('get')\n",
    "stopwords.append('got')\n",
    "stopwords.append('one')\n",
    "stopwords.append('way')\n",
    "stopwords.append('could')\n",
    "stopwords.append('make')\n",
    "stopwords.append('thing')\n",
    "stopwords.append('whoa')"
   ]
  },
  {
   "cell_type": "code",
   "execution_count": 6,
   "metadata": {},
   "outputs": [],
   "source": [
    "nlp = NLPPipe(vectorizer=TfidfVectorizer(stop_words=stopwords, max_df=0.80, min_df=10), \n",
    "              tokenizer=TweetTokenizer().tokenize, \n",
    "              stemmer=SnowballStemmer(\"english\",ignore_stopwords=True))\n",
    "# TF-IDF may be better for our dataset. It works better with sparse datasets"
   ]
  },
  {
   "cell_type": "code",
   "execution_count": 7,
   "metadata": {},
   "outputs": [],
   "source": [
    "nlp.fit(corpus_list)\n",
    "dtm_tfidf = nlp.transform(corpus_list)\n",
    "# Fit the corpus and transform the corpus"
   ]
  },
  {
   "cell_type": "code",
   "execution_count": 18,
   "metadata": {},
   "outputs": [
    {
     "output_type": "stream",
     "name": "stdout",
     "text": [
      "\nTopic  0\ntime, look, take, never, day, life, world, let, good, littl, away, feel, long, tell, peopl, live, back, think, heart, right, night, girl, play, would, say\n\nTopic  1\nlove, true, need, give, feel, heart, forev, away, song, never, alway, ever, pleas, tell, hold, say, long, noth, find, word, mine, send, girl, kiss, wrong\n\nTopic  2\nbabi, say, let, man, said, cri, littl, pleas, woman, mayb, fine, bye, run, shake, honey, wait, long, keep, drive, girl, ride, leav, tri, song, everybodi\n\nTopic  3\ncome, back, home, said, easi, keep, move, pleas, sun, someth, fight, alon, forget, along, til, open, everyth, whatev, tonight, wait, alright, everybodi, flower, away, honey\n\nTopic  4\nwant, wanna, give, money, danc, tell, need, say, everyth, yes, tonight, tri, someth, peopl, right, night, drive, truth, peac, mind, anyth, woo, free, face, feel\n"
     ]
    }
   ],
   "source": [
    "nmf_model = NMF(5, random_state=1)\n",
    "doc_topic = nmf_model.fit_transform(dtm_tfidf)\n",
    "display_topics(nmf_model, nlp.vectorizer.get_feature_names(), 25)\n",
    "# These topics look a bit better than LDA.\n",
    "# 0 - IDK, # 1 - Love, # 2 - Relationships, # 3 - Longing, # 4 - Desire, # 5 - Rock N Roll"
   ]
  },
  {
   "cell_type": "code",
   "execution_count": 19,
   "metadata": {},
   "outputs": [],
   "source": [
    "H = pd.DataFrame(doc_topic.round(5),\n",
    "             index = corpus_list,\n",
    "             columns = range(5))"
   ]
  },
  {
   "cell_type": "code",
   "execution_count": 23,
   "metadata": {},
   "outputs": [
    {
     "output_type": "execute_result",
     "data": {
      "text/plain": [
       "                                                          0        1       2  \\\n",
       "One, two, three, four One, two...  (One, two, t...  0.06250  0.00000  0.0275   \n",
       "Ah, look at all the lonely people! Ah, look at ...  0.07139  0.00000  0.0000   \n",
       "When I wake up early in the morning Lift my hea...  0.10126  0.00376  0.0083   \n",
       "\n",
       "                                                          3        4  \n",
       "One, two, three, four One, two...  (One, two, t...  0.00000  0.07723  \n",
       "Ah, look at all the lonely people! Ah, look at ...  0.06725  0.01732  \n",
       "When I wake up early in the morning Lift my hea...  0.00940  0.00000  "
      ],
      "text/html": "<div>\n<style scoped>\n    .dataframe tbody tr th:only-of-type {\n        vertical-align: middle;\n    }\n\n    .dataframe tbody tr th {\n        vertical-align: top;\n    }\n\n    .dataframe thead th {\n        text-align: right;\n    }\n</style>\n<table border=\"1\" class=\"dataframe\">\n  <thead>\n    <tr style=\"text-align: right;\">\n      <th></th>\n      <th>0</th>\n      <th>1</th>\n      <th>2</th>\n      <th>3</th>\n      <th>4</th>\n    </tr>\n  </thead>\n  <tbody>\n    <tr>\n      <th>One, two, three, four One, two...  (One, two, three, four) Let me tell you how it will be There's one for you, nineteen for me 'Cause I'm the taxman Yeah, I'm the taxman Should five percent appear too small Be thankful I don't take it all 'Cause I'm the taxman Yeah, I'm the taxman If you drive a car, car, I'll tax the street If you try to sit, sit, I'll tax your seat If you get too cold, cold, I'll tax the heat If you take a walk, walk, I'll tax your feet Taxman 'Cause I'm the taxman Yeah, I'm the taxman Don't ask me what I want it for (Haha, Mr. Wilson) If you don't want to pay some more (Haha, Mr. Heath) 'Cause I'm the taxman Yeah, I'm the taxman Now my advice for those who die (Taxman!) Declare the pennies on your eyes (Taxman!) Cause I'm the taxman Yeah, I'm the taxman And you're working for no one but me (Taxman!)</th>\n      <td>0.06250</td>\n      <td>0.00000</td>\n      <td>0.0275</td>\n      <td>0.00000</td>\n      <td>0.07723</td>\n    </tr>\n    <tr>\n      <th>Ah, look at all the lonely people! Ah, look at all the lonely people! Eleanor Rigby Picks up the rice in the church where a wedding has been Lives in a dream Waits at the window Wearing the face that she keeps in a jar by the door Who is it for? All the lonely people Where do they all come from? All the lonely people Where do they all belong? Father McKenzie Writing the words of a sermon that no one will hear No one comes near Look at him working Darning his socks in the night when there's nobody there What does he care? All the lonely people Where do they all come from? All the lonely people Where do they all belong? Ah, look at all the lonely people! Ah, look at all the lonely people! Eleanor Rigby Died in the church and was buried along with her name Nobody came Father McKenzie Wiping the dirt from his hands as he walks from the grave No one was saved All the lonely people (Ah, look at all the lonely people!) Where do they all come from? All the lonely people (Ah, look at all the lonely people!) Where do they all belong?</th>\n      <td>0.07139</td>\n      <td>0.00000</td>\n      <td>0.0000</td>\n      <td>0.06725</td>\n      <td>0.01732</td>\n    </tr>\n    <tr>\n      <th>When I wake up early in the morning Lift my head, I'm still yawning When I'm in the middle of a dream Stay in bed, float up stream (Float up stream) Please, don't wake me, no, don't shake me Leave me where I am, I'm only sleeping Everybody seems to think I'm lazy I don't mind, I think they're crazy Running everywhere at such a speed Till they find there's no need (There's no need) Please, don't spoil my day, I'm miles away And after all, I'm only sleeping Keeping an eye on the world going by my window Taking my time Lying there and staring at the ceiling Waiting for a sleepy feeling Please, don't spoil my day, I'm miles away And after all, I'm only sleeping Keeping an eye on the world going by my window Taking my time When I wake up early in the morning Lift my head, I'm still yawning When I'm in the middle of a dream Stay in bed, float up stream Please, don't wake me, no, don't shake me Leave me where I am, I'm only sleeping</th>\n      <td>0.10126</td>\n      <td>0.00376</td>\n      <td>0.0083</td>\n      <td>0.00940</td>\n      <td>0.00000</td>\n    </tr>\n  </tbody>\n</table>\n</div>"
     },
     "metadata": {},
     "execution_count": 23
    }
   ],
   "source": [
    "H.head(3)"
   ]
  },
  {
   "cell_type": "code",
   "execution_count": 26,
   "metadata": {},
   "outputs": [],
   "source": [
    "all_proj['song_topic'] = H.idxmax(axis=1).tolist()"
   ]
  },
  {
   "cell_type": "code",
   "execution_count": 28,
   "metadata": {},
   "outputs": [],
   "source": [
    "plotting_x = TSNE(random_state=0,perplexity=50,metric='cosine').fit_transform(H)"
   ]
  },
  {
   "cell_type": "code",
   "execution_count": 29,
   "metadata": {},
   "outputs": [],
   "source": [
    "all_proj['x'] = plotting_x[:,1]\n",
    "all_proj['y'] = plotting_x[:,0]"
   ]
  },
  {
   "cell_type": "code",
   "execution_count": 30,
   "metadata": {},
   "outputs": [
    {
     "output_type": "execute_result",
     "data": {
      "text/plain": [
       "                                          song_title       artist  \\\n",
       "0                                             Taxman  The Beatles   \n",
       "1                                      Eleanor Rigby  The Beatles   \n",
       "2                                  I'm Only Sleeping  The Beatles   \n",
       "3                                        Love You To  The Beatles   \n",
       "4                         Here, There and Everywhere  The Beatles   \n",
       "..                                               ...          ...   \n",
       "866                              Red and Black Blues  Ringo Starr   \n",
       "867                                           Brandy  Ringo Starr   \n",
       "868  Stop and Take the Time to Smell the Other Roses  Ringo Starr   \n",
       "869                        You Can’t Fight Lightning  Ringo Starr   \n",
       "870                                  Hand Gun Promos  Ringo Starr   \n",
       "\n",
       "                  album_title         release_date  \\\n",
       "0               Revolver (UK)  1966-08-05 00:00:00   \n",
       "1               Revolver (UK)  1966-08-05 00:00:00   \n",
       "2               Revolver (UK)  1966-08-05 00:00:00   \n",
       "3               Revolver (UK)  1966-08-05 00:00:00   \n",
       "4               Revolver (UK)  1966-08-05 00:00:00   \n",
       "..                        ...                  ...   \n",
       "866  Stop and Smell the Roses  1981-10-27 00:00:00   \n",
       "867  Stop and Smell the Roses  1981-10-27 00:00:00   \n",
       "868  Stop and Smell the Roses  1981-10-27 00:00:00   \n",
       "869  Stop and Smell the Roses  1981-10-27 00:00:00   \n",
       "870  Stop and Smell the Roses  1981-10-27 00:00:00   \n",
       "\n",
       "                                                lyrics     singer  song_topic  \\\n",
       "0    One, two, three, four One, two...  (One, two, ...   Harrison           4   \n",
       "1    Ah, look at all the lonely people! Ah, look at...  McCartney           0   \n",
       "2    When I wake up early in the morning Lift my he...     Lennon           0   \n",
       "3    Each day just goes so fast I turn around, it's...   Harrison           1   \n",
       "4    To lead a better life I need my love to be her...  McCartney           1   \n",
       "..                                                 ...        ...         ...   \n",
       "866  Ended a worker, according to plan 'Cause you'r...      Starr           0   \n",
       "867  By the open fireplace in my favorite dungarees...      Starr           3   \n",
       "868  One, two, three, four Stop and take the time t...      Starr           0   \n",
       "869  I said, you can't fight lightning Said, you ca...      Starr           3   \n",
       "870  -\"Here we go -\"ready? -\"yeah Hi, harry, ona, b...      Starr           0   \n",
       "\n",
       "             x          y  \n",
       "0     3.705686 -17.085106  \n",
       "1     3.190551  13.226368  \n",
       "2    13.038831   2.706480  \n",
       "3   -17.362219  -5.855365  \n",
       "4   -15.858483  -7.347853  \n",
       "..         ...        ...  \n",
       "866   7.809428   2.286024  \n",
       "867   1.580441  16.107670  \n",
       "868   7.411470 -11.458018  \n",
       "869  -0.703041  21.020184  \n",
       "870 -10.492430   9.138935  \n",
       "\n",
       "[871 rows x 9 columns]"
      ],
      "text/html": "<div>\n<style scoped>\n    .dataframe tbody tr th:only-of-type {\n        vertical-align: middle;\n    }\n\n    .dataframe tbody tr th {\n        vertical-align: top;\n    }\n\n    .dataframe thead th {\n        text-align: right;\n    }\n</style>\n<table border=\"1\" class=\"dataframe\">\n  <thead>\n    <tr style=\"text-align: right;\">\n      <th></th>\n      <th>song_title</th>\n      <th>artist</th>\n      <th>album_title</th>\n      <th>release_date</th>\n      <th>lyrics</th>\n      <th>singer</th>\n      <th>song_topic</th>\n      <th>x</th>\n      <th>y</th>\n    </tr>\n  </thead>\n  <tbody>\n    <tr>\n      <th>0</th>\n      <td>Taxman</td>\n      <td>The Beatles</td>\n      <td>Revolver (UK)</td>\n      <td>1966-08-05 00:00:00</td>\n      <td>One, two, three, four One, two...  (One, two, ...</td>\n      <td>Harrison</td>\n      <td>4</td>\n      <td>3.705686</td>\n      <td>-17.085106</td>\n    </tr>\n    <tr>\n      <th>1</th>\n      <td>Eleanor Rigby</td>\n      <td>The Beatles</td>\n      <td>Revolver (UK)</td>\n      <td>1966-08-05 00:00:00</td>\n      <td>Ah, look at all the lonely people! Ah, look at...</td>\n      <td>McCartney</td>\n      <td>0</td>\n      <td>3.190551</td>\n      <td>13.226368</td>\n    </tr>\n    <tr>\n      <th>2</th>\n      <td>I'm Only Sleeping</td>\n      <td>The Beatles</td>\n      <td>Revolver (UK)</td>\n      <td>1966-08-05 00:00:00</td>\n      <td>When I wake up early in the morning Lift my he...</td>\n      <td>Lennon</td>\n      <td>0</td>\n      <td>13.038831</td>\n      <td>2.706480</td>\n    </tr>\n    <tr>\n      <th>3</th>\n      <td>Love You To</td>\n      <td>The Beatles</td>\n      <td>Revolver (UK)</td>\n      <td>1966-08-05 00:00:00</td>\n      <td>Each day just goes so fast I turn around, it's...</td>\n      <td>Harrison</td>\n      <td>1</td>\n      <td>-17.362219</td>\n      <td>-5.855365</td>\n    </tr>\n    <tr>\n      <th>4</th>\n      <td>Here, There and Everywhere</td>\n      <td>The Beatles</td>\n      <td>Revolver (UK)</td>\n      <td>1966-08-05 00:00:00</td>\n      <td>To lead a better life I need my love to be her...</td>\n      <td>McCartney</td>\n      <td>1</td>\n      <td>-15.858483</td>\n      <td>-7.347853</td>\n    </tr>\n    <tr>\n      <th>...</th>\n      <td>...</td>\n      <td>...</td>\n      <td>...</td>\n      <td>...</td>\n      <td>...</td>\n      <td>...</td>\n      <td>...</td>\n      <td>...</td>\n      <td>...</td>\n    </tr>\n    <tr>\n      <th>866</th>\n      <td>Red and Black Blues</td>\n      <td>Ringo Starr</td>\n      <td>Stop and Smell the Roses</td>\n      <td>1981-10-27 00:00:00</td>\n      <td>Ended a worker, according to plan 'Cause you'r...</td>\n      <td>Starr</td>\n      <td>0</td>\n      <td>7.809428</td>\n      <td>2.286024</td>\n    </tr>\n    <tr>\n      <th>867</th>\n      <td>Brandy</td>\n      <td>Ringo Starr</td>\n      <td>Stop and Smell the Roses</td>\n      <td>1981-10-27 00:00:00</td>\n      <td>By the open fireplace in my favorite dungarees...</td>\n      <td>Starr</td>\n      <td>3</td>\n      <td>1.580441</td>\n      <td>16.107670</td>\n    </tr>\n    <tr>\n      <th>868</th>\n      <td>Stop and Take the Time to Smell the Other Roses</td>\n      <td>Ringo Starr</td>\n      <td>Stop and Smell the Roses</td>\n      <td>1981-10-27 00:00:00</td>\n      <td>One, two, three, four Stop and take the time t...</td>\n      <td>Starr</td>\n      <td>0</td>\n      <td>7.411470</td>\n      <td>-11.458018</td>\n    </tr>\n    <tr>\n      <th>869</th>\n      <td>You Can’t Fight Lightning</td>\n      <td>Ringo Starr</td>\n      <td>Stop and Smell the Roses</td>\n      <td>1981-10-27 00:00:00</td>\n      <td>I said, you can't fight lightning Said, you ca...</td>\n      <td>Starr</td>\n      <td>3</td>\n      <td>-0.703041</td>\n      <td>21.020184</td>\n    </tr>\n    <tr>\n      <th>870</th>\n      <td>Hand Gun Promos</td>\n      <td>Ringo Starr</td>\n      <td>Stop and Smell the Roses</td>\n      <td>1981-10-27 00:00:00</td>\n      <td>-\"Here we go -\"ready? -\"yeah Hi, harry, ona, b...</td>\n      <td>Starr</td>\n      <td>0</td>\n      <td>-10.492430</td>\n      <td>9.138935</td>\n    </tr>\n  </tbody>\n</table>\n<p>871 rows × 9 columns</p>\n</div>"
     },
     "metadata": {},
     "execution_count": 30
    }
   ],
   "source": [
    "all_proj"
   ]
  },
  {
   "cell_type": "code",
   "execution_count": null,
   "metadata": {},
   "outputs": [],
   "source": []
  },
  {
   "cell_type": "code",
   "execution_count": null,
   "metadata": {},
   "outputs": [],
   "source": []
  },
  {
   "cell_type": "code",
   "execution_count": null,
   "metadata": {},
   "outputs": [],
   "source": []
  },
  {
   "cell_type": "code",
   "execution_count": 8,
   "metadata": {},
   "outputs": [],
   "source": [
    "from sklearn.decomposition import LatentDirichletAllocation\n",
    "import pyLDAvis\n",
    "import pyLDAvis.sklearn\n",
    "# There are a few different ways to get topics. Let's see how LDA works with out data."
   ]
  },
  {
   "cell_type": "code",
   "execution_count": 29,
   "metadata": {},
   "outputs": [
    {
     "output_type": "stream",
     "name": "stderr",
     "text": [
      "/Users/joecowell/opt/anaconda3/envs/proj5/lib/python3.7/site-packages/ipykernel/ipkernel.py:287: DeprecationWarning: `should_run_async` will not call `transform_cell` automatically in the future. Please pass the result to `transformed_cell` argument and any exception that happen during thetransform in `preprocessing_exc_tuple` in IPython 7.17 and above.\n  and should_run_async(code)\n"
     ]
    },
    {
     "output_type": "execute_result",
     "data": {
      "text/plain": [
       "PreparedData(topic_coordinates=              x         y  topics  cluster       Freq\n",
       "topic                                                \n",
       "4     -0.060478  0.039935       1        1  61.833371\n",
       "2     -0.059231 -0.041527       2        1  24.017919\n",
       "3      0.049832 -0.006855       3        1   4.823693\n",
       "0      0.035060  0.012228       4        1   4.798319\n",
       "1      0.034817 -0.003780       5        1   4.526698, topic_info=       Term      Freq      Total Category  logprob  loglift\n",
       "289    lord  7.000000   7.000000  Default  30.0000  30.0000\n",
       "508   thank  6.000000   6.000000  Default  29.0000  29.0000\n",
       "322    moon  6.000000   6.000000  Default  28.0000  28.0000\n",
       "522  togeth  8.000000   8.000000  Default  27.0000  27.0000\n",
       "194     god  5.000000   5.000000  Default  26.0000  26.0000\n",
       "..      ...       ...        ...      ...      ...      ...\n",
       "184    full  0.211584   2.405719   Topic5  -6.4947   0.6642\n",
       "97     come  0.242283  27.162222   Topic5  -6.3593  -1.6243\n",
       "587   would  0.223473  11.313617   Topic5  -6.4401  -0.8293\n",
       "461  someth  0.221400   9.232950   Topic5  -6.4494  -0.6354\n",
       "501    take  0.225087  18.423252   Topic5  -6.4329  -1.3097\n",
       "\n",
       "[285 rows x 6 columns], token_table=      Topic      Freq     Term\n",
       "term                          \n",
       "2         1  0.244299      ago\n",
       "2         2  0.488598      ago\n",
       "5         1  0.720618     aliv\n",
       "5         4  0.360309     aliv\n",
       "8         1  0.817754  alright\n",
       "...     ...       ...      ...\n",
       "585       1  0.204734    worri\n",
       "585       2  0.614202    worri\n",
       "587       1  0.530334    would\n",
       "587       2  0.353556    would\n",
       "594       1  0.541041      yet\n",
       "\n",
       "[389 rows x 3 columns], R=30, lambda_step=0.01, plot_opts={'xlab': 'PC1', 'ylab': 'PC2'}, topic_order=[5, 3, 4, 1, 2])"
      ],
      "text/html": "\n<link rel=\"stylesheet\" type=\"text/css\" href=\"https://cdn.rawgit.com/bmabey/pyLDAvis/files/ldavis.v1.0.0.css\">\n\n\n<div id=\"ldavis_el384521406941512331044381929193\"></div>\n<script type=\"text/javascript\">\n\nvar ldavis_el384521406941512331044381929193_data = {\"mdsDat\": {\"x\": [-0.060477799682957294, -0.05923072720028698, 0.04983217300368575, 0.035059741325611946, 0.034816612553946594], \"y\": [0.03993481127871195, -0.04152722872917371, -0.006855149714619528, 0.012227652711277973, -0.0037800855461966013], \"topics\": [1, 2, 3, 4, 5], \"cluster\": [1, 1, 1, 1, 1], \"Freq\": [61.83337104606448, 24.017919486548976, 4.823693009978991, 4.798318953873528, 4.526697503534013]}, \"tinfo\": {\"Term\": [\"lord\", \"thank\", \"moon\", \"togeth\", \"god\", \"song\", \"sweet\", \"imagin\", \"call\", \"name\", \"babe\", \"move\", \"live\", \"spin\", \"pain\", \"shoot\", \"side\", \"wanna\", \"travel\", \"enough\", \"ring\", \"rose\", \"say\", \"river\", \"rain\", \"door\", \"hair\", \"boy\", \"bad\", \"perfect\", \"littl\", \"tonight\", \"happen\", \"danc\", \"rock\", \"everybodi\", \"sun\", \"bye\", \"roll\", \"alright\", \"insid\", \"true\", \"mine\", \"tight\", \"face\", \"love\", \"matter\", \"care\", \"girl\", \"shine\", \"nobodi\", \"hold\", \"gave\", \"watch\", \"lone\", \"heaven\", \"tomorrow\", \"forev\", \"everi\", \"road\", \"need\", \"let\", \"mind\", \"come\", \"want\", \"take\", \"feel\", \"away\", \"say\", \"babi\", \"day\", \"night\", \"time\", \"heart\", \"give\", \"home\", \"long\", \"look\", \"never\", \"keep\", \"life\", \"think\", \"back\", \"good\", \"tell\", \"right\", \"world\", \"ha\", \"ho\", \"hell\", \"dear\", \"boy\", \"hill\", \"war\", \"note\", \"pie\", \"save\", \"honey\", \"paper\", \"worri\", \"instead\", \"phone\", \"okay\", \"pull\", \"ago\", \"sister\", \"countri\", \"truth\", \"short\", \"talk\", \"room\", \"nice\", \"taken\", \"sunshin\", \"sunday\", \"pass\", \"death\", \"gotta\", \"someth\", \"stop\", \"said\", \"pleas\", \"found\", \"fight\", \"dead\", \"call\", \"back\", \"tell\", \"man\", \"noth\", \"darl\", \"lie\", \"sing\", \"would\", \"never\", \"look\", \"right\", \"blue\", \"love\", \"time\", \"come\", \"good\", \"babi\", \"life\", \"cri\", \"want\", \"world\", \"peopl\", \"long\", \"day\", \"say\", \"thank\", \"babe\", \"lord\", \"spin\", \"return\", \"spread\", \"drink\", \"ring\", \"mad\", \"bell\", \"drive\", \"sweet\", \"memori\", \"top\", \"great\", \"door\", \"sister\", \"brother\", \"scene\", \"yet\", \"local\", \"tea\", \"blew\", \"somebodi\", \"death\", \"lift\", \"doubt\", \"cup\", \"book\", \"price\", \"wanna\", \"bad\", \"open\", \"hmm\", \"realli\", \"someon\", \"want\", \"good\", \"night\", \"us\", \"let\", \"new\", \"long\", \"god\", \"shoot\", \"rose\", \"bell\", \"garden\", \"bless\", \"hous\", \"middl\", \"perfect\", \"togeth\", \"name\", \"flower\", \"aliv\", \"hair\", \"side\", \"promis\", \"pain\", \"call\", \"learn\", \"warm\", \"tea\", \"scene\", \"mile\", \"enough\", \"local\", \"blew\", \"yet\", \"cup\", \"queen\", \"lift\", \"lord\", \"live\", \"hurt\", \"summer\", \"hard\", \"real\", \"everyon\", \"turn\", \"bad\", \"feel\", \"love\", \"imagin\", \"moon\", \"hmm\", \"bill\", \"travel\", \"kill\", \"move\", \"river\", \"meet\", \"song\", \"someday\", \"fall\", \"scene\", \"local\", \"tea\", \"blew\", \"short\", \"lift\", \"yet\", \"doubt\", \"cup\", \"price\", \"toe\", \"shoe\", \"instead\", \"scream\", \"special\", \"book\", \"mistak\", \"climb\", \"rain\", \"flow\", \"sail\", \"say\", \"water\", \"children\", \"differ\", \"sing\", \"catch\", \"bag\", \"letter\", \"cat\", \"hell\", \"taken\", \"hair\", \"full\", \"come\", \"would\", \"someth\", \"take\"], \"Freq\": [7.0, 6.0, 6.0, 8.0, 5.0, 9.0, 9.0, 4.0, 10.0, 6.0, 4.0, 5.0, 12.0, 3.0, 6.0, 3.0, 6.0, 7.0, 3.0, 6.0, 4.0, 3.0, 19.0, 4.0, 7.0, 5.0, 4.0, 8.0, 6.0, 3.0, 15.25295525412147, 6.736938109939935, 5.68605601278657, 8.019799067667174, 5.5287457198370396, 6.867196355586786, 8.035296317788006, 4.728242584099808, 7.801840563611331, 6.314849804611584, 5.674269813155878, 8.495087056762083, 7.82455450312118, 4.1006162183951425, 6.292632857422758, 51.57863305504219, 4.614076914886481, 6.263603546988387, 11.780269477736347, 4.568776720691564, 6.462538059735576, 9.334068048484824, 4.266925259213853, 4.939497775293265, 6.6409041293620055, 3.6199375034994703, 3.7515657113539467, 4.608644192988499, 8.776491398623307, 5.0028258732337845, 12.83959110188813, 15.915105286625348, 8.405640574951867, 20.807253563833413, 19.905742467297742, 14.252386317670194, 13.975233135378964, 12.471645962818366, 14.963786974337992, 15.417545220868702, 13.52003384912257, 11.196072085798107, 15.527252113058488, 11.188644755711692, 11.487611231713586, 8.929438893905427, 12.191480771544596, 12.833804607614015, 11.80192720391368, 8.783305631632892, 10.528112377617799, 9.250515576178369, 10.775437504916976, 9.716267683871864, 10.17489334250978, 9.598793114939738, 9.156354359643023, 3.2341582844834535, 2.4609845678366287, 2.4901540298984677, 4.457025737209988, 6.309927229192887, 1.7966739768605355, 2.5420355067360023, 1.5830881900541702, 1.9929435457201339, 2.6554809216859967, 3.0998829233040874, 1.5073822871161446, 2.956693440627779, 1.1659207563262186, 1.611869590589338, 2.2945007447716694, 1.8902915970044174, 2.387957536798552, 1.9421496599474648, 1.7088741638184874, 1.9751022336560742, 1.0851377481416895, 4.8161024539862884, 1.57149865504138, 1.6190226478595409, 1.6373766623434156, 1.9774823064757638, 1.6278184496825892, 2.0545087918609193, 1.1051472650009204, 2.837268290055708, 4.8527235583112205, 3.5683667266118384, 6.268447023427351, 4.826069615953937, 3.1249133042122663, 2.659760043135683, 2.6012365520818537, 4.507658017918086, 6.7236056954472305, 6.303326641355998, 4.973052457766251, 3.8125561312546483, 3.059706922301955, 3.057110625560432, 3.5855975878717854, 4.191261616916563, 5.278740425256668, 5.317216226594097, 4.680080012414767, 3.548009913781001, 8.588496840768263, 5.133128391393746, 5.710027683617956, 4.353223468538552, 4.6847036939877755, 4.20233986911766, 3.7572439850108528, 5.001438748980898, 3.9797333726134796, 3.8947842191096025, 4.063687936364926, 3.800793399365139, 3.7949473509466225, 5.481259257773768, 2.7782763596683635, 4.85610851272106, 2.1363198487041184, 1.3166370990141434, 0.9581588686924749, 1.1436913177790862, 1.1144804354549105, 0.6853096910691938, 0.6669350209392082, 0.8555652422936575, 1.8411303259749734, 0.8242112755778671, 0.354398436433056, 0.5025662252833467, 0.8391610137732023, 0.44920277310155876, 0.4141795977957406, 0.20249552458281095, 0.21851345438250677, 0.20235971075412945, 0.2023593325960011, 0.20255874958120548, 0.5705646668302701, 0.2352292862851446, 0.20253961643198068, 0.20238545215506354, 0.2023835234197176, 0.20757576353139928, 0.20243698763835605, 0.8050737028757955, 0.6416507653221912, 0.5344893735604147, 0.2542066099176855, 0.5786054772458115, 0.5136827740882909, 0.7787457772025567, 0.5898012798126082, 0.5455391544146608, 0.4360961677254605, 0.45191419061314586, 0.27643872154362265, 0.2839100832384728, 3.6443563683810885, 1.870050165096419, 1.5951731237677715, 1.353880312520492, 1.2075427133274417, 1.0493214875218404, 1.046928680513704, 1.020129809921571, 1.0775860465322167, 2.3065811354255845, 1.6205242603975478, 0.8670385174886434, 0.5798517138539402, 0.8120554340398127, 1.0388871422855832, 0.5298311599838692, 1.0811576562588086, 1.4065561776416529, 0.7966678855224077, 0.3877364169151211, 0.21982182654087806, 0.21692082410463626, 0.47577020237894496, 0.764910933649243, 0.19860308454914724, 0.19878606644980998, 0.20537673533859896, 0.2057289893449489, 0.21720395605276416, 0.19878801399548807, 0.71432588022327, 1.0269944487019984, 0.48921877376580275, 0.3287632023825167, 0.7014618183772139, 0.4668662793444529, 0.46022659717866166, 0.5597968389228243, 0.4850523801303894, 0.6924721506964105, 0.8771909181539276, 3.5135731486978106, 3.941785611650862, 1.1291886513795037, 1.13142911396212, 1.1914631956139252, 0.8023837225193756, 1.4501457227930004, 0.8922397242814315, 0.846769976871326, 1.8095381619651152, 0.41700775309842864, 0.7295853490517076, 0.20589402174474153, 0.20573477576239912, 0.2057437924748993, 0.20590118888587214, 0.21450575264081595, 0.20595349320312586, 0.20594386229975267, 0.20577074735628959, 0.20576522390391885, 0.20576452794767083, 0.2057785203449741, 0.2058007404851301, 0.21159252245201535, 0.20579350591816173, 0.20586167458314888, 0.20577016854498356, 0.20575629008459861, 0.20573915290299283, 0.6974401773376797, 0.34622904044363734, 0.2519394837283507, 0.78020444771022, 0.28974820329444745, 0.26669270438398446, 0.26187989375293796, 0.32806267198518085, 0.23569836051549345, 0.21936720762468184, 0.21208751884839686, 0.21081043386661893, 0.22019664674449793, 0.2168547989898745, 0.22341244842402125, 0.21158351397423375, 0.24228327656529963, 0.22347346883140673, 0.22139975665129855, 0.2250870218283246], \"Total\": [7.0, 6.0, 6.0, 8.0, 5.0, 9.0, 9.0, 4.0, 10.0, 6.0, 4.0, 5.0, 12.0, 3.0, 6.0, 3.0, 6.0, 7.0, 3.0, 6.0, 4.0, 3.0, 19.0, 4.0, 7.0, 5.0, 4.0, 8.0, 6.0, 3.0, 16.64560361704969, 7.521624211703388, 6.443217448712989, 9.153906010520476, 6.337507762216493, 7.897940333149188, 9.3073636219687, 5.483522250901, 9.056411267470843, 7.337169773764385, 6.595079148545997, 9.956402717714969, 9.222500042700016, 4.855572106989763, 7.490363686760323, 61.45316992891828, 5.500114376648572, 7.471898360989676, 14.097004913606611, 5.476550074162903, 7.767819565959806, 11.23758224012256, 5.159936677671907, 5.974390750142353, 8.058586877068674, 4.393609486546601, 4.562032293311585, 5.608517046622615, 10.722443834817522, 6.133030946557433, 15.94518365694479, 19.97269047557366, 10.50184631445504, 27.16222208642701, 26.090562370152554, 18.423252072149616, 18.337294951978947, 16.284971215335588, 19.941592804061187, 20.710648935321185, 17.928422258099936, 14.602928748159194, 21.268019409364065, 14.658196754983408, 15.321233804678675, 11.345785737764398, 16.943642342975338, 18.75970182485049, 17.68865043056466, 11.446213163916754, 15.337605971262839, 12.617115572799367, 18.10856205865636, 15.207937081952245, 17.259066327587174, 14.889882030211272, 13.747231185367795, 4.014215415187904, 3.2468915202115762, 3.2979030520324066, 6.071743078848074, 8.975513483842679, 2.600791288814393, 3.7737469792834806, 2.429292701081226, 3.103788328053923, 4.1365002644237965, 4.8886629024938175, 2.408272172125882, 4.88438612365019, 1.9586909643785253, 2.7139336764216275, 3.885920935781874, 3.2088837928550613, 4.0933470895413135, 3.3599481533310267, 2.9741926916499786, 3.4438066938175327, 1.8978165929944302, 8.545364787113611, 2.7924174997438946, 2.8985004315108043, 2.936880635431989, 3.607987066494424, 3.014495602825224, 3.824278875896558, 2.0721249195876683, 5.33271465880594, 9.232950412719143, 6.916969568147756, 13.377883135953363, 10.059544500251198, 6.261703988995103, 5.195748537205347, 5.1327755787776805, 10.257535321601573, 18.10856205865636, 17.259066327587174, 12.967411110374814, 9.174004915281829, 6.696899954675919, 6.728154272996316, 8.763559359114211, 11.313616648488336, 17.68865043056466, 18.75970182485049, 14.889882030211272, 9.254659255222643, 61.45316992891828, 21.268019409364065, 27.16222208642701, 15.207937081952245, 20.710648935321185, 15.337605971262839, 11.204927260093807, 26.090562370152554, 13.747231185367795, 13.388508981653386, 16.943642342975338, 17.928422258099936, 19.941592804061187, 6.692741713398871, 4.284789944057029, 7.675001793789201, 3.5590444605619367, 2.9394365103735045, 2.576500365288868, 3.4575477248375783, 4.170801606540256, 2.9188378735639673, 3.09304026460213, 4.112661828169658, 9.261526586281484, 4.718095391977743, 2.2500812556495577, 3.461941494695692, 5.834326948517325, 3.3599481533310267, 3.437832125310293, 1.707066545351763, 1.8482894013154907, 1.717199423872699, 1.7284121812847335, 1.7576839603455792, 4.997282677544311, 2.0721249195876683, 1.8336664203697983, 1.8484187902520062, 1.8527766600361988, 1.9166791479827476, 1.8863661692649696, 7.740230813407211, 6.996687686175812, 5.84757683272009, 2.4667969334611115, 9.481412504950445, 8.901829773443243, 26.090562370152554, 15.207937081952245, 14.602928748159194, 9.988445650353635, 19.97269047557366, 6.794897022414789, 16.943642342975338, 5.6194794838888384, 3.53313672674565, 3.1499408782226297, 3.09304026460213, 3.0230257650285166, 2.7067137158177488, 3.451562504166334, 3.390982705129935, 3.6707774528701687, 8.292441134514052, 6.78990353350654, 3.645158061106337, 2.775395535446905, 4.362224102638396, 6.039702664863513, 3.142322311101745, 6.596675177697261, 10.257535321601573, 5.828346346749495, 2.99864561691091, 1.7284121812847335, 1.707066545351763, 3.9726566376292394, 6.40269102314058, 1.717199423872699, 1.7576839603455792, 1.8482894013154907, 1.8527766600361988, 1.9908439083289502, 1.8336664203697983, 7.675001793789201, 12.299410595118657, 5.202202336097609, 3.29002036245275, 8.751953907790252, 5.195796598366388, 5.7289723564419575, 8.133306618455693, 6.996687686175812, 18.337294951978947, 61.45316992891828, 4.24779642742933, 6.905375755013768, 2.4667969334611115, 2.6760237478779176, 3.4102331034113074, 2.753732999448944, 5.481724754143661, 4.097119549609724, 3.952204505114043, 9.913814542848765, 2.2897013100521244, 5.5591004371428365, 1.707066545351763, 1.717199423872699, 1.7284121812847335, 1.7576839603455792, 1.8978165929944302, 1.8336664203697983, 1.8482894013154907, 1.8484187902520062, 1.8527766600361988, 1.8863661692649696, 1.896356198730378, 1.9016572611473073, 1.9586909643785253, 1.9092005964603505, 1.9106068670752887, 1.9166791479827476, 1.9171402318894608, 1.9230898768673435, 7.534668986701086, 3.8167957916260935, 2.718580732726967, 19.941592804061187, 3.9785554282213775, 3.568386785920563, 3.74786012244995, 8.763559359114211, 3.037324954882002, 2.4512007419497315, 2.206216863326836, 2.142618794628801, 3.2979030520324066, 2.936880635431989, 4.362224102638396, 2.4057186149952248, 27.16222208642701, 11.313616648488336, 9.232950412719143, 18.423252072149616], \"Category\": [\"Default\", \"Default\", \"Default\", \"Default\", \"Default\", \"Default\", \"Default\", \"Default\", \"Default\", \"Default\", \"Default\", \"Default\", \"Default\", \"Default\", \"Default\", \"Default\", \"Default\", \"Default\", \"Default\", \"Default\", \"Default\", \"Default\", \"Default\", \"Default\", \"Default\", \"Default\", \"Default\", \"Default\", \"Default\", \"Default\", \"Topic1\", \"Topic1\", \"Topic1\", \"Topic1\", \"Topic1\", \"Topic1\", \"Topic1\", \"Topic1\", \"Topic1\", \"Topic1\", \"Topic1\", \"Topic1\", \"Topic1\", \"Topic1\", \"Topic1\", \"Topic1\", \"Topic1\", \"Topic1\", \"Topic1\", \"Topic1\", \"Topic1\", \"Topic1\", \"Topic1\", \"Topic1\", \"Topic1\", \"Topic1\", \"Topic1\", \"Topic1\", \"Topic1\", \"Topic1\", \"Topic1\", \"Topic1\", \"Topic1\", \"Topic1\", \"Topic1\", \"Topic1\", \"Topic1\", \"Topic1\", \"Topic1\", \"Topic1\", \"Topic1\", \"Topic1\", \"Topic1\", \"Topic1\", \"Topic1\", \"Topic1\", \"Topic1\", \"Topic1\", \"Topic1\", \"Topic1\", \"Topic1\", \"Topic1\", \"Topic1\", \"Topic1\", \"Topic1\", \"Topic1\", \"Topic1\", \"Topic2\", \"Topic2\", \"Topic2\", \"Topic2\", \"Topic2\", \"Topic2\", \"Topic2\", \"Topic2\", \"Topic2\", \"Topic2\", \"Topic2\", \"Topic2\", \"Topic2\", \"Topic2\", \"Topic2\", \"Topic2\", \"Topic2\", \"Topic2\", \"Topic2\", \"Topic2\", \"Topic2\", \"Topic2\", \"Topic2\", \"Topic2\", \"Topic2\", \"Topic2\", \"Topic2\", \"Topic2\", \"Topic2\", \"Topic2\", \"Topic2\", \"Topic2\", \"Topic2\", \"Topic2\", \"Topic2\", \"Topic2\", \"Topic2\", \"Topic2\", \"Topic2\", \"Topic2\", \"Topic2\", \"Topic2\", \"Topic2\", \"Topic2\", \"Topic2\", \"Topic2\", \"Topic2\", \"Topic2\", \"Topic2\", \"Topic2\", \"Topic2\", \"Topic2\", \"Topic2\", \"Topic2\", \"Topic2\", \"Topic2\", \"Topic2\", \"Topic2\", \"Topic2\", \"Topic2\", \"Topic2\", \"Topic2\", \"Topic2\", \"Topic2\", \"Topic3\", \"Topic3\", \"Topic3\", \"Topic3\", \"Topic3\", \"Topic3\", \"Topic3\", \"Topic3\", \"Topic3\", \"Topic3\", \"Topic3\", \"Topic3\", \"Topic3\", \"Topic3\", \"Topic3\", \"Topic3\", \"Topic3\", \"Topic3\", \"Topic3\", \"Topic3\", \"Topic3\", \"Topic3\", \"Topic3\", \"Topic3\", \"Topic3\", \"Topic3\", \"Topic3\", \"Topic3\", \"Topic3\", \"Topic3\", \"Topic3\", \"Topic3\", \"Topic3\", \"Topic3\", \"Topic3\", \"Topic3\", \"Topic3\", \"Topic3\", \"Topic3\", \"Topic3\", \"Topic3\", \"Topic3\", \"Topic3\", \"Topic4\", \"Topic4\", \"Topic4\", \"Topic4\", \"Topic4\", \"Topic4\", \"Topic4\", \"Topic4\", \"Topic4\", \"Topic4\", \"Topic4\", \"Topic4\", \"Topic4\", \"Topic4\", \"Topic4\", \"Topic4\", \"Topic4\", \"Topic4\", \"Topic4\", \"Topic4\", \"Topic4\", \"Topic4\", \"Topic4\", \"Topic4\", \"Topic4\", \"Topic4\", \"Topic4\", \"Topic4\", \"Topic4\", \"Topic4\", \"Topic4\", \"Topic4\", \"Topic4\", \"Topic4\", \"Topic4\", \"Topic4\", \"Topic4\", \"Topic4\", \"Topic4\", \"Topic4\", \"Topic4\", \"Topic5\", \"Topic5\", \"Topic5\", \"Topic5\", \"Topic5\", \"Topic5\", \"Topic5\", \"Topic5\", \"Topic5\", \"Topic5\", \"Topic5\", \"Topic5\", \"Topic5\", \"Topic5\", \"Topic5\", \"Topic5\", \"Topic5\", \"Topic5\", \"Topic5\", \"Topic5\", \"Topic5\", \"Topic5\", \"Topic5\", \"Topic5\", \"Topic5\", \"Topic5\", \"Topic5\", \"Topic5\", \"Topic5\", \"Topic5\", \"Topic5\", \"Topic5\", \"Topic5\", \"Topic5\", \"Topic5\", \"Topic5\", \"Topic5\", \"Topic5\", \"Topic5\", \"Topic5\", \"Topic5\", \"Topic5\", \"Topic5\", \"Topic5\", \"Topic5\", \"Topic5\", \"Topic5\", \"Topic5\", \"Topic5\", \"Topic5\"], \"logprob\": [30.0, 29.0, 28.0, 27.0, 26.0, 25.0, 24.0, 23.0, 22.0, 21.0, 20.0, 19.0, 18.0, 17.0, 16.0, 15.0, 14.0, 13.0, 12.0, 11.0, 10.0, 9.0, 8.0, 7.0, 6.0, 5.0, 4.0, 3.0, 2.0, 1.0, -4.8313, -5.6485, -5.818, -5.4741, -5.8461, -5.6293, -5.4722, -6.0025, -5.5017, -5.7132, -5.8201, -5.4166, -5.4988, -6.1449, -5.7167, -3.613, -6.0269, -5.7213, -5.0896, -6.0368, -5.69, -5.3224, -6.1052, -5.9588, -5.6628, -6.2696, -6.2339, -6.0281, -5.384, -5.9461, -5.0035, -4.7888, -5.4272, -4.5208, -4.5651, -4.8991, -4.9188, -5.0326, -4.8504, -4.8206, -4.9519, -5.1405, -4.8135, -5.1412, -5.1148, -5.3667, -5.0553, -5.004, -5.0878, -5.3832, -5.202, -5.3314, -5.1788, -5.2823, -5.2361, -5.2944, -5.3416, -5.4366, -5.7099, -5.6981, -5.1159, -4.7683, -6.0245, -5.6775, -6.151, -5.9208, -5.6338, -5.4791, -6.2, -5.5263, -6.4569, -6.133, -5.7799, -5.9737, -5.74, -5.9466, -6.0746, -5.9298, -6.5287, -5.0385, -6.1584, -6.1286, -6.1173, -5.9286, -6.1232, -5.8904, -6.5104, -5.5676, -5.0309, -5.3383, -4.7749, -5.0364, -5.471, -5.6322, -5.6544, -5.1046, -4.7048, -4.7693, -5.0064, -5.2721, -5.4921, -5.4929, -5.3335, -5.1774, -4.9467, -4.9395, -5.0671, -5.344, -4.46, -4.9747, -4.8682, -5.1395, -5.0661, -5.1748, -5.2867, -5.0007, -5.2292, -5.2508, -5.2083, -5.2752, -5.2767, -3.3038, -3.9833, -3.4249, -4.2461, -4.7301, -5.0479, -4.8709, -4.8968, -5.383, -5.4102, -5.1611, -4.3948, -5.1985, -6.0425, -5.6932, -5.1805, -5.8054, -5.8866, -6.6022, -6.5261, -6.6029, -6.6029, -6.6019, -5.5663, -6.4523, -6.602, -6.6027, -6.6027, -6.5774, -6.6025, -5.222, -5.4489, -5.6316, -6.3748, -5.5523, -5.6713, -5.2552, -5.5331, -5.6111, -5.835, -5.7994, -6.2909, -6.2643, -3.7067, -4.3739, -4.5329, -4.6969, -4.8113, -4.9517, -4.954, -4.98, -4.9252, -4.1641, -4.5171, -5.1426, -5.5449, -5.2081, -4.9617, -5.6351, -4.9218, -4.6587, -5.2272, -5.9473, -6.5148, -6.5281, -5.7427, -5.2679, -6.6163, -6.6154, -6.5828, -6.5811, -6.5268, -6.6154, -5.3363, -4.9732, -5.7148, -6.1123, -5.3545, -5.7616, -5.7759, -5.5801, -5.7234, -5.3674, -5.1309, -3.685, -3.57, -4.8201, -4.8181, -4.7664, -5.1618, -4.5699, -5.0556, -5.1079, -4.3485, -5.8163, -5.2569, -6.522, -6.5228, -6.5227, -6.522, -6.481, -6.5217, -6.5218, -6.5226, -6.5226, -6.5226, -6.5226, -6.5225, -6.4947, -6.5225, -6.5222, -6.5226, -6.5227, -6.5228, -5.3019, -6.0023, -6.3202, -5.1898, -6.1804, -6.2633, -6.2815, -6.0562, -6.3868, -6.4586, -6.4924, -6.4984, -6.4548, -6.4701, -6.4403, -6.4947, -6.3593, -6.4401, -6.4494, -6.4329], \"loglift\": [30.0, 29.0, 28.0, 27.0, 26.0, 25.0, 24.0, 23.0, 22.0, 21.0, 20.0, 19.0, 18.0, 17.0, 16.0, 15.0, 14.0, 13.0, 12.0, 11.0, 10.0, 9.0, 8.0, 7.0, 6.0, 5.0, 4.0, 3.0, 2.0, 1.0, 0.3934, 0.3706, 0.3557, 0.3485, 0.3442, 0.3409, 0.3338, 0.3325, 0.3316, 0.3307, 0.3303, 0.322, 0.3163, 0.3117, 0.3065, 0.3056, 0.3051, 0.3043, 0.3012, 0.2995, 0.2968, 0.2951, 0.2907, 0.2905, 0.2872, 0.287, 0.2851, 0.2844, 0.2805, 0.277, 0.2641, 0.2536, 0.2581, 0.2142, 0.2102, 0.224, 0.2091, 0.2139, 0.1936, 0.1856, 0.1985, 0.2151, 0.1661, 0.2106, 0.1928, 0.2412, 0.1516, 0.1011, 0.0761, 0.2159, 0.1045, 0.1704, -0.0384, 0.0327, -0.0477, 0.0417, 0.0743, 1.2103, 1.1492, 1.1454, 1.1172, 1.074, 1.0565, 1.0313, 0.9981, 0.9834, 0.9831, 0.9708, 0.9578, 0.9244, 0.9076, 0.9054, 0.8995, 0.8972, 0.8874, 0.8782, 0.8722, 0.8704, 0.8674, 0.8529, 0.8515, 0.844, 0.8421, 0.825, 0.8102, 0.805, 0.7978, 0.7954, 0.7831, 0.7645, 0.6683, 0.6919, 0.7313, 0.7568, 0.7467, 0.6041, 0.4356, 0.4191, 0.468, 0.5483, 0.643, 0.6375, 0.5327, 0.4334, 0.2171, 0.1656, 0.269, 0.4676, -0.5415, 0.0049, -0.1332, 0.1755, -0.06, 0.1317, 0.3337, -0.2255, 0.1867, 0.1916, -0.0014, -0.1248, -0.2328, 2.8319, 2.5984, 2.5739, 2.5212, 2.2285, 2.0425, 1.9253, 1.7119, 1.5826, 1.4974, 1.4616, 1.4161, 1.2869, 1.1833, 1.1018, 1.0925, 1.0194, 0.9153, 0.8998, 0.8965, 0.8932, 0.8867, 0.8709, 0.8616, 0.8559, 0.8285, 0.8197, 0.8174, 0.8088, 0.7997, 0.7684, 0.6425, 0.6392, 0.7591, 0.2352, 0.1792, -0.48, -0.2182, -0.2556, -0.0997, -0.757, -0.1703, -1.0574, 2.6038, 2.4007, 2.3565, 2.2107, 2.1192, 2.0893, 1.8439, 1.8357, 1.8112, 1.7573, 1.6042, 1.6008, 1.4711, 1.3557, 1.2767, 1.2567, 1.2284, 1.05, 1.0469, 0.9913, 0.9748, 0.9739, 0.9146, 0.9122, 0.8798, 0.8574, 0.8397, 0.839, 0.8214, 0.8151, 0.6625, 0.554, 0.6729, 0.7336, 0.513, 0.6273, 0.5153, 0.3608, 0.368, -0.2395, -1.2124, 2.9054, 2.5345, 2.3138, 2.2343, 2.0436, 1.8621, 1.7654, 1.5709, 1.5546, 1.3943, 1.3921, 1.0645, 0.98, 0.9733, 0.9669, 0.9508, 0.9151, 0.9088, 0.9008, 0.8999, 0.8975, 0.8795, 0.8743, 0.8716, 0.8698, 0.8676, 0.8672, 0.8636, 0.8633, 0.8601, 0.7153, 0.6951, 0.7165, -0.1458, 0.4755, 0.5014, 0.4341, -0.19, 0.539, 0.6816, 0.7531, 0.7764, 0.3887, 0.4893, 0.1235, 0.6642, -1.6243, -0.8293, -0.6354, -1.3097]}, \"token.table\": {\"Topic\": [1, 2, 1, 4, 1, 1, 2, 2, 3, 1, 2, 1, 2, 1, 2, 3, 1, 2, 3, 4, 1, 5, 1, 4, 1, 2, 1, 2, 1, 2, 1, 2, 1, 2, 1, 1, 2, 4, 1, 2, 1, 2, 1, 1, 2, 1, 2, 1, 2, 1, 2, 1, 2, 1, 1, 2, 1, 2, 1, 2, 1, 2, 1, 2, 2, 1, 2, 1, 2, 3, 1, 2, 1, 2, 3, 1, 2, 3, 1, 2, 4, 1, 2, 1, 1, 1, 2, 1, 2, 5, 1, 2, 4, 1, 2, 1, 2, 1, 4, 1, 1, 2, 1, 2, 1, 4, 1, 1, 2, 1, 2, 1, 4, 1, 2, 3, 1, 2, 1, 3, 2, 1, 4, 1, 1, 2, 4, 1, 2, 1, 2, 2, 2, 5, 2, 1, 2, 1, 2, 1, 2, 1, 4, 1, 2, 5, 1, 2, 1, 2, 2, 5, 1, 2, 4, 1, 2, 1, 2, 1, 2, 1, 2, 1, 1, 2, 1, 2, 4, 1, 1, 2, 1, 2, 1, 2, 1, 2, 3, 4, 1, 2, 4, 1, 3, 1, 2, 1, 1, 2, 5, 1, 2, 3, 1, 4, 1, 1, 2, 1, 2, 1, 2, 1, 5, 1, 2, 5, 1, 2, 4, 1, 2, 1, 2, 1, 2, 1, 2, 1, 2, 3, 1, 2, 2, 1, 2, 1, 2, 1, 2, 3, 1, 2, 4, 2, 1, 2, 1, 2, 1, 2, 4, 2, 1, 2, 1, 2, 1, 2, 1, 2, 4, 1, 2, 1, 1, 2, 5, 1, 2, 1, 2, 3, 2, 3, 1, 2, 1, 2, 3, 1, 5, 1, 2, 1, 1, 2, 1, 2, 2, 4, 1, 2, 1, 2, 1, 2, 1, 2, 5, 1, 1, 1, 1, 2, 4, 2, 1, 2, 4, 1, 2, 1, 2, 1, 2, 3, 1, 2, 1, 2, 3, 1, 2, 1, 2, 5, 1, 2, 1, 3, 2, 3, 1, 2, 1, 1, 2, 1, 2, 1, 2, 1, 2, 3, 1, 2, 1, 2, 1, 2, 1, 1, 2, 2, 3, 1, 2, 1, 1, 2, 1, 1, 2, 4, 1, 1, 1, 2, 1, 5, 1, 2, 1, 2, 1, 2, 4, 1, 2, 1, 2, 3, 1, 2, 3, 1, 2, 1, 1, 1, 1, 2, 1, 2, 1, 2, 1], \"Freq\": [0.2442988532673042, 0.4885977065346084, 0.7206180072196275, 0.36030900360981377, 0.8177540093803307, 0.7368757267866447, 0.18421893169666118, 0.23338366945782077, 0.7001510083734623, 0.7242650892709643, 0.24142169642365477, 0.607447458520966, 0.38655747360425113, 0.5716990924010051, 0.28584954620050257, 0.14292477310025128, 0.40796332298944277, 0.32330649278781176, 0.32330649278781176, 0.32330649278781176, 0.3736887614667091, 0.3736887614667091, 0.36945170601386684, 0.36945170601386684, 0.5689304918066098, 0.5689304918066098, 0.5402684055794243, 0.4322147244635395, 0.5217357328963863, 0.5217357328963863, 0.22282847701140568, 0.668485431034217, 0.5817619729815874, 0.2908809864907937, 0.9118226882691043, 0.38995722408835487, 0.48744653011044364, 0.09748930602208872, 0.8030087817208051, 0.1338347969534675, 0.4667185793883813, 0.4667185793883813, 0.6584741605554348, 0.5604773585338915, 0.28023867926694573, 0.5199964973186643, 0.5199964973186643, 0.7731326226985575, 0.22089503505673072, 0.33622569338143143, 0.6724513867628629, 0.6247251621998835, 0.356985806971362, 0.5397304605404855, 0.873943865144092, 0.1092429831430115, 0.44796846605201796, 0.44796846605201796, 0.7808829911775922, 0.22310942605074063, 0.38965272673703766, 0.5844790901055565, 0.1646973508289022, 0.6587894033156088, 0.4825963871903002, 0.5336378452386356, 0.2668189226193178, 0.5141981288454169, 0.17139937628180565, 0.17139937628180565, 0.5410029400662303, 0.5410029400662303, 0.28922232737856884, 0.28922232737856884, 0.28922232737856884, 0.48630305227164783, 0.24315152613582391, 0.24315152613582391, 0.7809216440288966, 0.15618432880577932, 0.15618432880577932, 0.8393608899843834, 0.09326232110937593, 0.8863070249618931, 0.6982054984961116, 0.801029195765937, 0.13350486596098948, 0.5396556572275, 0.17988521907583332, 0.17988521907583332, 0.763471386410193, 0.16360101137361277, 0.05453367045787093, 0.3849300992298881, 0.5773951488448321, 0.5239997393593665, 0.26199986967968325, 0.5486730524363003, 0.27433652621815013, 0.8915012575402518, 0.47910281375045466, 0.47910281375045466, 0.4156762115763838, 0.4156762115763838, 0.3307944019427062, 0.3307944019427062, 0.775203311565588, 0.8512446490259392, 0.14187410817098986, 0.7179578446639793, 0.19580668490835798, 0.17795242475161985, 0.7118096990064794, 0.6575513790011221, 0.26302055160044885, 0.06575513790011221, 0.375043505599421, 0.5625652583991315, 0.5777105139022004, 0.2888552569511002, 0.7473440485155357, 0.6877225766978629, 0.2292408588992876, 0.9312117816539747, 0.5713009977748421, 0.22852039910993685, 0.11426019955496843, 0.7504333707528031, 0.2046636465689463, 0.9104131835676684, 0.6064459653437827, 0.7689967313416095, 0.4053839967268488, 0.4053839967268488, 0.6159737667705247, 0.8008840164805632, 0.0889871129422848, 0.7932460746234207, 0.17627690547187128, 0.20455490999182566, 0.6136647299754769, 0.5794477131982478, 0.2897238565991239, 0.5766788383418447, 0.19222627944728157, 0.9416647121248014, 0.9097692180574978, 0.5105450620778714, 0.7862862477847049, 0.17473027728548998, 0.363143413032459, 0.363143413032459, 0.3431505063379448, 0.3431505063379448, 0.1715752531689724, 0.8010938746368593, 0.15020510149441113, 0.45326459815562414, 0.45326459815562414, 0.4458875165869198, 0.4458875165869198, 0.7171914587328718, 0.26079689408468065, 0.5453554631808814, 0.90113884393089, 0.060075922928726, 0.6504376724503376, 0.2439141271688766, 0.0813047090562922, 0.5823435450174789, 0.8686386467978693, 0.12409123525683846, 0.7082302469029086, 0.2360767489676362, 0.6929747669432164, 0.26652875651662167, 0.13029312915721067, 0.13029312915721067, 0.6514656457860534, 0.13029312915721067, 0.8461727858814675, 0.14645298217179245, 0.016272553574643606, 0.685204210248908, 0.342602105124454, 0.5398147664493742, 0.3855819760352673, 0.9090720042528806, 0.5060466879717523, 0.25302334398587617, 0.25302334398587617, 0.6358497975901358, 0.21194993253004527, 0.21194993253004527, 0.5897995283120633, 0.29489976415603164, 0.7551621682034692, 0.7617708125273717, 0.09522135156592146, 0.8674437476779765, 0.10843046845974706, 0.521610252273741, 0.521610252273741, 0.28962942364836053, 0.5792588472967211, 0.1824243362901604, 0.3648486725803208, 0.1824243362901604, 0.44183249219900134, 0.1472774973996671, 0.2945549947993342, 0.8152932120250593, 0.12542972492693222, 0.6784011051100258, 0.2826671271291774, 0.5886770596824246, 0.2943385298412123, 0.3450059862432946, 0.6900119724865892, 0.753273551470737, 0.136958827540134, 0.068479413770067, 0.7724175296621516, 0.12873625494369192, 0.8232849006255372, 0.5450182386180243, 0.43601459089441946, 0.2573392553595003, 0.5146785107190006, 0.6840440261713224, 0.1710110065428306, 0.1710110065428306, 0.45477455220816665, 0.30318303480544445, 0.15159151740272223, 0.8304709173442455, 0.2614872064646597, 0.5229744129293195, 0.6722182441923091, 0.2987636640854707, 0.5448437083637981, 0.27242185418189907, 0.27242185418189907, 0.7369376847252352, 0.3221869194369323, 0.6443738388738646, 0.4970403977908885, 0.4970403977908885, 0.5301197701131664, 0.5301197701131664, 0.3182359735877588, 0.3182359735877588, 0.3182359735877588, 0.31163484393751245, 0.6232696878750249, 0.5022995503647333, 0.6635991586126939, 0.1327198317225388, 0.1327198317225388, 0.5773898079349817, 0.19246326931166055, 0.6328171036612186, 0.21093903455373952, 0.10546951727686976, 0.34020125846260696, 0.34020125846260696, 0.671596993160201, 0.3357984965801005, 0.4795241271758861, 0.23976206358794305, 0.23976206358794305, 0.4881478257549288, 0.2440739128774644, 0.8152575852901213, 0.16305151705802426, 0.9467444025506878, 0.8833521097628042, 0.11041901372035053, 0.35811263899173906, 0.7162252779834781, 0.31746627592713905, 0.6349325518542781, 0.52325169302663, 0.4485014511656829, 0.3678389933253574, 0.3678389933253574, 0.24175025651528573, 0.7252507695458571, 0.7521966849581437, 0.200585782655505, 0.05014644566387625, 0.5858002447080568, 0.5237794299111344, 0.9129835265432601, 0.5258571144395812, 0.2830346169255368, 0.5660692338510735, 0.5269213071965879, 0.662284258341117, 0.16557106458527926, 0.16557106458527926, 0.4564355458880928, 0.4564355458880928, 0.2976236401173654, 0.5952472802347308, 0.6003262560032355, 0.2001087520010785, 0.2001087520010785, 0.4367381874700658, 0.4367381874700658, 0.6740187301603713, 0.22467291005345708, 0.11233645502672854, 0.4332309631479958, 0.5415387039349948, 0.5043467353952775, 0.3026080412371665, 0.201738694158111, 0.5233939107163245, 0.5233939107163245, 0.2809742927016175, 0.561948585403235, 0.3881233682215619, 0.3881233682215619, 0.4337159460430224, 0.5782879280573632, 0.6078989731568031, 0.859534485266821, 0.10744181065835262, 0.3317304556897635, 0.663460911379527, 0.27716285606633717, 0.5543257121326743, 0.5398678018595968, 0.21594712074383873, 0.21594712074383873, 0.759909268199384, 0.16283770032843944, 0.34049732492887264, 0.6809946498577453, 0.35106751727252095, 0.585112528787535, 0.5785656979440502, 0.579405618484462, 0.3476433710906772, 0.14941559719808095, 0.7470779859904049, 0.713316759925911, 0.23777225330863702, 0.8237958188782455, 0.7523032442294736, 0.23509476382171052, 0.527327092172613, 0.6029587571251426, 0.12059175142502852, 0.24118350285005705, 0.8768022106867628, 0.9306500568199407, 0.44442839452538707, 0.44442839452538707, 0.5864701735489489, 0.29323508677447446, 0.8035030549503556, 0.10043788186879445, 0.2903763448149521, 0.5807526896299042, 0.6147561175984992, 0.24590244703939967, 0.12295122351969984, 0.6006940629233513, 0.30034703146167563, 0.7751706821981488, 0.12919511369969147, 0.12919511369969147, 0.7665607094341469, 0.19164017735853672, 0.03832803547170734, 0.2649886188686316, 0.7949658566058948, 0.6669677766258767, 0.8369054200013388, 0.7540425297885461, 0.6546772858216986, 0.29096768258742156, 0.2047340187046232, 0.6142020561138696, 0.530334391416885, 0.35355626094459, 0.54104081281225], \"Term\": [\"ago\", \"ago\", \"aliv\", \"aliv\", \"alright\", \"away\", \"away\", \"babe\", \"babe\", \"babi\", \"babi\", \"back\", \"back\", \"bad\", \"bad\", \"bad\", \"bag\", \"bell\", \"bell\", \"bell\", \"bill\", \"bill\", \"bless\", \"bless\", \"blew\", \"blew\", \"blue\", \"blue\", \"book\", \"book\", \"boy\", \"boy\", \"brother\", \"brother\", \"bye\", \"call\", \"call\", \"call\", \"care\", \"care\", \"cat\", \"cat\", \"catch\", \"children\", \"children\", \"climb\", \"climb\", \"come\", \"come\", \"countri\", \"countri\", \"cri\", \"cri\", \"cup\", \"danc\", \"danc\", \"darl\", \"darl\", \"day\", \"day\", \"dead\", \"dead\", \"dear\", \"dear\", \"death\", \"differ\", \"differ\", \"door\", \"door\", \"door\", \"doubt\", \"doubt\", \"drink\", \"drink\", \"drink\", \"drive\", \"drive\", \"drive\", \"enough\", \"enough\", \"enough\", \"everi\", \"everi\", \"everybodi\", \"everyon\", \"face\", \"face\", \"fall\", \"fall\", \"fall\", \"feel\", \"feel\", \"feel\", \"fight\", \"fight\", \"flow\", \"flow\", \"flower\", \"flower\", \"forev\", \"found\", \"found\", \"full\", \"full\", \"garden\", \"garden\", \"gave\", \"girl\", \"girl\", \"give\", \"give\", \"god\", \"god\", \"good\", \"good\", \"good\", \"gotta\", \"gotta\", \"great\", \"great\", \"ha\", \"hair\", \"hair\", \"happen\", \"hard\", \"hard\", \"hard\", \"heart\", \"heart\", \"heaven\", \"hell\", \"hill\", \"hmm\", \"hmm\", \"ho\", \"hold\", \"hold\", \"home\", \"home\", \"honey\", \"honey\", \"hous\", \"hous\", \"hurt\", \"hurt\", \"imagin\", \"insid\", \"instead\", \"keep\", \"keep\", \"kill\", \"kill\", \"learn\", \"learn\", \"learn\", \"let\", \"let\", \"letter\", \"letter\", \"lie\", \"lie\", \"life\", \"life\", \"lift\", \"littl\", \"littl\", \"live\", \"live\", \"live\", \"local\", \"lone\", \"lone\", \"long\", \"long\", \"look\", \"look\", \"lord\", \"lord\", \"lord\", \"lord\", \"love\", \"love\", \"love\", \"mad\", \"mad\", \"man\", \"man\", \"matter\", \"meet\", \"meet\", \"meet\", \"memori\", \"memori\", \"memori\", \"middl\", \"middl\", \"mile\", \"mind\", \"mind\", \"mine\", \"mine\", \"mistak\", \"mistak\", \"moon\", \"moon\", \"move\", \"move\", \"move\", \"name\", \"name\", \"name\", \"need\", \"need\", \"never\", \"never\", \"new\", \"new\", \"nice\", \"nice\", \"night\", \"night\", \"night\", \"nobodi\", \"nobodi\", \"note\", \"noth\", \"noth\", \"okay\", \"okay\", \"open\", \"open\", \"open\", \"pain\", \"pain\", \"pain\", \"paper\", \"pass\", \"pass\", \"peopl\", \"peopl\", \"perfect\", \"perfect\", \"perfect\", \"phone\", \"pie\", \"pie\", \"pleas\", \"pleas\", \"price\", \"price\", \"promis\", \"promis\", \"promis\", \"pull\", \"pull\", \"queen\", \"rain\", \"rain\", \"rain\", \"real\", \"real\", \"realli\", \"realli\", \"realli\", \"return\", \"return\", \"right\", \"right\", \"ring\", \"ring\", \"ring\", \"river\", \"river\", \"road\", \"road\", \"rock\", \"roll\", \"roll\", \"room\", \"room\", \"rose\", \"rose\", \"said\", \"said\", \"sail\", \"sail\", \"save\", \"save\", \"say\", \"say\", \"say\", \"scene\", \"scream\", \"shine\", \"shoe\", \"shoot\", \"shoot\", \"short\", \"side\", \"side\", \"side\", \"sing\", \"sing\", \"sister\", \"sister\", \"somebodi\", \"somebodi\", \"somebodi\", \"someday\", \"someday\", \"someon\", \"someon\", \"someon\", \"someth\", \"someth\", \"song\", \"song\", \"song\", \"special\", \"special\", \"spin\", \"spin\", \"spread\", \"spread\", \"stop\", \"stop\", \"summer\", \"sun\", \"sun\", \"sunday\", \"sunday\", \"sunshin\", \"sunshin\", \"sweet\", \"sweet\", \"sweet\", \"take\", \"take\", \"taken\", \"taken\", \"talk\", \"talk\", \"tea\", \"tell\", \"tell\", \"thank\", \"thank\", \"think\", \"think\", \"tight\", \"time\", \"time\", \"toe\", \"togeth\", \"togeth\", \"togeth\", \"tomorrow\", \"tonight\", \"top\", \"top\", \"travel\", \"travel\", \"true\", \"true\", \"truth\", \"truth\", \"turn\", \"turn\", \"turn\", \"us\", \"us\", \"wanna\", \"wanna\", \"wanna\", \"want\", \"want\", \"want\", \"war\", \"war\", \"warm\", \"watch\", \"water\", \"world\", \"world\", \"worri\", \"worri\", \"would\", \"would\", \"yet\"]}, \"R\": 30, \"lambda.step\": 0.01, \"plot.opts\": {\"xlab\": \"PC1\", \"ylab\": \"PC2\"}, \"topic.order\": [5, 3, 4, 1, 2]};\n\nfunction LDAvis_load_lib(url, callback){\n  var s = document.createElement('script');\n  s.src = url;\n  s.async = true;\n  s.onreadystatechange = s.onload = callback;\n  s.onerror = function(){console.warn(\"failed to load library \" + url);};\n  document.getElementsByTagName(\"head\")[0].appendChild(s);\n}\n\nif(typeof(LDAvis) !== \"undefined\"){\n   // already loaded: just create the visualization\n   !function(LDAvis){\n       new LDAvis(\"#\" + \"ldavis_el384521406941512331044381929193\", ldavis_el384521406941512331044381929193_data);\n   }(LDAvis);\n}else if(typeof define === \"function\" && define.amd){\n   // require.js is available: use it to load d3/LDAvis\n   require.config({paths: {d3: \"https://cdnjs.cloudflare.com/ajax/libs/d3/3.5.5/d3.min\"}});\n   require([\"d3\"], function(d3){\n      window.d3 = d3;\n      LDAvis_load_lib(\"https://cdn.rawgit.com/bmabey/pyLDAvis/files/ldavis.v1.0.0.js\", function(){\n        new LDAvis(\"#\" + \"ldavis_el384521406941512331044381929193\", ldavis_el384521406941512331044381929193_data);\n      });\n    });\n}else{\n    // require.js not available: dynamically load d3 & LDAvis\n    LDAvis_load_lib(\"https://cdnjs.cloudflare.com/ajax/libs/d3/3.5.5/d3.min.js\", function(){\n         LDAvis_load_lib(\"https://cdn.rawgit.com/bmabey/pyLDAvis/files/ldavis.v1.0.0.js\", function(){\n                 new LDAvis(\"#\" + \"ldavis_el384521406941512331044381929193\", ldavis_el384521406941512331044381929193_data);\n            })\n         });\n}\n</script>"
     },
     "metadata": {},
     "execution_count": 29
    }
   ],
   "source": [
    "pyLDAvis.enable_notebook()\n",
    "lda_tfidf = LatentDirichletAllocation(n_components=5, random_state=0)\n",
    "lda_tfidf.fit(dtm_tfidf)\n",
    "pyLDAvis.sklearn.prepare(lda_tfidf, dtm_tfidf, nlp.vectorizer)"
   ]
  },
  {
   "cell_type": "code",
   "execution_count": null,
   "metadata": {},
   "outputs": [],
   "source": []
  }
 ]
}