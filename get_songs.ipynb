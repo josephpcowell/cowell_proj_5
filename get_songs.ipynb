{
 "metadata": {
  "language_info": {
   "codemirror_mode": {
    "name": "ipython",
    "version": 3
   },
   "file_extension": ".py",
   "mimetype": "text/x-python",
   "name": "python",
   "nbconvert_exporter": "python",
   "pygments_lexer": "ipython3",
   "version": "3.7.7-final"
  },
  "orig_nbformat": 2,
  "kernelspec": {
   "name": "python3",
   "display_name": "Python 3"
  }
 },
 "nbformat": 4,
 "nbformat_minor": 2,
 "cells": [
  {
   "cell_type": "code",
   "execution_count": 169,
   "metadata": {},
   "outputs": [
    {
     "output_type": "stream",
     "name": "stdout",
     "text": [
      "The autoreload extension is already loaded. To reload it, use:\n  %reload_ext autoreload\n"
     ]
    }
   ],
   "source": [
    "import lyricsgenius\n",
    "import pandas as pd\n",
    "import json\n",
    "import numpy as np\n",
    "import os\n",
    "from helper_functions.genius_cleaner import get_song_info\n",
    "import re\n",
    "\n",
    "import pickle\n",
    "%load_ext autoreload\n",
    "%autoreload 2"
   ]
  },
  {
   "cell_type": "code",
   "execution_count": 110,
   "metadata": {},
   "outputs": [],
   "source": [
    "album_titles = [\n",
    "    'Please Please Me',\n",
    "    'With the Beatles',\n",
    "    \"A Hard Day's Night (US)\",\n",
    "    \"Beatles for Sale\",\n",
    "    'Help!',\n",
    "    \"Rubber Soul\",\n",
    "    \"Revolver\",\n",
    "    \"Sgt. Pepper's Lonely Hearts Club Band\",\n",
    "    \"Magical Mystery Tour\",\n",
    "    'The Beatles (The White Album)',\n",
    "    \"Yellow Submarine\",\n",
    "    \"Abbey Road\",\n",
    "    \"Let It Be\"\n",
    "]"
   ]
  },
  {
   "cell_type": "code",
   "execution_count": 3,
   "metadata": {},
   "outputs": [],
   "source": [
    "genius = lyricsgenius.Genius(\"5OcbBGGcbgVTW5RNyEvtZ5LHJ6U9u3FZMvddyAOjMyd0wHnF5H5p-vdGDu94fe_W\")"
   ]
  },
  {
   "cell_type": "code",
   "execution_count": 49,
   "metadata": {},
   "outputs": [
    {
     "output_type": "stream",
     "name": "stdout",
     "text": [
      "Searching for \"Sgt. Pepper's Lonely Hearts Club Band\" by The Beatles...\n",
      "Wrote Lyrics_TheBeatlesTheOriginalStudioRecordingsBoxset.json.\n",
      "Searching for \"Magical Mystery Tour\" by The Beatles...\n",
      "Wrote Lyrics_MagicalMysteryTourUS.json.\n",
      "Searching for \"The Beatles (The White Album)\" by The Beatles...\n",
      "Wrote Lyrics_TheBeatlesTheWhiteAlbum.json.\n",
      "Searching for \"Yellow Submarine\" by The Beatles...\n",
      "Wrote Lyrics_YellowSubmarine.json.\n",
      "Searching for \"Abbey Road\" by The Beatles...\n",
      "Wrote Lyrics_AbbeyRoad.json.\n",
      "Searching for \"Let It Be\" by The Beatles...\n",
      "Wrote Lyrics_LetItBe.json.\n"
     ]
    }
   ],
   "source": [
    "for albums in album_titles:\n",
    "    album = genius.search_album(albums, \"The Beatles\")\n",
    "    album.save_lyrics()\n",
    "# Sgt. Pepper's Lonely Hearts Club Band returned the wrong album"
   ]
  },
  {
   "cell_type": "code",
   "execution_count": 65,
   "metadata": {},
   "outputs": [],
   "source": [
    "album = genius.search_album(album_id=11039, artist=\"The Beatles\")\n",
    "album.save_lyrics()\n",
    "# Used the Genius API to find the album id for Sgt. Pepper's Lonely Hearts Club Band"
   ]
  },
  {
   "cell_type": "code",
   "execution_count": 170,
   "metadata": {},
   "outputs": [],
   "source": [
    "all_albums = []\n",
    "directory = 'Albums'\n",
    "for filename in os.listdir(directory):\n",
    "    all_albums.extend(get_song_info(filename))\n",
    "# Take helper functions to create a list of all The Beatles songs and relevant information"
   ]
  },
  {
   "cell_type": "code",
   "execution_count": 173,
   "metadata": {},
   "outputs": [
    {
     "output_type": "execute_result",
     "data": {
      "text/plain": [
       "                                 artist                    album_title  \\\n",
       "song_title                                                               \n",
       "Taxman                      The Beatles                  Revolver (UK)   \n",
       "Eleanor Rigby               The Beatles                  Revolver (UK)   \n",
       "I’m Only Sleeping           The Beatles                  Revolver (UK)   \n",
       "Love You To                 The Beatles                  Revolver (UK)   \n",
       "Here, There and Everywhere  The Beatles                  Revolver (UK)   \n",
       "...                                 ...                            ...   \n",
       "Honey Pie                   The Beatles  The Beatles (The White Album)   \n",
       "Savoy Truffle               The Beatles  The Beatles (The White Album)   \n",
       "Cry Baby Cry                The Beatles  The Beatles (The White Album)   \n",
       "Revolution 9                The Beatles  The Beatles (The White Album)   \n",
       "Good Night                  The Beatles  The Beatles (The White Album)   \n",
       "\n",
       "                           release_date  \\\n",
       "song_title                                \n",
       "Taxman                       1966-08-05   \n",
       "Eleanor Rigby                1966-08-05   \n",
       "I’m Only Sleeping            1966-08-05   \n",
       "Love You To                  1966-08-05   \n",
       "Here, There and Everywhere   1966-08-05   \n",
       "...                                 ...   \n",
       "Honey Pie                    1968-11-22   \n",
       "Savoy Truffle                1968-11-22   \n",
       "Cry Baby Cry                 1968-11-22   \n",
       "Revolution 9                 1968-11-22   \n",
       "Good Night                   1968-11-22   \n",
       "\n",
       "                                                                       lyrics  \n",
       "song_title                                                                     \n",
       "Taxman                       One, two, three, four One, two...  (One, two,...  \n",
       "Eleanor Rigby                Ah, look at all the lonely people! Ah, look a...  \n",
       "I’m Only Sleeping            When I wake up early in the morning Lift my h...  \n",
       "Love You To                  Each day just goes so fast I turn around, it'...  \n",
       "Here, There and Everywhere   To lead a better life I need my love to be he...  \n",
       "...                                                                       ...  \n",
       "Honey Pie                    She was a working girl North of England way N...  \n",
       "Savoy Truffle                Creme tangerine and Montelimar A ginger sling...  \n",
       "Cry Baby Cry                 Cry baby cry Make your mother sigh She's old ...  \n",
       "Revolution 9                 ...bottle of claret for you if I'd realised. ...  \n",
       "Good Night                   Now it's time to say good night Good night, s...  \n",
       "\n",
       "[192 rows x 4 columns]"
      ],
      "text/html": "<div>\n<style scoped>\n    .dataframe tbody tr th:only-of-type {\n        vertical-align: middle;\n    }\n\n    .dataframe tbody tr th {\n        vertical-align: top;\n    }\n\n    .dataframe thead th {\n        text-align: right;\n    }\n</style>\n<table border=\"1\" class=\"dataframe\">\n  <thead>\n    <tr style=\"text-align: right;\">\n      <th></th>\n      <th>artist</th>\n      <th>album_title</th>\n      <th>release_date</th>\n      <th>lyrics</th>\n    </tr>\n    <tr>\n      <th>song_title</th>\n      <th></th>\n      <th></th>\n      <th></th>\n      <th></th>\n    </tr>\n  </thead>\n  <tbody>\n    <tr>\n      <th>Taxman</th>\n      <td>The Beatles</td>\n      <td>Revolver (UK)</td>\n      <td>1966-08-05</td>\n      <td>One, two, three, four One, two...  (One, two,...</td>\n    </tr>\n    <tr>\n      <th>Eleanor Rigby</th>\n      <td>The Beatles</td>\n      <td>Revolver (UK)</td>\n      <td>1966-08-05</td>\n      <td>Ah, look at all the lonely people! Ah, look a...</td>\n    </tr>\n    <tr>\n      <th>I’m Only Sleeping</th>\n      <td>The Beatles</td>\n      <td>Revolver (UK)</td>\n      <td>1966-08-05</td>\n      <td>When I wake up early in the morning Lift my h...</td>\n    </tr>\n    <tr>\n      <th>Love You To</th>\n      <td>The Beatles</td>\n      <td>Revolver (UK)</td>\n      <td>1966-08-05</td>\n      <td>Each day just goes so fast I turn around, it'...</td>\n    </tr>\n    <tr>\n      <th>Here, There and Everywhere</th>\n      <td>The Beatles</td>\n      <td>Revolver (UK)</td>\n      <td>1966-08-05</td>\n      <td>To lead a better life I need my love to be he...</td>\n    </tr>\n    <tr>\n      <th>...</th>\n      <td>...</td>\n      <td>...</td>\n      <td>...</td>\n      <td>...</td>\n    </tr>\n    <tr>\n      <th>Honey Pie</th>\n      <td>The Beatles</td>\n      <td>The Beatles (The White Album)</td>\n      <td>1968-11-22</td>\n      <td>She was a working girl North of England way N...</td>\n    </tr>\n    <tr>\n      <th>Savoy Truffle</th>\n      <td>The Beatles</td>\n      <td>The Beatles (The White Album)</td>\n      <td>1968-11-22</td>\n      <td>Creme tangerine and Montelimar A ginger sling...</td>\n    </tr>\n    <tr>\n      <th>Cry Baby Cry</th>\n      <td>The Beatles</td>\n      <td>The Beatles (The White Album)</td>\n      <td>1968-11-22</td>\n      <td>Cry baby cry Make your mother sigh She's old ...</td>\n    </tr>\n    <tr>\n      <th>Revolution 9</th>\n      <td>The Beatles</td>\n      <td>The Beatles (The White Album)</td>\n      <td>1968-11-22</td>\n      <td>...bottle of claret for you if I'd realised. ...</td>\n    </tr>\n    <tr>\n      <th>Good Night</th>\n      <td>The Beatles</td>\n      <td>The Beatles (The White Album)</td>\n      <td>1968-11-22</td>\n      <td>Now it's time to say good night Good night, s...</td>\n    </tr>\n  </tbody>\n</table>\n<p>192 rows × 4 columns</p>\n</div>"
     },
     "metadata": {},
     "execution_count": 173
    }
   ],
   "source": [
    "all_songs = pd.DataFrame(all_albums).set_index('song_title')\n",
    "all_songs\n",
    "# Get our nice DataFrame and save it for future retrieval\n",
    "# all_songs.to_pickle(\"./Data/BeatlesDF.pkl\")"
   ]
  }
 ]
}