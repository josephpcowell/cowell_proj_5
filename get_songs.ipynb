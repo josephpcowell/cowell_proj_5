{
 "metadata": {
  "language_info": {
   "codemirror_mode": {
    "name": "ipython",
    "version": 3
   },
   "file_extension": ".py",
   "mimetype": "text/x-python",
   "name": "python",
   "nbconvert_exporter": "python",
   "pygments_lexer": "ipython3",
   "version": "3.7.7-final"
  },
  "orig_nbformat": 2,
  "kernelspec": {
   "name": "python3",
   "display_name": "Python 3"
  }
 },
 "nbformat": 4,
 "nbformat_minor": 2,
 "cells": [
  {
   "source": [],
   "cell_type": "markdown",
   "metadata": {}
  },
  {
   "source": [
    "# Data Collection\n",
    "The Beatles lyrics and information"
   ],
   "cell_type": "markdown",
   "metadata": {}
  },
  {
   "cell_type": "code",
   "execution_count": 5,
   "metadata": {},
   "outputs": [],
   "source": [
    "# The usual suspects\n",
    "import pandas as pd\n",
    "import numpy as np\n",
    "\n",
    "# API to get lyrics\n",
    "import lyricsgenius\n",
    "\n",
    "# Helper Functions for cleaning\n",
    "from helper_functions.genius_cleaner import get_song_inf\n",
    "from helper_functions.clearners import rep_tic\n",
    "\n",
    "# Extras\n",
    "import json\n",
    "import os\n",
    "import re\n",
    "\n",
    "import pickle\n",
    "%load_ext autoreload\n",
    "%autoreload 2"
   ]
  },
  {
   "cell_type": "code",
   "execution_count": 2,
   "metadata": {},
   "outputs": [],
   "source": [
    "genius = lyricsgenius.Genius(\"5OcbBGGcbgVTW5RNyEvtZ5LHJ6U9u3FZMvddyAOjMyd0wHnF5H5p-vdGDu94fe_W\")\n",
    "# Enter the key to access Genius through the lyricsgenius API"
   ]
  },
  {
   "source": [
    "## The Beatles"
   ],
   "cell_type": "markdown",
   "metadata": {}
  },
  {
   "cell_type": "code",
   "execution_count": 2,
   "metadata": {},
   "outputs": [],
   "source": [
    "album_titles = [\n",
    "    'Please Please Me',\n",
    "    'With the Beatles',\n",
    "    \"A Hard Day's Night (US)\",\n",
    "    \"Beatles for Sale\",\n",
    "    'Help!',\n",
    "    \"Rubber Soul\",\n",
    "    \"Revolver\",\n",
    "    \"Sgt. Pepper's Lonely Hearts Club Band\",\n",
    "    \"Magical Mystery Tour\",\n",
    "    'The Beatles (The White Album)',\n",
    "    \"Yellow Submarine\",\n",
    "    \"Abbey Road\",\n",
    "    \"Let It Be\"\n",
    "]\n",
    "# We'll search through these albums to pull lyrics"
   ]
  },
  {
   "cell_type": "code",
   "execution_count": 4,
   "metadata": {},
   "outputs": [
    {
     "output_type": "stream",
     "name": "stdout",
     "text": [
      "Searching for \"Please Please Me\" by The Beatles...\n"
     ]
    },
    {
     "output_type": "error",
     "ename": "KeyboardInterrupt",
     "evalue": "",
     "traceback": [
      "\u001b[0;31m---------------------------------------------------------------------------\u001b[0m",
      "\u001b[0;31mTypeError\u001b[0m                                 Traceback (most recent call last)",
      "\u001b[0;32m~/opt/anaconda3/lib/python3.7/site-packages/urllib3/connectionpool.py\u001b[0m in \u001b[0;36m_make_request\u001b[0;34m(self, conn, method, url, timeout, chunked, **httplib_request_kw)\u001b[0m\n\u001b[1;32m    376\u001b[0m             \u001b[0;32mtry\u001b[0m\u001b[0;34m:\u001b[0m  \u001b[0;31m# Python 2.7, use buffering of HTTP responses\u001b[0m\u001b[0;34m\u001b[0m\u001b[0;34m\u001b[0m\u001b[0m\n\u001b[0;32m--> 377\u001b[0;31m                 \u001b[0mhttplib_response\u001b[0m \u001b[0;34m=\u001b[0m \u001b[0mconn\u001b[0m\u001b[0;34m.\u001b[0m\u001b[0mgetresponse\u001b[0m\u001b[0;34m(\u001b[0m\u001b[0mbuffering\u001b[0m\u001b[0;34m=\u001b[0m\u001b[0;32mTrue\u001b[0m\u001b[0;34m)\u001b[0m\u001b[0;34m\u001b[0m\u001b[0;34m\u001b[0m\u001b[0m\n\u001b[0m\u001b[1;32m    378\u001b[0m             \u001b[0;32mexcept\u001b[0m \u001b[0mTypeError\u001b[0m\u001b[0;34m:\u001b[0m  \u001b[0;31m# Python 3\u001b[0m\u001b[0;34m\u001b[0m\u001b[0;34m\u001b[0m\u001b[0m\n",
      "\u001b[0;31mTypeError\u001b[0m: getresponse() got an unexpected keyword argument 'buffering'",
      "\nDuring handling of the above exception, another exception occurred:\n",
      "\u001b[0;31mWantReadError\u001b[0m                             Traceback (most recent call last)",
      "\u001b[0;32m~/opt/anaconda3/lib/python3.7/site-packages/urllib3/contrib/pyopenssl.py\u001b[0m in \u001b[0;36mrecv_into\u001b[0;34m(self, *args, **kwargs)\u001b[0m\n\u001b[1;32m    296\u001b[0m         \u001b[0;32mtry\u001b[0m\u001b[0;34m:\u001b[0m\u001b[0;34m\u001b[0m\u001b[0;34m\u001b[0m\u001b[0m\n\u001b[0;32m--> 297\u001b[0;31m             \u001b[0;32mreturn\u001b[0m \u001b[0mself\u001b[0m\u001b[0;34m.\u001b[0m\u001b[0mconnection\u001b[0m\u001b[0;34m.\u001b[0m\u001b[0mrecv_into\u001b[0m\u001b[0;34m(\u001b[0m\u001b[0;34m*\u001b[0m\u001b[0margs\u001b[0m\u001b[0;34m,\u001b[0m \u001b[0;34m**\u001b[0m\u001b[0mkwargs\u001b[0m\u001b[0;34m)\u001b[0m\u001b[0;34m\u001b[0m\u001b[0;34m\u001b[0m\u001b[0m\n\u001b[0m\u001b[1;32m    298\u001b[0m         \u001b[0;32mexcept\u001b[0m \u001b[0mOpenSSL\u001b[0m\u001b[0;34m.\u001b[0m\u001b[0mSSL\u001b[0m\u001b[0;34m.\u001b[0m\u001b[0mSysCallError\u001b[0m \u001b[0;32mas\u001b[0m \u001b[0me\u001b[0m\u001b[0;34m:\u001b[0m\u001b[0;34m\u001b[0m\u001b[0;34m\u001b[0m\u001b[0m\n",
      "\u001b[0;32m~/opt/anaconda3/lib/python3.7/site-packages/OpenSSL/SSL.py\u001b[0m in \u001b[0;36mrecv_into\u001b[0;34m(self, buffer, nbytes, flags)\u001b[0m\n\u001b[1;32m   1839\u001b[0m             \u001b[0mresult\u001b[0m \u001b[0;34m=\u001b[0m \u001b[0m_lib\u001b[0m\u001b[0;34m.\u001b[0m\u001b[0mSSL_read\u001b[0m\u001b[0;34m(\u001b[0m\u001b[0mself\u001b[0m\u001b[0;34m.\u001b[0m\u001b[0m_ssl\u001b[0m\u001b[0;34m,\u001b[0m \u001b[0mbuf\u001b[0m\u001b[0;34m,\u001b[0m \u001b[0mnbytes\u001b[0m\u001b[0;34m)\u001b[0m\u001b[0;34m\u001b[0m\u001b[0;34m\u001b[0m\u001b[0m\n\u001b[0;32m-> 1840\u001b[0;31m         \u001b[0mself\u001b[0m\u001b[0;34m.\u001b[0m\u001b[0m_raise_ssl_error\u001b[0m\u001b[0;34m(\u001b[0m\u001b[0mself\u001b[0m\u001b[0;34m.\u001b[0m\u001b[0m_ssl\u001b[0m\u001b[0;34m,\u001b[0m \u001b[0mresult\u001b[0m\u001b[0;34m)\u001b[0m\u001b[0;34m\u001b[0m\u001b[0;34m\u001b[0m\u001b[0m\n\u001b[0m\u001b[1;32m   1841\u001b[0m \u001b[0;34m\u001b[0m\u001b[0m\n",
      "\u001b[0;32m~/opt/anaconda3/lib/python3.7/site-packages/OpenSSL/SSL.py\u001b[0m in \u001b[0;36m_raise_ssl_error\u001b[0;34m(self, ssl, result)\u001b[0m\n\u001b[1;32m   1645\u001b[0m         \u001b[0;32mif\u001b[0m \u001b[0merror\u001b[0m \u001b[0;34m==\u001b[0m \u001b[0m_lib\u001b[0m\u001b[0;34m.\u001b[0m\u001b[0mSSL_ERROR_WANT_READ\u001b[0m\u001b[0;34m:\u001b[0m\u001b[0;34m\u001b[0m\u001b[0;34m\u001b[0m\u001b[0m\n\u001b[0;32m-> 1646\u001b[0;31m             \u001b[0;32mraise\u001b[0m \u001b[0mWantReadError\u001b[0m\u001b[0;34m(\u001b[0m\u001b[0;34m)\u001b[0m\u001b[0;34m\u001b[0m\u001b[0;34m\u001b[0m\u001b[0m\n\u001b[0m\u001b[1;32m   1647\u001b[0m         \u001b[0;32melif\u001b[0m \u001b[0merror\u001b[0m \u001b[0;34m==\u001b[0m \u001b[0m_lib\u001b[0m\u001b[0;34m.\u001b[0m\u001b[0mSSL_ERROR_WANT_WRITE\u001b[0m\u001b[0;34m:\u001b[0m\u001b[0;34m\u001b[0m\u001b[0;34m\u001b[0m\u001b[0m\n",
      "\u001b[0;31mWantReadError\u001b[0m: ",
      "\nDuring handling of the above exception, another exception occurred:\n",
      "\u001b[0;31mKeyboardInterrupt\u001b[0m                         Traceback (most recent call last)",
      "\u001b[0;32m<ipython-input-4-1d7bb0275149>\u001b[0m in \u001b[0;36m<module>\u001b[0;34m\u001b[0m\n\u001b[1;32m      1\u001b[0m \u001b[0;32mfor\u001b[0m \u001b[0malbums\u001b[0m \u001b[0;32min\u001b[0m \u001b[0malbum_titles\u001b[0m\u001b[0;34m:\u001b[0m\u001b[0;34m\u001b[0m\u001b[0;34m\u001b[0m\u001b[0m\n\u001b[0;32m----> 2\u001b[0;31m     \u001b[0malbum\u001b[0m \u001b[0;34m=\u001b[0m \u001b[0mgenius\u001b[0m\u001b[0;34m.\u001b[0m\u001b[0msearch_album\u001b[0m\u001b[0;34m(\u001b[0m\u001b[0malbums\u001b[0m\u001b[0;34m,\u001b[0m \u001b[0;34m\"The Beatles\"\u001b[0m\u001b[0;34m)\u001b[0m\u001b[0;34m\u001b[0m\u001b[0;34m\u001b[0m\u001b[0m\n\u001b[0m\u001b[1;32m      3\u001b[0m     \u001b[0malbum\u001b[0m\u001b[0;34m.\u001b[0m\u001b[0msave_lyrics\u001b[0m\u001b[0;34m(\u001b[0m\u001b[0;34m)\u001b[0m\u001b[0;34m\u001b[0m\u001b[0;34m\u001b[0m\u001b[0m\n\u001b[1;32m      4\u001b[0m \u001b[0;31m# Sgt. Pepper's Lonely Hearts Club Band returned the wrong album\u001b[0m\u001b[0;34m\u001b[0m\u001b[0;34m\u001b[0m\u001b[0;34m\u001b[0m\u001b[0m\n",
      "\u001b[0;32m~/opt/anaconda3/lib/python3.7/site-packages/lyricsgenius/genius.py\u001b[0m in \u001b[0;36msearch_album\u001b[0;34m(self, name, artist, album_id, get_full_info, text_format)\u001b[0m\n\u001b[1;32m    330\u001b[0m                 \u001b[0msong_info\u001b[0m \u001b[0;34m=\u001b[0m \u001b[0mtrack\u001b[0m\u001b[0;34m[\u001b[0m\u001b[0;34m'song'\u001b[0m\u001b[0;34m]\u001b[0m\u001b[0;34m\u001b[0m\u001b[0;34m\u001b[0m\u001b[0m\n\u001b[1;32m    331\u001b[0m                 \u001b[0;32mif\u001b[0m \u001b[0msong_info\u001b[0m\u001b[0;34m[\u001b[0m\u001b[0;34m'lyrics_state'\u001b[0m\u001b[0;34m]\u001b[0m \u001b[0;34m==\u001b[0m \u001b[0;34m'complete'\u001b[0m\u001b[0;34m:\u001b[0m\u001b[0;34m\u001b[0m\u001b[0;34m\u001b[0m\u001b[0m\n\u001b[0;32m--> 332\u001b[0;31m                     \u001b[0msong_lyrics\u001b[0m \u001b[0;34m=\u001b[0m \u001b[0mself\u001b[0m\u001b[0;34m.\u001b[0m\u001b[0mlyrics\u001b[0m\u001b[0;34m(\u001b[0m\u001b[0msong_info\u001b[0m\u001b[0;34m[\u001b[0m\u001b[0;34m'url'\u001b[0m\u001b[0;34m]\u001b[0m\u001b[0;34m)\u001b[0m\u001b[0;34m\u001b[0m\u001b[0;34m\u001b[0m\u001b[0m\n\u001b[0m\u001b[1;32m    333\u001b[0m                 \u001b[0;32melse\u001b[0m\u001b[0;34m:\u001b[0m\u001b[0;34m\u001b[0m\u001b[0;34m\u001b[0m\u001b[0m\n\u001b[1;32m    334\u001b[0m                     \u001b[0msong_lyrics\u001b[0m \u001b[0;34m=\u001b[0m \u001b[0;34m\"\"\u001b[0m\u001b[0;34m\u001b[0m\u001b[0;34m\u001b[0m\u001b[0m\n",
      "\u001b[0;32m~/opt/anaconda3/lib/python3.7/site-packages/lyricsgenius/genius.py\u001b[0m in \u001b[0;36mlyrics\u001b[0;34m(self, urlthing, remove_section_headers)\u001b[0m\n\u001b[1;32m    126\u001b[0m         \u001b[0;31m# Scrape the song lyrics from the HTML\u001b[0m\u001b[0;34m\u001b[0m\u001b[0;34m\u001b[0m\u001b[0;34m\u001b[0m\u001b[0m\n\u001b[1;32m    127\u001b[0m         html = BeautifulSoup(\n\u001b[0;32m--> 128\u001b[0;31m             \u001b[0mself\u001b[0m\u001b[0;34m.\u001b[0m\u001b[0m_make_request\u001b[0m\u001b[0;34m(\u001b[0m\u001b[0mpath\u001b[0m\u001b[0;34m,\u001b[0m \u001b[0mweb\u001b[0m\u001b[0;34m=\u001b[0m\u001b[0;32mTrue\u001b[0m\u001b[0;34m)\u001b[0m\u001b[0;34m.\u001b[0m\u001b[0mreplace\u001b[0m\u001b[0;34m(\u001b[0m\u001b[0;34m'<br/>'\u001b[0m\u001b[0;34m,\u001b[0m \u001b[0;34m'\\n'\u001b[0m\u001b[0;34m)\u001b[0m\u001b[0;34m,\u001b[0m\u001b[0;34m\u001b[0m\u001b[0;34m\u001b[0m\u001b[0m\n\u001b[0m\u001b[1;32m    129\u001b[0m             \u001b[0;34m\"html.parser\"\u001b[0m\u001b[0;34m\u001b[0m\u001b[0;34m\u001b[0m\u001b[0m\n\u001b[1;32m    130\u001b[0m         )\n",
      "\u001b[0;32m~/opt/anaconda3/lib/python3.7/site-packages/lyricsgenius/api/base.py\u001b[0m in \u001b[0;36m_make_request\u001b[0;34m(self, path, method, params_, public_api, web, **kwargs)\u001b[0m\n\u001b[1;32m     68\u001b[0m                                                  \u001b[0mparams\u001b[0m\u001b[0;34m=\u001b[0m\u001b[0mparams_\u001b[0m\u001b[0;34m,\u001b[0m\u001b[0;34m\u001b[0m\u001b[0;34m\u001b[0m\u001b[0m\n\u001b[1;32m     69\u001b[0m                                                  \u001b[0mheaders\u001b[0m\u001b[0;34m=\u001b[0m\u001b[0mheader\u001b[0m\u001b[0;34m,\u001b[0m\u001b[0;34m\u001b[0m\u001b[0;34m\u001b[0m\u001b[0m\n\u001b[0;32m---> 70\u001b[0;31m                                                  **kwargs)\n\u001b[0m\u001b[1;32m     71\u001b[0m                 \u001b[0mresponse\u001b[0m\u001b[0;34m.\u001b[0m\u001b[0mraise_for_status\u001b[0m\u001b[0;34m(\u001b[0m\u001b[0;34m)\u001b[0m\u001b[0;34m\u001b[0m\u001b[0;34m\u001b[0m\u001b[0m\n\u001b[1;32m     72\u001b[0m             \u001b[0;32mexcept\u001b[0m \u001b[0mTimeout\u001b[0m \u001b[0;32mas\u001b[0m \u001b[0me\u001b[0m\u001b[0;34m:\u001b[0m\u001b[0;34m\u001b[0m\u001b[0;34m\u001b[0m\u001b[0m\n",
      "\u001b[0;32m~/opt/anaconda3/lib/python3.7/site-packages/requests/sessions.py\u001b[0m in \u001b[0;36mrequest\u001b[0;34m(self, method, url, params, data, headers, cookies, files, auth, timeout, allow_redirects, proxies, hooks, stream, verify, cert, json)\u001b[0m\n\u001b[1;32m    531\u001b[0m         }\n\u001b[1;32m    532\u001b[0m         \u001b[0msend_kwargs\u001b[0m\u001b[0;34m.\u001b[0m\u001b[0mupdate\u001b[0m\u001b[0;34m(\u001b[0m\u001b[0msettings\u001b[0m\u001b[0;34m)\u001b[0m\u001b[0;34m\u001b[0m\u001b[0;34m\u001b[0m\u001b[0m\n\u001b[0;32m--> 533\u001b[0;31m         \u001b[0mresp\u001b[0m \u001b[0;34m=\u001b[0m \u001b[0mself\u001b[0m\u001b[0;34m.\u001b[0m\u001b[0msend\u001b[0m\u001b[0;34m(\u001b[0m\u001b[0mprep\u001b[0m\u001b[0;34m,\u001b[0m \u001b[0;34m**\u001b[0m\u001b[0msend_kwargs\u001b[0m\u001b[0;34m)\u001b[0m\u001b[0;34m\u001b[0m\u001b[0;34m\u001b[0m\u001b[0m\n\u001b[0m\u001b[1;32m    534\u001b[0m \u001b[0;34m\u001b[0m\u001b[0m\n\u001b[1;32m    535\u001b[0m         \u001b[0;32mreturn\u001b[0m \u001b[0mresp\u001b[0m\u001b[0;34m\u001b[0m\u001b[0;34m\u001b[0m\u001b[0m\n",
      "\u001b[0;32m~/opt/anaconda3/lib/python3.7/site-packages/requests/sessions.py\u001b[0m in \u001b[0;36msend\u001b[0;34m(self, request, **kwargs)\u001b[0m\n\u001b[1;32m    644\u001b[0m \u001b[0;34m\u001b[0m\u001b[0m\n\u001b[1;32m    645\u001b[0m         \u001b[0;31m# Send the request\u001b[0m\u001b[0;34m\u001b[0m\u001b[0;34m\u001b[0m\u001b[0;34m\u001b[0m\u001b[0m\n\u001b[0;32m--> 646\u001b[0;31m         \u001b[0mr\u001b[0m \u001b[0;34m=\u001b[0m \u001b[0madapter\u001b[0m\u001b[0;34m.\u001b[0m\u001b[0msend\u001b[0m\u001b[0;34m(\u001b[0m\u001b[0mrequest\u001b[0m\u001b[0;34m,\u001b[0m \u001b[0;34m**\u001b[0m\u001b[0mkwargs\u001b[0m\u001b[0;34m)\u001b[0m\u001b[0;34m\u001b[0m\u001b[0;34m\u001b[0m\u001b[0m\n\u001b[0m\u001b[1;32m    647\u001b[0m \u001b[0;34m\u001b[0m\u001b[0m\n\u001b[1;32m    648\u001b[0m         \u001b[0;31m# Total elapsed time of the request (approximately)\u001b[0m\u001b[0;34m\u001b[0m\u001b[0;34m\u001b[0m\u001b[0;34m\u001b[0m\u001b[0m\n",
      "\u001b[0;32m~/opt/anaconda3/lib/python3.7/site-packages/requests/adapters.py\u001b[0m in \u001b[0;36msend\u001b[0;34m(self, request, stream, timeout, verify, cert, proxies)\u001b[0m\n\u001b[1;32m    447\u001b[0m                     \u001b[0mdecode_content\u001b[0m\u001b[0;34m=\u001b[0m\u001b[0;32mFalse\u001b[0m\u001b[0;34m,\u001b[0m\u001b[0;34m\u001b[0m\u001b[0;34m\u001b[0m\u001b[0m\n\u001b[1;32m    448\u001b[0m                     \u001b[0mretries\u001b[0m\u001b[0;34m=\u001b[0m\u001b[0mself\u001b[0m\u001b[0;34m.\u001b[0m\u001b[0mmax_retries\u001b[0m\u001b[0;34m,\u001b[0m\u001b[0;34m\u001b[0m\u001b[0;34m\u001b[0m\u001b[0m\n\u001b[0;32m--> 449\u001b[0;31m                     \u001b[0mtimeout\u001b[0m\u001b[0;34m=\u001b[0m\u001b[0mtimeout\u001b[0m\u001b[0;34m\u001b[0m\u001b[0;34m\u001b[0m\u001b[0m\n\u001b[0m\u001b[1;32m    450\u001b[0m                 )\n\u001b[1;32m    451\u001b[0m \u001b[0;34m\u001b[0m\u001b[0m\n",
      "\u001b[0;32m~/opt/anaconda3/lib/python3.7/site-packages/urllib3/connectionpool.py\u001b[0m in \u001b[0;36murlopen\u001b[0;34m(self, method, url, body, headers, retries, redirect, assert_same_host, timeout, pool_timeout, release_conn, chunked, body_pos, **response_kw)\u001b[0m\n\u001b[1;32m    598\u001b[0m                                                   \u001b[0mtimeout\u001b[0m\u001b[0;34m=\u001b[0m\u001b[0mtimeout_obj\u001b[0m\u001b[0;34m,\u001b[0m\u001b[0;34m\u001b[0m\u001b[0;34m\u001b[0m\u001b[0m\n\u001b[1;32m    599\u001b[0m                                                   \u001b[0mbody\u001b[0m\u001b[0;34m=\u001b[0m\u001b[0mbody\u001b[0m\u001b[0;34m,\u001b[0m \u001b[0mheaders\u001b[0m\u001b[0;34m=\u001b[0m\u001b[0mheaders\u001b[0m\u001b[0;34m,\u001b[0m\u001b[0;34m\u001b[0m\u001b[0;34m\u001b[0m\u001b[0m\n\u001b[0;32m--> 600\u001b[0;31m                                                   chunked=chunked)\n\u001b[0m\u001b[1;32m    601\u001b[0m \u001b[0;34m\u001b[0m\u001b[0m\n\u001b[1;32m    602\u001b[0m             \u001b[0;31m# If we're going to release the connection in ``finally:``, then\u001b[0m\u001b[0;34m\u001b[0m\u001b[0;34m\u001b[0m\u001b[0;34m\u001b[0m\u001b[0m\n",
      "\u001b[0;32m~/opt/anaconda3/lib/python3.7/site-packages/urllib3/connectionpool.py\u001b[0m in \u001b[0;36m_make_request\u001b[0;34m(self, conn, method, url, timeout, chunked, **httplib_request_kw)\u001b[0m\n\u001b[1;32m    378\u001b[0m             \u001b[0;32mexcept\u001b[0m \u001b[0mTypeError\u001b[0m\u001b[0;34m:\u001b[0m  \u001b[0;31m# Python 3\u001b[0m\u001b[0;34m\u001b[0m\u001b[0;34m\u001b[0m\u001b[0m\n\u001b[1;32m    379\u001b[0m                 \u001b[0;32mtry\u001b[0m\u001b[0;34m:\u001b[0m\u001b[0;34m\u001b[0m\u001b[0;34m\u001b[0m\u001b[0m\n\u001b[0;32m--> 380\u001b[0;31m                     \u001b[0mhttplib_response\u001b[0m \u001b[0;34m=\u001b[0m \u001b[0mconn\u001b[0m\u001b[0;34m.\u001b[0m\u001b[0mgetresponse\u001b[0m\u001b[0;34m(\u001b[0m\u001b[0;34m)\u001b[0m\u001b[0;34m\u001b[0m\u001b[0;34m\u001b[0m\u001b[0m\n\u001b[0m\u001b[1;32m    381\u001b[0m                 \u001b[0;32mexcept\u001b[0m \u001b[0mException\u001b[0m \u001b[0;32mas\u001b[0m \u001b[0me\u001b[0m\u001b[0;34m:\u001b[0m\u001b[0;34m\u001b[0m\u001b[0;34m\u001b[0m\u001b[0m\n\u001b[1;32m    382\u001b[0m                     \u001b[0;31m# Remove the TypeError from the exception chain in Python 3;\u001b[0m\u001b[0;34m\u001b[0m\u001b[0;34m\u001b[0m\u001b[0;34m\u001b[0m\u001b[0m\n",
      "\u001b[0;32m~/opt/anaconda3/lib/python3.7/http/client.py\u001b[0m in \u001b[0;36mgetresponse\u001b[0;34m(self)\u001b[0m\n\u001b[1;32m   1342\u001b[0m         \u001b[0;32mtry\u001b[0m\u001b[0;34m:\u001b[0m\u001b[0;34m\u001b[0m\u001b[0;34m\u001b[0m\u001b[0m\n\u001b[1;32m   1343\u001b[0m             \u001b[0;32mtry\u001b[0m\u001b[0;34m:\u001b[0m\u001b[0;34m\u001b[0m\u001b[0;34m\u001b[0m\u001b[0m\n\u001b[0;32m-> 1344\u001b[0;31m                 \u001b[0mresponse\u001b[0m\u001b[0;34m.\u001b[0m\u001b[0mbegin\u001b[0m\u001b[0;34m(\u001b[0m\u001b[0;34m)\u001b[0m\u001b[0;34m\u001b[0m\u001b[0;34m\u001b[0m\u001b[0m\n\u001b[0m\u001b[1;32m   1345\u001b[0m             \u001b[0;32mexcept\u001b[0m \u001b[0mConnectionError\u001b[0m\u001b[0;34m:\u001b[0m\u001b[0;34m\u001b[0m\u001b[0;34m\u001b[0m\u001b[0m\n\u001b[1;32m   1346\u001b[0m                 \u001b[0mself\u001b[0m\u001b[0;34m.\u001b[0m\u001b[0mclose\u001b[0m\u001b[0;34m(\u001b[0m\u001b[0;34m)\u001b[0m\u001b[0;34m\u001b[0m\u001b[0;34m\u001b[0m\u001b[0m\n",
      "\u001b[0;32m~/opt/anaconda3/lib/python3.7/http/client.py\u001b[0m in \u001b[0;36mbegin\u001b[0;34m(self)\u001b[0m\n\u001b[1;32m    304\u001b[0m         \u001b[0;31m# read until we get a non-100 response\u001b[0m\u001b[0;34m\u001b[0m\u001b[0;34m\u001b[0m\u001b[0;34m\u001b[0m\u001b[0m\n\u001b[1;32m    305\u001b[0m         \u001b[0;32mwhile\u001b[0m \u001b[0;32mTrue\u001b[0m\u001b[0;34m:\u001b[0m\u001b[0;34m\u001b[0m\u001b[0;34m\u001b[0m\u001b[0m\n\u001b[0;32m--> 306\u001b[0;31m             \u001b[0mversion\u001b[0m\u001b[0;34m,\u001b[0m \u001b[0mstatus\u001b[0m\u001b[0;34m,\u001b[0m \u001b[0mreason\u001b[0m \u001b[0;34m=\u001b[0m \u001b[0mself\u001b[0m\u001b[0;34m.\u001b[0m\u001b[0m_read_status\u001b[0m\u001b[0;34m(\u001b[0m\u001b[0;34m)\u001b[0m\u001b[0;34m\u001b[0m\u001b[0;34m\u001b[0m\u001b[0m\n\u001b[0m\u001b[1;32m    307\u001b[0m             \u001b[0;32mif\u001b[0m \u001b[0mstatus\u001b[0m \u001b[0;34m!=\u001b[0m \u001b[0mCONTINUE\u001b[0m\u001b[0;34m:\u001b[0m\u001b[0;34m\u001b[0m\u001b[0;34m\u001b[0m\u001b[0m\n\u001b[1;32m    308\u001b[0m                 \u001b[0;32mbreak\u001b[0m\u001b[0;34m\u001b[0m\u001b[0;34m\u001b[0m\u001b[0m\n",
      "\u001b[0;32m~/opt/anaconda3/lib/python3.7/http/client.py\u001b[0m in \u001b[0;36m_read_status\u001b[0;34m(self)\u001b[0m\n\u001b[1;32m    265\u001b[0m \u001b[0;34m\u001b[0m\u001b[0m\n\u001b[1;32m    266\u001b[0m     \u001b[0;32mdef\u001b[0m \u001b[0m_read_status\u001b[0m\u001b[0;34m(\u001b[0m\u001b[0mself\u001b[0m\u001b[0;34m)\u001b[0m\u001b[0;34m:\u001b[0m\u001b[0;34m\u001b[0m\u001b[0;34m\u001b[0m\u001b[0m\n\u001b[0;32m--> 267\u001b[0;31m         \u001b[0mline\u001b[0m \u001b[0;34m=\u001b[0m \u001b[0mstr\u001b[0m\u001b[0;34m(\u001b[0m\u001b[0mself\u001b[0m\u001b[0;34m.\u001b[0m\u001b[0mfp\u001b[0m\u001b[0;34m.\u001b[0m\u001b[0mreadline\u001b[0m\u001b[0;34m(\u001b[0m\u001b[0m_MAXLINE\u001b[0m \u001b[0;34m+\u001b[0m \u001b[0;36m1\u001b[0m\u001b[0;34m)\u001b[0m\u001b[0;34m,\u001b[0m \u001b[0;34m\"iso-8859-1\"\u001b[0m\u001b[0;34m)\u001b[0m\u001b[0;34m\u001b[0m\u001b[0;34m\u001b[0m\u001b[0m\n\u001b[0m\u001b[1;32m    268\u001b[0m         \u001b[0;32mif\u001b[0m \u001b[0mlen\u001b[0m\u001b[0;34m(\u001b[0m\u001b[0mline\u001b[0m\u001b[0;34m)\u001b[0m \u001b[0;34m>\u001b[0m \u001b[0m_MAXLINE\u001b[0m\u001b[0;34m:\u001b[0m\u001b[0;34m\u001b[0m\u001b[0;34m\u001b[0m\u001b[0m\n\u001b[1;32m    269\u001b[0m             \u001b[0;32mraise\u001b[0m \u001b[0mLineTooLong\u001b[0m\u001b[0;34m(\u001b[0m\u001b[0;34m\"status line\"\u001b[0m\u001b[0;34m)\u001b[0m\u001b[0;34m\u001b[0m\u001b[0;34m\u001b[0m\u001b[0m\n",
      "\u001b[0;32m~/opt/anaconda3/lib/python3.7/socket.py\u001b[0m in \u001b[0;36mreadinto\u001b[0;34m(self, b)\u001b[0m\n\u001b[1;32m    587\u001b[0m         \u001b[0;32mwhile\u001b[0m \u001b[0;32mTrue\u001b[0m\u001b[0;34m:\u001b[0m\u001b[0;34m\u001b[0m\u001b[0;34m\u001b[0m\u001b[0m\n\u001b[1;32m    588\u001b[0m             \u001b[0;32mtry\u001b[0m\u001b[0;34m:\u001b[0m\u001b[0;34m\u001b[0m\u001b[0;34m\u001b[0m\u001b[0m\n\u001b[0;32m--> 589\u001b[0;31m                 \u001b[0;32mreturn\u001b[0m \u001b[0mself\u001b[0m\u001b[0;34m.\u001b[0m\u001b[0m_sock\u001b[0m\u001b[0;34m.\u001b[0m\u001b[0mrecv_into\u001b[0m\u001b[0;34m(\u001b[0m\u001b[0mb\u001b[0m\u001b[0;34m)\u001b[0m\u001b[0;34m\u001b[0m\u001b[0;34m\u001b[0m\u001b[0m\n\u001b[0m\u001b[1;32m    590\u001b[0m             \u001b[0;32mexcept\u001b[0m \u001b[0mtimeout\u001b[0m\u001b[0;34m:\u001b[0m\u001b[0;34m\u001b[0m\u001b[0;34m\u001b[0m\u001b[0m\n\u001b[1;32m    591\u001b[0m                 \u001b[0mself\u001b[0m\u001b[0;34m.\u001b[0m\u001b[0m_timeout_occurred\u001b[0m \u001b[0;34m=\u001b[0m \u001b[0;32mTrue\u001b[0m\u001b[0;34m\u001b[0m\u001b[0;34m\u001b[0m\u001b[0m\n",
      "\u001b[0;32m~/opt/anaconda3/lib/python3.7/site-packages/urllib3/contrib/pyopenssl.py\u001b[0m in \u001b[0;36mrecv_into\u001b[0;34m(self, *args, **kwargs)\u001b[0m\n\u001b[1;32m    307\u001b[0m                 \u001b[0;32mraise\u001b[0m\u001b[0;34m\u001b[0m\u001b[0;34m\u001b[0m\u001b[0m\n\u001b[1;32m    308\u001b[0m         \u001b[0;32mexcept\u001b[0m \u001b[0mOpenSSL\u001b[0m\u001b[0;34m.\u001b[0m\u001b[0mSSL\u001b[0m\u001b[0;34m.\u001b[0m\u001b[0mWantReadError\u001b[0m\u001b[0;34m:\u001b[0m\u001b[0;34m\u001b[0m\u001b[0;34m\u001b[0m\u001b[0m\n\u001b[0;32m--> 309\u001b[0;31m             \u001b[0;32mif\u001b[0m \u001b[0;32mnot\u001b[0m \u001b[0mutil\u001b[0m\u001b[0;34m.\u001b[0m\u001b[0mwait_for_read\u001b[0m\u001b[0;34m(\u001b[0m\u001b[0mself\u001b[0m\u001b[0;34m.\u001b[0m\u001b[0msocket\u001b[0m\u001b[0;34m,\u001b[0m \u001b[0mself\u001b[0m\u001b[0;34m.\u001b[0m\u001b[0msocket\u001b[0m\u001b[0;34m.\u001b[0m\u001b[0mgettimeout\u001b[0m\u001b[0;34m(\u001b[0m\u001b[0;34m)\u001b[0m\u001b[0;34m)\u001b[0m\u001b[0;34m:\u001b[0m\u001b[0;34m\u001b[0m\u001b[0;34m\u001b[0m\u001b[0m\n\u001b[0m\u001b[1;32m    310\u001b[0m                 \u001b[0;32mraise\u001b[0m \u001b[0mtimeout\u001b[0m\u001b[0;34m(\u001b[0m\u001b[0;34m'The read operation timed out'\u001b[0m\u001b[0;34m)\u001b[0m\u001b[0;34m\u001b[0m\u001b[0;34m\u001b[0m\u001b[0m\n\u001b[1;32m    311\u001b[0m             \u001b[0;32melse\u001b[0m\u001b[0;34m:\u001b[0m\u001b[0;34m\u001b[0m\u001b[0;34m\u001b[0m\u001b[0m\n",
      "\u001b[0;32m~/opt/anaconda3/lib/python3.7/site-packages/urllib3/util/wait.py\u001b[0m in \u001b[0;36mwait_for_read\u001b[0;34m(sock, timeout)\u001b[0m\n\u001b[1;32m    141\u001b[0m     \u001b[0mReturns\u001b[0m \u001b[0;32mTrue\u001b[0m \u001b[0;32mif\u001b[0m \u001b[0mthe\u001b[0m \u001b[0msocket\u001b[0m \u001b[0;32mis\u001b[0m \u001b[0mreadable\u001b[0m\u001b[0;34m,\u001b[0m \u001b[0;32mor\u001b[0m \u001b[0;32mFalse\u001b[0m \u001b[0;32mif\u001b[0m \u001b[0mthe\u001b[0m \u001b[0mtimeout\u001b[0m \u001b[0mexpired\u001b[0m\u001b[0;34m.\u001b[0m\u001b[0;34m\u001b[0m\u001b[0;34m\u001b[0m\u001b[0m\n\u001b[1;32m    142\u001b[0m     \"\"\"\n\u001b[0;32m--> 143\u001b[0;31m     \u001b[0;32mreturn\u001b[0m \u001b[0mwait_for_socket\u001b[0m\u001b[0;34m(\u001b[0m\u001b[0msock\u001b[0m\u001b[0;34m,\u001b[0m \u001b[0mread\u001b[0m\u001b[0;34m=\u001b[0m\u001b[0;32mTrue\u001b[0m\u001b[0;34m,\u001b[0m \u001b[0mtimeout\u001b[0m\u001b[0;34m=\u001b[0m\u001b[0mtimeout\u001b[0m\u001b[0;34m)\u001b[0m\u001b[0;34m\u001b[0m\u001b[0;34m\u001b[0m\u001b[0m\n\u001b[0m\u001b[1;32m    144\u001b[0m \u001b[0;34m\u001b[0m\u001b[0m\n\u001b[1;32m    145\u001b[0m \u001b[0;34m\u001b[0m\u001b[0m\n",
      "\u001b[0;32m~/opt/anaconda3/lib/python3.7/site-packages/urllib3/util/wait.py\u001b[0m in \u001b[0;36mpoll_wait_for_socket\u001b[0;34m(sock, read, write, timeout)\u001b[0m\n\u001b[1;32m    102\u001b[0m         \u001b[0;32mreturn\u001b[0m \u001b[0mpoll_obj\u001b[0m\u001b[0;34m.\u001b[0m\u001b[0mpoll\u001b[0m\u001b[0;34m(\u001b[0m\u001b[0mt\u001b[0m\u001b[0;34m)\u001b[0m\u001b[0;34m\u001b[0m\u001b[0;34m\u001b[0m\u001b[0m\n\u001b[1;32m    103\u001b[0m \u001b[0;34m\u001b[0m\u001b[0m\n\u001b[0;32m--> 104\u001b[0;31m     \u001b[0;32mreturn\u001b[0m \u001b[0mbool\u001b[0m\u001b[0;34m(\u001b[0m\u001b[0m_retry_on_intr\u001b[0m\u001b[0;34m(\u001b[0m\u001b[0mdo_poll\u001b[0m\u001b[0;34m,\u001b[0m \u001b[0mtimeout\u001b[0m\u001b[0;34m)\u001b[0m\u001b[0;34m)\u001b[0m\u001b[0;34m\u001b[0m\u001b[0;34m\u001b[0m\u001b[0m\n\u001b[0m\u001b[1;32m    105\u001b[0m \u001b[0;34m\u001b[0m\u001b[0m\n\u001b[1;32m    106\u001b[0m \u001b[0;34m\u001b[0m\u001b[0m\n",
      "\u001b[0;32m~/opt/anaconda3/lib/python3.7/site-packages/urllib3/util/wait.py\u001b[0m in \u001b[0;36m_retry_on_intr\u001b[0;34m(fn, timeout)\u001b[0m\n\u001b[1;32m     40\u001b[0m     \u001b[0;31m# Modern Python, that retries syscalls by default\u001b[0m\u001b[0;34m\u001b[0m\u001b[0;34m\u001b[0m\u001b[0;34m\u001b[0m\u001b[0m\n\u001b[1;32m     41\u001b[0m     \u001b[0;32mdef\u001b[0m \u001b[0m_retry_on_intr\u001b[0m\u001b[0;34m(\u001b[0m\u001b[0mfn\u001b[0m\u001b[0;34m,\u001b[0m \u001b[0mtimeout\u001b[0m\u001b[0;34m)\u001b[0m\u001b[0;34m:\u001b[0m\u001b[0;34m\u001b[0m\u001b[0;34m\u001b[0m\u001b[0m\n\u001b[0;32m---> 42\u001b[0;31m         \u001b[0;32mreturn\u001b[0m \u001b[0mfn\u001b[0m\u001b[0;34m(\u001b[0m\u001b[0mtimeout\u001b[0m\u001b[0;34m)\u001b[0m\u001b[0;34m\u001b[0m\u001b[0;34m\u001b[0m\u001b[0m\n\u001b[0m\u001b[1;32m     43\u001b[0m \u001b[0;32melse\u001b[0m\u001b[0;34m:\u001b[0m\u001b[0;34m\u001b[0m\u001b[0;34m\u001b[0m\u001b[0m\n\u001b[1;32m     44\u001b[0m     \u001b[0;31m# Old and broken Pythons.\u001b[0m\u001b[0;34m\u001b[0m\u001b[0;34m\u001b[0m\u001b[0;34m\u001b[0m\u001b[0m\n",
      "\u001b[0;32m~/opt/anaconda3/lib/python3.7/site-packages/urllib3/util/wait.py\u001b[0m in \u001b[0;36mdo_poll\u001b[0;34m(t)\u001b[0m\n\u001b[1;32m    100\u001b[0m         \u001b[0;32mif\u001b[0m \u001b[0mt\u001b[0m \u001b[0;32mis\u001b[0m \u001b[0;32mnot\u001b[0m \u001b[0;32mNone\u001b[0m\u001b[0;34m:\u001b[0m\u001b[0;34m\u001b[0m\u001b[0;34m\u001b[0m\u001b[0m\n\u001b[1;32m    101\u001b[0m             \u001b[0mt\u001b[0m \u001b[0;34m*=\u001b[0m \u001b[0;36m1000\u001b[0m\u001b[0;34m\u001b[0m\u001b[0;34m\u001b[0m\u001b[0m\n\u001b[0;32m--> 102\u001b[0;31m         \u001b[0;32mreturn\u001b[0m \u001b[0mpoll_obj\u001b[0m\u001b[0;34m.\u001b[0m\u001b[0mpoll\u001b[0m\u001b[0;34m(\u001b[0m\u001b[0mt\u001b[0m\u001b[0;34m)\u001b[0m\u001b[0;34m\u001b[0m\u001b[0;34m\u001b[0m\u001b[0m\n\u001b[0m\u001b[1;32m    103\u001b[0m \u001b[0;34m\u001b[0m\u001b[0m\n\u001b[1;32m    104\u001b[0m     \u001b[0;32mreturn\u001b[0m \u001b[0mbool\u001b[0m\u001b[0;34m(\u001b[0m\u001b[0m_retry_on_intr\u001b[0m\u001b[0;34m(\u001b[0m\u001b[0mdo_poll\u001b[0m\u001b[0;34m,\u001b[0m \u001b[0mtimeout\u001b[0m\u001b[0;34m)\u001b[0m\u001b[0;34m)\u001b[0m\u001b[0;34m\u001b[0m\u001b[0;34m\u001b[0m\u001b[0m\n",
      "\u001b[0;31mKeyboardInterrupt\u001b[0m: "
     ]
    }
   ],
   "source": [
    "for albums in album_titles:\n",
    "    album = genius.search_album(albums, \"The Beatles\")\n",
    "    album.save_lyrics()\n",
    "# Sgt. Pepper's Lonely Hearts Club Band returned the wrong album"
   ]
  },
  {
   "cell_type": "code",
   "execution_count": 65,
   "metadata": {},
   "outputs": [],
   "source": [
    "album = genius.search_album(album_id=11039, artist=\"The Beatles\")\n",
    "album.save_lyrics()\n",
    "# Used the Genius API to find the album id for Sgt. Pepper's Lonely Hearts Club Band"
   ]
  },
  {
   "cell_type": "code",
   "execution_count": 41,
   "metadata": {},
   "outputs": [],
   "source": [
    "all_albums = []\n",
    "directory = 'Albums'\n",
    "for filename in os.listdir(directory):\n",
    "    all_albums.extend(get_song_info(filename,album_directory='Albums/'))\n",
    "# Take helper functions to create a list of all The Beatles songs and relevant information"
   ]
  },
  {
   "cell_type": "code",
   "execution_count": 42,
   "metadata": {},
   "outputs": [
    {
     "output_type": "execute_result",
     "data": {
      "text/plain": [
       "                                 artist                    album_title  \\\n",
       "song_title                                                               \n",
       "Taxman                      The Beatles                  Revolver (UK)   \n",
       "Eleanor Rigby               The Beatles                  Revolver (UK)   \n",
       "I’m Only Sleeping           The Beatles                  Revolver (UK)   \n",
       "Love You To                 The Beatles                  Revolver (UK)   \n",
       "Here, There and Everywhere  The Beatles                  Revolver (UK)   \n",
       "...                                 ...                            ...   \n",
       "Honey Pie                   The Beatles  The Beatles (The White Album)   \n",
       "Savoy Truffle               The Beatles  The Beatles (The White Album)   \n",
       "Cry Baby Cry                The Beatles  The Beatles (The White Album)   \n",
       "Revolution 9                The Beatles  The Beatles (The White Album)   \n",
       "Good Night                  The Beatles  The Beatles (The White Album)   \n",
       "\n",
       "                           release_date  \\\n",
       "song_title                                \n",
       "Taxman                       1966-08-05   \n",
       "Eleanor Rigby                1966-08-05   \n",
       "I’m Only Sleeping            1966-08-05   \n",
       "Love You To                  1966-08-05   \n",
       "Here, There and Everywhere   1966-08-05   \n",
       "...                                 ...   \n",
       "Honey Pie                    1968-11-22   \n",
       "Savoy Truffle                1968-11-22   \n",
       "Cry Baby Cry                 1968-11-22   \n",
       "Revolution 9                 1968-11-22   \n",
       "Good Night                   1968-11-22   \n",
       "\n",
       "                                                                       lyrics  \n",
       "song_title                                                                     \n",
       "Taxman                      One, two, three, four\\nOne, two...  (One, two,...  \n",
       "Eleanor Rigby               Ah, look at all the lonely people!\\nAh, look a...  \n",
       "I’m Only Sleeping           When I wake up early in the morning\\nLift my h...  \n",
       "Love You To                 Each day just goes so fast\\nI turn around, it'...  \n",
       "Here, There and Everywhere  To lead a better life I need my love to be her...  \n",
       "...                                                                       ...  \n",
       "Honey Pie                   She was a working girl North of England way\\nN...  \n",
       "Savoy Truffle               Creme tangerine and Montelimar\\nA ginger sling...  \n",
       "Cry Baby Cry                Cry baby cry\\nMake your mother sigh\\nShe's old...  \n",
       "Revolution 9                ...bottle of claret for you if I'd realised. I...  \n",
       "Good Night                  Now it's time to say good night\\nGood night, s...  \n",
       "\n",
       "[192 rows x 4 columns]"
      ],
      "text/html": "<div>\n<style scoped>\n    .dataframe tbody tr th:only-of-type {\n        vertical-align: middle;\n    }\n\n    .dataframe tbody tr th {\n        vertical-align: top;\n    }\n\n    .dataframe thead th {\n        text-align: right;\n    }\n</style>\n<table border=\"1\" class=\"dataframe\">\n  <thead>\n    <tr style=\"text-align: right;\">\n      <th></th>\n      <th>artist</th>\n      <th>album_title</th>\n      <th>release_date</th>\n      <th>lyrics</th>\n    </tr>\n    <tr>\n      <th>song_title</th>\n      <th></th>\n      <th></th>\n      <th></th>\n      <th></th>\n    </tr>\n  </thead>\n  <tbody>\n    <tr>\n      <th>Taxman</th>\n      <td>The Beatles</td>\n      <td>Revolver (UK)</td>\n      <td>1966-08-05</td>\n      <td>One, two, three, four\\nOne, two...  (One, two,...</td>\n    </tr>\n    <tr>\n      <th>Eleanor Rigby</th>\n      <td>The Beatles</td>\n      <td>Revolver (UK)</td>\n      <td>1966-08-05</td>\n      <td>Ah, look at all the lonely people!\\nAh, look a...</td>\n    </tr>\n    <tr>\n      <th>I’m Only Sleeping</th>\n      <td>The Beatles</td>\n      <td>Revolver (UK)</td>\n      <td>1966-08-05</td>\n      <td>When I wake up early in the morning\\nLift my h...</td>\n    </tr>\n    <tr>\n      <th>Love You To</th>\n      <td>The Beatles</td>\n      <td>Revolver (UK)</td>\n      <td>1966-08-05</td>\n      <td>Each day just goes so fast\\nI turn around, it'...</td>\n    </tr>\n    <tr>\n      <th>Here, There and Everywhere</th>\n      <td>The Beatles</td>\n      <td>Revolver (UK)</td>\n      <td>1966-08-05</td>\n      <td>To lead a better life I need my love to be her...</td>\n    </tr>\n    <tr>\n      <th>...</th>\n      <td>...</td>\n      <td>...</td>\n      <td>...</td>\n      <td>...</td>\n    </tr>\n    <tr>\n      <th>Honey Pie</th>\n      <td>The Beatles</td>\n      <td>The Beatles (The White Album)</td>\n      <td>1968-11-22</td>\n      <td>She was a working girl North of England way\\nN...</td>\n    </tr>\n    <tr>\n      <th>Savoy Truffle</th>\n      <td>The Beatles</td>\n      <td>The Beatles (The White Album)</td>\n      <td>1968-11-22</td>\n      <td>Creme tangerine and Montelimar\\nA ginger sling...</td>\n    </tr>\n    <tr>\n      <th>Cry Baby Cry</th>\n      <td>The Beatles</td>\n      <td>The Beatles (The White Album)</td>\n      <td>1968-11-22</td>\n      <td>Cry baby cry\\nMake your mother sigh\\nShe's old...</td>\n    </tr>\n    <tr>\n      <th>Revolution 9</th>\n      <td>The Beatles</td>\n      <td>The Beatles (The White Album)</td>\n      <td>1968-11-22</td>\n      <td>...bottle of claret for you if I'd realised. I...</td>\n    </tr>\n    <tr>\n      <th>Good Night</th>\n      <td>The Beatles</td>\n      <td>The Beatles (The White Album)</td>\n      <td>1968-11-22</td>\n      <td>Now it's time to say good night\\nGood night, s...</td>\n    </tr>\n  </tbody>\n</table>\n<p>192 rows × 4 columns</p>\n</div>"
     },
     "metadata": {},
     "execution_count": 42
    }
   ],
   "source": [
    "all_songs = pd.DataFrame(all_albums).set_index('song_title')\n",
    "all_songs\n",
    "# Get our nice DataFrame and save it for future retrieval\n",
    "# all_songs.to_pickle(\"./Data/BeatlesDF_linebreaks.pkl\")"
   ]
  },
  {
   "cell_type": "code",
   "execution_count": 89,
   "metadata": {},
   "outputs": [],
   "source": [
    "lyrics_df = all_songs[['lyrics']]"
   ]
  },
  {
   "cell_type": "code",
   "execution_count": 29,
   "metadata": {},
   "outputs": [],
   "source": [
    "lyric_df.to_csv('Beatles_linebreaks.txt', header=None, index=None, sep=' ', mode='a')\n",
    "# Save just the lyrics to use in GPT-2"
   ]
  },
  {
   "cell_type": "code",
   "execution_count": 91,
   "metadata": {},
   "outputs": [],
   "source": [
    "beatles = lyrics_df.lyrics.str.cat()\n",
    "text_file = open(\"beatles.txt\", \"w\")\n",
    "n = text_file.write(beatles)\n",
    "text_file.close()"
   ]
  },
  {
   "source": [
    "Now we have to collect the lyrics for each member of The Beatles during their solo careers."
   ],
   "cell_type": "markdown",
   "metadata": {}
  },
  {
   "source": [
    "## Paul McCartney"
   ],
   "cell_type": "markdown",
   "metadata": {}
  },
  {
   "cell_type": "code",
   "execution_count": 32,
   "metadata": {},
   "outputs": [],
   "source": [
    "wings_albums = [\n",
    "    \"Wild Life\",\n",
    "    \"Red Rose Speedway\",\n",
    "    \"Band on the Run\",\n",
    "    \"Venus and Mars\",\n",
    "    \"Wings at the Speed of Sound\",\n",
    "    \"London Town\",\n",
    "    \"Back to the Egg\"\n",
    "]"
   ]
  },
  {
   "cell_type": "code",
   "execution_count": 33,
   "metadata": {},
   "outputs": [],
   "source": [
    "mccartney_albums = [\n",
    "    \"McCartney\",\n",
    "    \"Ram\",\n",
    "    \"McCartney II\",\n",
    "    \"Tug of War\",\n",
    "    \"Pipes of Peace\",\n",
    "    \"Press to Play\",\n",
    "    \"Flowers in the Dirt\",\n",
    "    \"Off the Ground\",\n",
    "    \"Flaming Pie\",\n",
    "    \"Driving Rain\",\n",
    "    \"Chaos and Creation in the Backyard\",\n",
    "    \"Memory Almost Full\",\n",
    "    \"New\",\n",
    "    \"Egypt Station\"\n",
    "]"
   ]
  },
  {
   "cell_type": "code",
   "execution_count": 34,
   "metadata": {},
   "outputs": [
    {
     "output_type": "stream",
     "name": "stdout",
     "text": [
      "Searching for \"Wild Life\" by Paul McCartney & Wings...\n",
      "Wrote Lyrics_WildLife.json.\n",
      "Searching for \"Red Rose Speedway\" by Paul McCartney & Wings...\n",
      "Wrote Lyrics_RedRoseSpeedway.json.\n",
      "Searching for \"Band on the Run\" by Paul McCartney & Wings...\n",
      "Wrote Lyrics_BandontheRun.json.\n",
      "Searching for \"Venus and Mars\" by Paul McCartney & Wings...\n",
      "Wrote Lyrics_VenusandMars.json.\n",
      "Searching for \"Wings at the Speed of Sound\" by Paul McCartney & Wings...\n",
      "Wrote Lyrics_WingsattheSpeedofSound.json.\n",
      "Searching for \"London Town\" by Paul McCartney & Wings...\n",
      "Wrote Lyrics_LondonTown.json.\n",
      "Searching for \"Back to the Egg\" by Paul McCartney & Wings...\n",
      "Wrote Lyrics_BacktotheEgg.json.\n"
     ]
    }
   ],
   "source": [
    "for albums in wings_albums:\n",
    "    album = genius.search_album(albums, \"Paul McCartney & Wings\")\n",
    "    album.save_lyrics()\n",
    "# Save the lyrics for McCartney's career with Wings"
   ]
  },
  {
   "cell_type": "code",
   "execution_count": 4,
   "metadata": {},
   "outputs": [
    {
     "output_type": "error",
     "ename": "NameError",
     "evalue": "name 'mccartney_albums' is not defined",
     "traceback": [
      "\u001b[0;31m---------------------------------------------------------------------------\u001b[0m",
      "\u001b[0;31mNameError\u001b[0m                                 Traceback (most recent call last)",
      "\u001b[0;32m<ipython-input-4-075af6cd1a14>\u001b[0m in \u001b[0;36m<module>\u001b[0;34m\u001b[0m\n\u001b[0;32m----> 1\u001b[0;31m \u001b[0;32mfor\u001b[0m \u001b[0malbums\u001b[0m \u001b[0;32min\u001b[0m \u001b[0mmccartney_albums\u001b[0m\u001b[0;34m:\u001b[0m\u001b[0;34m\u001b[0m\u001b[0;34m\u001b[0m\u001b[0m\n\u001b[0m\u001b[1;32m      2\u001b[0m     \u001b[0malbum\u001b[0m \u001b[0;34m=\u001b[0m \u001b[0mgenius\u001b[0m\u001b[0;34m.\u001b[0m\u001b[0msearch_album\u001b[0m\u001b[0;34m(\u001b[0m\u001b[0malbums\u001b[0m\u001b[0;34m,\u001b[0m \u001b[0;34m\"Paul McCartney\"\u001b[0m\u001b[0;34m)\u001b[0m\u001b[0;34m\u001b[0m\u001b[0;34m\u001b[0m\u001b[0m\n\u001b[1;32m      3\u001b[0m     \u001b[0malbum\u001b[0m\u001b[0;34m.\u001b[0m\u001b[0msave_lyrics\u001b[0m\u001b[0;34m(\u001b[0m\u001b[0;34m)\u001b[0m\u001b[0;34m\u001b[0m\u001b[0;34m\u001b[0m\u001b[0m\n",
      "\u001b[0;31mNameError\u001b[0m: name 'mccartney_albums' is not defined"
     ]
    }
   ],
   "source": [
    "for albums in mccartney_albums:\n",
    "    album = genius.search_album(albums, \"Paul McCartney\")\n",
    "    album.save_lyrics()\n",
    "# Save all of the lyrics for McCartney"
   ]
  },
  {
   "source": [
    "## John Lennon"
   ],
   "cell_type": "markdown",
   "metadata": {}
  },
  {
   "cell_type": "code",
   "execution_count": 3,
   "metadata": {},
   "outputs": [],
   "source": [
    "lennon_albums = [\n",
    "    \"John Lennon / Plastic Ono Band\",\n",
    "    \"Imagine\",\n",
    "    \"Some Time in New York City\",\n",
    "    \"Mind Games\",\n",
    "    \"Walls and Bridges\",\n",
    "    \"Rock 'N' Roll\",\n",
    "    \"Double Fantasy\",\n",
    "    \"Milk and Honey\"\n",
    "]"
   ]
  },
  {
   "cell_type": "code",
   "execution_count": 4,
   "metadata": {},
   "outputs": [
    {
     "output_type": "stream",
     "name": "stdout",
     "text": [
      "Searching for \"John Lennon / Plastic Ono Band\" by John Lennon...\n",
      "Wrote Lyrics_JohnLennonPlasticOnoBand.json.\n",
      "Searching for \"Imagine\" by John Lennon...\n",
      "Wrote Lyrics_Imagine.json.\n",
      "Searching for \"Some Time in New York City\" by John Lennon...\n",
      "Wrote Lyrics_SomeTimeinNewYorkCity.json.\n",
      "Searching for \"Mind Games\" by John Lennon...\n",
      "Wrote Lyrics_MindGames.json.\n",
      "Searching for \"Walls and Bridges\" by John Lennon...\n",
      "Wrote Lyrics_WallsandBridges.json.\n",
      "Searching for \"Rock 'N' Roll\" by John Lennon...\n",
      "Wrote Lyrics_RockNRoll.json.\n",
      "Searching for \"Double Fantasy\" by John Lennon...\n",
      "Wrote Lyrics_DoubleFantasy.json.\n",
      "Searching for \"Milk and Honey\" by John Lennon...\n",
      "Wrote Lyrics_MilkandHoney.json.\n"
     ]
    }
   ],
   "source": [
    "for albums in lennon_albums:\n",
    "    album = genius.search_album(albums, \"John Lennon\")\n",
    "    album.save_lyrics()"
   ]
  },
  {
   "source": [
    "## George Harrison"
   ],
   "cell_type": "markdown",
   "metadata": {}
  },
  {
   "cell_type": "code",
   "execution_count": 9,
   "metadata": {},
   "outputs": [],
   "source": [
    "harrison_albums = [\n",
    "    \"All Things Must Pass\",\n",
    "    \"Living in the Material World\",\n",
    "    \"Dark Horse\",\n",
    "    \"Extra Texture (Read All About It)\",\n",
    "    \"Thirty Three & 1/3\",\n",
    "    \"George Harrison\",\n",
    "    \"Somewhere in England\",\n",
    "    \"Gone Troppo\",\n",
    "    \"Cloud Nine\",\n",
    "    \"Brainwashed\"\n",
    "]"
   ]
  },
  {
   "cell_type": "code",
   "execution_count": 10,
   "metadata": {},
   "outputs": [
    {
     "output_type": "stream",
     "name": "stdout",
     "text": [
      "Searching for \"Cloud Nine\" by George Harrison...\n",
      "Wrote Lyrics_CloudNine.json.\n",
      "Searching for \"Brainwashed\" by George Harrison...\n",
      "Wrote Lyrics_Brainwashed.json.\n"
     ]
    }
   ],
   "source": [
    "for albums in harrison_albums:\n",
    "    album = genius.search_album(albums, \"George Harrison\")\n",
    "    album.save_lyrics()"
   ]
  },
  {
   "source": [
    "## Ringo Starr"
   ],
   "cell_type": "markdown",
   "metadata": {}
  },
  {
   "cell_type": "code",
   "execution_count": 29,
   "metadata": {},
   "outputs": [],
   "source": [
    "starr_albums = [\n",
    "    \"Sentimental Journey\",\n",
    "    \"Beaucoups of Blues\",\n",
    "    \"Ringo\",\n",
    "    \"Goodnight Vienna\",\n",
    "    \"Ringo's Rotogravure\",\n",
    "    \"Ringo the 4th\",\n",
    "    \"Bad Boy\",\n",
    "    \"Stop and Smell the Roses\",\n",
    "    \"Old Wave\",\n",
    "    \"Time Takes Time\",\n",
    "    \"Vertical Man\",\n",
    "    \"Choose Love\",\n",
    "    \"Liverpool 8\",\n",
    "    \"Y Not\"\n",
    "    \"Ringo 2012\",\n",
    "    \"Postcards from Paradise\",\n",
    "    \"Give More Love\",\n",
    "    \"What's My Name\"\n",
    "]"
   ]
  },
  {
   "cell_type": "code",
   "execution_count": 30,
   "metadata": {},
   "outputs": [
    {
     "output_type": "stream",
     "name": "stdout",
     "text": [
      "Searching for \"Ringo's Rotogravure\" by Ringo Starr...\n"
     ]
    },
    {
     "output_type": "error",
     "ename": "AttributeError",
     "evalue": "'int' object has no attribute 'count'",
     "traceback": [
      "\u001b[0;31m---------------------------------------------------------------------------\u001b[0m",
      "\u001b[0;31mAttributeError\u001b[0m                            Traceback (most recent call last)",
      "\u001b[0;32m<ipython-input-30-4dc325d529fd>\u001b[0m in \u001b[0;36m<module>\u001b[0;34m\u001b[0m\n\u001b[1;32m      1\u001b[0m \u001b[0;32mfor\u001b[0m \u001b[0malbums\u001b[0m \u001b[0;32min\u001b[0m \u001b[0mstarr_albums\u001b[0m\u001b[0;34m:\u001b[0m\u001b[0;34m\u001b[0m\u001b[0;34m\u001b[0m\u001b[0m\n\u001b[0;32m----> 2\u001b[0;31m     \u001b[0malbum\u001b[0m \u001b[0;34m=\u001b[0m \u001b[0mgenius\u001b[0m\u001b[0;34m.\u001b[0m\u001b[0msearch_album\u001b[0m\u001b[0;34m(\u001b[0m\u001b[0malbums\u001b[0m\u001b[0;34m,\u001b[0m \u001b[0;34m\"Ringo Starr\"\u001b[0m\u001b[0;34m)\u001b[0m\u001b[0;34m\u001b[0m\u001b[0;34m\u001b[0m\u001b[0m\n\u001b[0m\u001b[1;32m      3\u001b[0m     \u001b[0malbum\u001b[0m\u001b[0;34m.\u001b[0m\u001b[0msave_lyrics\u001b[0m\u001b[0;34m(\u001b[0m\u001b[0;34m)\u001b[0m\u001b[0;34m\u001b[0m\u001b[0;34m\u001b[0m\u001b[0m\n",
      "\u001b[0;32m~/opt/anaconda3/lib/python3.7/site-packages/lyricsgenius/genius.py\u001b[0m in \u001b[0;36msearch_album\u001b[0;34m(self, name, artist, album_id, get_full_info, text_format)\u001b[0m\n\u001b[1;32m    342\u001b[0m             \u001b[0malbum_info\u001b[0m\u001b[0;34m.\u001b[0m\u001b[0mupdate\u001b[0m\u001b[0;34m(\u001b[0m\u001b[0mnew_info\u001b[0m\u001b[0;34m)\u001b[0m\u001b[0;34m\u001b[0m\u001b[0;34m\u001b[0m\u001b[0m\n\u001b[1;32m    343\u001b[0m \u001b[0;34m\u001b[0m\u001b[0m\n\u001b[0;32m--> 344\u001b[0;31m         \u001b[0;32mreturn\u001b[0m \u001b[0mAlbum\u001b[0m\u001b[0;34m(\u001b[0m\u001b[0mself\u001b[0m\u001b[0;34m,\u001b[0m \u001b[0malbum_info\u001b[0m\u001b[0;34m,\u001b[0m \u001b[0msongs\u001b[0m\u001b[0;34m)\u001b[0m\u001b[0;34m\u001b[0m\u001b[0;34m\u001b[0m\u001b[0m\n\u001b[0m\u001b[1;32m    345\u001b[0m \u001b[0;34m\u001b[0m\u001b[0m\n\u001b[1;32m    346\u001b[0m     def search_song(self, title=None, artist=\"\", song_id=None,\n",
      "\u001b[0;32m~/opt/anaconda3/lib/python3.7/site-packages/lyricsgenius/types/album.py\u001b[0m in \u001b[0;36m__init__\u001b[0;34m(self, client, json_dict, songs)\u001b[0m\n\u001b[1;32m     31\u001b[0m         \u001b[0mself\u001b[0m\u001b[0;34m.\u001b[0m\u001b[0msongs\u001b[0m \u001b[0;34m=\u001b[0m \u001b[0msongs\u001b[0m\u001b[0;34m\u001b[0m\u001b[0;34m\u001b[0m\u001b[0m\n\u001b[1;32m     32\u001b[0m         self.release_date_components = convert_to_datetime(\n\u001b[0;32m---> 33\u001b[0;31m             \u001b[0mbody\u001b[0m\u001b[0;34m[\u001b[0m\u001b[0;34m'release_date_components'\u001b[0m\u001b[0;34m]\u001b[0m\u001b[0;34m\u001b[0m\u001b[0;34m\u001b[0m\u001b[0m\n\u001b[0m\u001b[1;32m     34\u001b[0m         )\n\u001b[1;32m     35\u001b[0m \u001b[0;34m\u001b[0m\u001b[0m\n",
      "\u001b[0;32m~/opt/anaconda3/lib/python3.7/site-packages/lyricsgenius/utils.py\u001b[0m in \u001b[0;36mconvert_to_datetime\u001b[0;34m(f)\u001b[0m\n\u001b[1;32m     55\u001b[0m         \u001b[0mf\u001b[0m \u001b[0;34m=\u001b[0m \u001b[0mdate\u001b[0m\u001b[0;34m\u001b[0m\u001b[0;34m\u001b[0m\u001b[0m\n\u001b[1;32m     56\u001b[0m \u001b[0;34m\u001b[0m\u001b[0m\n\u001b[0;32m---> 57\u001b[0;31m     \u001b[0;32mif\u001b[0m \u001b[0mf\u001b[0m\u001b[0;34m.\u001b[0m\u001b[0mcount\u001b[0m\u001b[0;34m(\u001b[0m\u001b[0;34m'-'\u001b[0m\u001b[0;34m)\u001b[0m \u001b[0;34m==\u001b[0m \u001b[0;36m2\u001b[0m\u001b[0;34m:\u001b[0m\u001b[0;34m\u001b[0m\u001b[0;34m\u001b[0m\u001b[0m\n\u001b[0m\u001b[1;32m     58\u001b[0m         \u001b[0mdate_format\u001b[0m \u001b[0;34m=\u001b[0m \u001b[0;34m\"%Y-%m-%d\"\u001b[0m\u001b[0;34m\u001b[0m\u001b[0;34m\u001b[0m\u001b[0m\n\u001b[1;32m     59\u001b[0m     \u001b[0;32melif\u001b[0m \u001b[0mf\u001b[0m\u001b[0;34m.\u001b[0m\u001b[0mcount\u001b[0m\u001b[0;34m(\u001b[0m\u001b[0;34m'-'\u001b[0m\u001b[0;34m)\u001b[0m \u001b[0;34m==\u001b[0m \u001b[0;36m1\u001b[0m\u001b[0;34m:\u001b[0m\u001b[0;34m\u001b[0m\u001b[0;34m\u001b[0m\u001b[0m\n",
      "\u001b[0;31mAttributeError\u001b[0m: 'int' object has no attribute 'count'"
     ]
    }
   ],
   "source": [
    "for albums in starr_albums:\n",
    "    album = genius.search_album(albums, \"Ringo Starr\")\n",
    "    album.save_lyrics()"
   ]
  },
  {
   "source": [
    "## Composer Information"
   ],
   "cell_type": "markdown",
   "metadata": {}
  },
  {
   "cell_type": "code",
   "execution_count": 188,
   "metadata": {},
   "outputs": [],
   "source": [
    "writers = pd.read_html('http://www.myrsten.nu/worldnet/beatlesongs.htm')\n",
    "# This website has the main singers/composer for all of The Beatles' songs"
   ]
  },
  {
   "cell_type": "code",
   "execution_count": 189,
   "metadata": {},
   "outputs": [],
   "source": [
    "writers_df = writers[0]"
   ]
  },
  {
   "cell_type": "code",
   "execution_count": 190,
   "metadata": {},
   "outputs": [],
   "source": [
    "writers_df.rename(columns = {0:'song_title',1:'composer',2:'singer'},inplace=True)"
   ]
  },
  {
   "cell_type": "code",
   "execution_count": 191,
   "metadata": {},
   "outputs": [],
   "source": [
    "writers_df.drop_duplicates(subset='song_title',inplace=True)"
   ]
  },
  {
   "cell_type": "code",
   "execution_count": 195,
   "metadata": {},
   "outputs": [],
   "source": [
    "writers_df['song_title'] = writers_df['song_title'].apply(lambda x: rep_tic(x))\n",
    "# We need to clean up the titles to have be able to join this information"
   ]
  },
  {
   "cell_type": "code",
   "execution_count": 197,
   "metadata": {},
   "outputs": [],
   "source": [
    "writers_df.set_index('song_title',inplace=True)"
   ]
  },
  {
   "cell_type": "code",
   "execution_count": 206,
   "metadata": {},
   "outputs": [],
   "source": [
    "all_songs = pd.DataFrame(all_albums)\n",
    "# Load our old DataFrame to merge with composer information"
   ]
  },
  {
   "cell_type": "code",
   "execution_count": 216,
   "metadata": {},
   "outputs": [],
   "source": [
    "all_songs['song_title'] = all_songs['song_title'].apply(lambda x: rep_tic(x))\n",
    "# Clean our original DataFrame as well"
   ]
  },
  {
   "cell_type": "code",
   "execution_count": 218,
   "metadata": {},
   "outputs": [],
   "source": [
    "all_songs.set_index('song_title',inplace=True)\n",
    "# Make sure both indices are the same"
   ]
  },
  {
   "cell_type": "code",
   "execution_count": 219,
   "metadata": {},
   "outputs": [],
   "source": [
    "song_df = all_songs.join(writers_df, on='song_title',how='left')"
   ]
  },
  {
   "cell_type": "code",
   "execution_count": 220,
   "metadata": {},
   "outputs": [
    {
     "output_type": "execute_result",
     "data": {
      "text/plain": [
       "                                 artist                    album_title  \\\n",
       "song_title                                                               \n",
       "Taxman                      The Beatles                  Revolver (UK)   \n",
       "Eleanor Rigby               The Beatles                  Revolver (UK)   \n",
       "I'm Only Sleeping           The Beatles                  Revolver (UK)   \n",
       "Love You To                 The Beatles                  Revolver (UK)   \n",
       "Here, There and Everywhere  The Beatles                  Revolver (UK)   \n",
       "...                                 ...                            ...   \n",
       "Honey Pie                   The Beatles  The Beatles (The White Album)   \n",
       "Savoy Truffle               The Beatles  The Beatles (The White Album)   \n",
       "Cry Baby Cry                The Beatles  The Beatles (The White Album)   \n",
       "Revolution 9                The Beatles  The Beatles (The White Album)   \n",
       "Good Night                  The Beatles  The Beatles (The White Album)   \n",
       "\n",
       "                           release_date  \\\n",
       "song_title                                \n",
       "Taxman                       1966-08-05   \n",
       "Eleanor Rigby                1966-08-05   \n",
       "I'm Only Sleeping            1966-08-05   \n",
       "Love You To                  1966-08-05   \n",
       "Here, There and Everywhere   1966-08-05   \n",
       "...                                 ...   \n",
       "Honey Pie                    1968-11-22   \n",
       "Savoy Truffle                1968-11-22   \n",
       "Cry Baby Cry                 1968-11-22   \n",
       "Revolution 9                 1968-11-22   \n",
       "Good Night                   1968-11-22   \n",
       "\n",
       "                                                                       lyrics  \\\n",
       "song_title                                                                      \n",
       "Taxman                      One, two, three, four\\nOne, two...  (One, two,...   \n",
       "Eleanor Rigby               Ah, look at all the lonely people!\\nAh, look a...   \n",
       "I'm Only Sleeping           When I wake up early in the morning\\nLift my h...   \n",
       "Love You To                 Each day just goes so fast\\nI turn around, it'...   \n",
       "Here, There and Everywhere  To lead a better life I need my love to be her...   \n",
       "...                                                                       ...   \n",
       "Honey Pie                   She was a working girl North of England way\\nN...   \n",
       "Savoy Truffle               Creme tangerine and Montelimar\\nA ginger sling...   \n",
       "Cry Baby Cry                Cry baby cry\\nMake your mother sigh\\nShe's old...   \n",
       "Revolution 9                ...bottle of claret for you if I'd realised. I...   \n",
       "Good Night                  Now it's time to say good night\\nGood night, s...   \n",
       "\n",
       "                             composer          singer  \n",
       "song_title                                             \n",
       "Taxman                       Harrison        Harrison  \n",
       "Eleanor Rigby               McCartney       McCartney  \n",
       "I'm Only Sleeping              Lennon          Lennon  \n",
       "Love You To                       NaN             NaN  \n",
       "Here, There and Everywhere  McCartney       McCartney  \n",
       "...                               ...             ...  \n",
       "Honey Pie                   McCartney       McCartney  \n",
       "Savoy Truffle                Harrison        Harrison  \n",
       "Cry Baby Cry                   Lennon          Lennon  \n",
       "Revolution 9                   Lennon  \"Instrumental\"  \n",
       "Good Night                     Lennon           Starr  \n",
       "\n",
       "[192 rows x 6 columns]"
      ],
      "text/html": "<div>\n<style scoped>\n    .dataframe tbody tr th:only-of-type {\n        vertical-align: middle;\n    }\n\n    .dataframe tbody tr th {\n        vertical-align: top;\n    }\n\n    .dataframe thead th {\n        text-align: right;\n    }\n</style>\n<table border=\"1\" class=\"dataframe\">\n  <thead>\n    <tr style=\"text-align: right;\">\n      <th></th>\n      <th>artist</th>\n      <th>album_title</th>\n      <th>release_date</th>\n      <th>lyrics</th>\n      <th>composer</th>\n      <th>singer</th>\n    </tr>\n    <tr>\n      <th>song_title</th>\n      <th></th>\n      <th></th>\n      <th></th>\n      <th></th>\n      <th></th>\n      <th></th>\n    </tr>\n  </thead>\n  <tbody>\n    <tr>\n      <th>Taxman</th>\n      <td>The Beatles</td>\n      <td>Revolver (UK)</td>\n      <td>1966-08-05</td>\n      <td>One, two, three, four\\nOne, two...  (One, two,...</td>\n      <td>Harrison</td>\n      <td>Harrison</td>\n    </tr>\n    <tr>\n      <th>Eleanor Rigby</th>\n      <td>The Beatles</td>\n      <td>Revolver (UK)</td>\n      <td>1966-08-05</td>\n      <td>Ah, look at all the lonely people!\\nAh, look a...</td>\n      <td>McCartney</td>\n      <td>McCartney</td>\n    </tr>\n    <tr>\n      <th>I'm Only Sleeping</th>\n      <td>The Beatles</td>\n      <td>Revolver (UK)</td>\n      <td>1966-08-05</td>\n      <td>When I wake up early in the morning\\nLift my h...</td>\n      <td>Lennon</td>\n      <td>Lennon</td>\n    </tr>\n    <tr>\n      <th>Love You To</th>\n      <td>The Beatles</td>\n      <td>Revolver (UK)</td>\n      <td>1966-08-05</td>\n      <td>Each day just goes so fast\\nI turn around, it'...</td>\n      <td>NaN</td>\n      <td>NaN</td>\n    </tr>\n    <tr>\n      <th>Here, There and Everywhere</th>\n      <td>The Beatles</td>\n      <td>Revolver (UK)</td>\n      <td>1966-08-05</td>\n      <td>To lead a better life I need my love to be her...</td>\n      <td>McCartney</td>\n      <td>McCartney</td>\n    </tr>\n    <tr>\n      <th>...</th>\n      <td>...</td>\n      <td>...</td>\n      <td>...</td>\n      <td>...</td>\n      <td>...</td>\n      <td>...</td>\n    </tr>\n    <tr>\n      <th>Honey Pie</th>\n      <td>The Beatles</td>\n      <td>The Beatles (The White Album)</td>\n      <td>1968-11-22</td>\n      <td>She was a working girl North of England way\\nN...</td>\n      <td>McCartney</td>\n      <td>McCartney</td>\n    </tr>\n    <tr>\n      <th>Savoy Truffle</th>\n      <td>The Beatles</td>\n      <td>The Beatles (The White Album)</td>\n      <td>1968-11-22</td>\n      <td>Creme tangerine and Montelimar\\nA ginger sling...</td>\n      <td>Harrison</td>\n      <td>Harrison</td>\n    </tr>\n    <tr>\n      <th>Cry Baby Cry</th>\n      <td>The Beatles</td>\n      <td>The Beatles (The White Album)</td>\n      <td>1968-11-22</td>\n      <td>Cry baby cry\\nMake your mother sigh\\nShe's old...</td>\n      <td>Lennon</td>\n      <td>Lennon</td>\n    </tr>\n    <tr>\n      <th>Revolution 9</th>\n      <td>The Beatles</td>\n      <td>The Beatles (The White Album)</td>\n      <td>1968-11-22</td>\n      <td>...bottle of claret for you if I'd realised. I...</td>\n      <td>Lennon</td>\n      <td>\"Instrumental\"</td>\n    </tr>\n    <tr>\n      <th>Good Night</th>\n      <td>The Beatles</td>\n      <td>The Beatles (The White Album)</td>\n      <td>1968-11-22</td>\n      <td>Now it's time to say good night\\nGood night, s...</td>\n      <td>Lennon</td>\n      <td>Starr</td>\n    </tr>\n  </tbody>\n</table>\n<p>192 rows × 6 columns</p>\n</div>"
     },
     "metadata": {},
     "execution_count": 220
    }
   ],
   "source": [
    "song_df.head()\n",
    "# We need to investigate the NaN values"
   ]
  },
  {
   "cell_type": "code",
   "execution_count": 231,
   "metadata": {},
   "outputs": [],
   "source": [
    "song_df.replace('',np.nan,inplace=True)"
   ]
  },
  {
   "cell_type": "code",
   "execution_count": 238,
   "metadata": {},
   "outputs": [],
   "source": [
    "no_inst = song_df[song_df['lyrics'].notnull()]\n",
    "# Remove the instrumentals"
   ]
  },
  {
   "cell_type": "code",
   "execution_count": 251,
   "metadata": {},
   "outputs": [],
   "source": [
    "empty_songs = no_inst[no_inst['singer'].isnull()].index.tolist()\n",
    "# Select the songs missing information"
   ]
  },
  {
   "cell_type": "code",
   "execution_count": 411,
   "metadata": {},
   "outputs": [
    {
     "output_type": "execute_result",
     "data": {
      "text/plain": [
       "                                 artist                    album_title  \\\n",
       "song_title                                                               \n",
       "Taxman                      The Beatles                  Revolver (UK)   \n",
       "Eleanor Rigby               The Beatles                  Revolver (UK)   \n",
       "I'm Only Sleeping           The Beatles                  Revolver (UK)   \n",
       "Love You To                 The Beatles                  Revolver (UK)   \n",
       "Here, There and Everywhere  The Beatles                  Revolver (UK)   \n",
       "...                                 ...                            ...   \n",
       "Honey Pie                   The Beatles  The Beatles (The White Album)   \n",
       "Savoy Truffle               The Beatles  The Beatles (The White Album)   \n",
       "Cry Baby Cry                The Beatles  The Beatles (The White Album)   \n",
       "Revolution 9                The Beatles  The Beatles (The White Album)   \n",
       "Good Night                  The Beatles  The Beatles (The White Album)   \n",
       "\n",
       "                           release_date  \\\n",
       "song_title                                \n",
       "Taxman                       1966-08-05   \n",
       "Eleanor Rigby                1966-08-05   \n",
       "I'm Only Sleeping            1966-08-05   \n",
       "Love You To                  1966-08-05   \n",
       "Here, There and Everywhere   1966-08-05   \n",
       "...                                 ...   \n",
       "Honey Pie                    1968-11-22   \n",
       "Savoy Truffle                1968-11-22   \n",
       "Cry Baby Cry                 1968-11-22   \n",
       "Revolution 9                 1968-11-22   \n",
       "Good Night                   1968-11-22   \n",
       "\n",
       "                                                                       lyrics  \\\n",
       "song_title                                                                      \n",
       "Taxman                      One, two, three, four\\nOne, two...  (One, two,...   \n",
       "Eleanor Rigby               Ah, look at all the lonely people!\\nAh, look a...   \n",
       "I'm Only Sleeping           When I wake up early in the morning\\nLift my h...   \n",
       "Love You To                 Each day just goes so fast\\nI turn around, it'...   \n",
       "Here, There and Everywhere  To lead a better life I need my love to be her...   \n",
       "...                                                                       ...   \n",
       "Honey Pie                   She was a working girl North of England way\\nN...   \n",
       "Savoy Truffle               Creme tangerine and Montelimar\\nA ginger sling...   \n",
       "Cry Baby Cry                Cry baby cry\\nMake your mother sigh\\nShe's old...   \n",
       "Revolution 9                ...bottle of claret for you if I'd realised. I...   \n",
       "Good Night                  Now it's time to say good night\\nGood night, s...   \n",
       "\n",
       "                             composer          singer  \n",
       "song_title                                             \n",
       "Taxman                       Harrison        Harrison  \n",
       "Eleanor Rigby               McCartney       McCartney  \n",
       "I'm Only Sleeping              Lennon          Lennon  \n",
       "Love You To                  Harrison        Harrison  \n",
       "Here, There and Everywhere  McCartney       McCartney  \n",
       "...                               ...             ...  \n",
       "Honey Pie                   McCartney       McCartney  \n",
       "Savoy Truffle                Harrison        Harrison  \n",
       "Cry Baby Cry                   Lennon          Lennon  \n",
       "Revolution 9                   Lennon  \"Instrumental\"  \n",
       "Good Night                     Lennon           Starr  \n",
       "\n",
       "[180 rows x 6 columns]"
      ],
      "text/html": "<div>\n<style scoped>\n    .dataframe tbody tr th:only-of-type {\n        vertical-align: middle;\n    }\n\n    .dataframe tbody tr th {\n        vertical-align: top;\n    }\n\n    .dataframe thead th {\n        text-align: right;\n    }\n</style>\n<table border=\"1\" class=\"dataframe\">\n  <thead>\n    <tr style=\"text-align: right;\">\n      <th></th>\n      <th>artist</th>\n      <th>album_title</th>\n      <th>release_date</th>\n      <th>lyrics</th>\n      <th>composer</th>\n      <th>singer</th>\n    </tr>\n    <tr>\n      <th>song_title</th>\n      <th></th>\n      <th></th>\n      <th></th>\n      <th></th>\n      <th></th>\n      <th></th>\n    </tr>\n  </thead>\n  <tbody>\n    <tr>\n      <th>Taxman</th>\n      <td>The Beatles</td>\n      <td>Revolver (UK)</td>\n      <td>1966-08-05</td>\n      <td>One, two, three, four\\nOne, two...  (One, two,...</td>\n      <td>Harrison</td>\n      <td>Harrison</td>\n    </tr>\n    <tr>\n      <th>Eleanor Rigby</th>\n      <td>The Beatles</td>\n      <td>Revolver (UK)</td>\n      <td>1966-08-05</td>\n      <td>Ah, look at all the lonely people!\\nAh, look a...</td>\n      <td>McCartney</td>\n      <td>McCartney</td>\n    </tr>\n    <tr>\n      <th>I'm Only Sleeping</th>\n      <td>The Beatles</td>\n      <td>Revolver (UK)</td>\n      <td>1966-08-05</td>\n      <td>When I wake up early in the morning\\nLift my h...</td>\n      <td>Lennon</td>\n      <td>Lennon</td>\n    </tr>\n    <tr>\n      <th>Love You To</th>\n      <td>The Beatles</td>\n      <td>Revolver (UK)</td>\n      <td>1966-08-05</td>\n      <td>Each day just goes so fast\\nI turn around, it'...</td>\n      <td>Harrison</td>\n      <td>Harrison</td>\n    </tr>\n    <tr>\n      <th>Here, There and Everywhere</th>\n      <td>The Beatles</td>\n      <td>Revolver (UK)</td>\n      <td>1966-08-05</td>\n      <td>To lead a better life I need my love to be her...</td>\n      <td>McCartney</td>\n      <td>McCartney</td>\n    </tr>\n    <tr>\n      <th>...</th>\n      <td>...</td>\n      <td>...</td>\n      <td>...</td>\n      <td>...</td>\n      <td>...</td>\n      <td>...</td>\n    </tr>\n    <tr>\n      <th>Honey Pie</th>\n      <td>The Beatles</td>\n      <td>The Beatles (The White Album)</td>\n      <td>1968-11-22</td>\n      <td>She was a working girl North of England way\\nN...</td>\n      <td>McCartney</td>\n      <td>McCartney</td>\n    </tr>\n    <tr>\n      <th>Savoy Truffle</th>\n      <td>The Beatles</td>\n      <td>The Beatles (The White Album)</td>\n      <td>1968-11-22</td>\n      <td>Creme tangerine and Montelimar\\nA ginger sling...</td>\n      <td>Harrison</td>\n      <td>Harrison</td>\n    </tr>\n    <tr>\n      <th>Cry Baby Cry</th>\n      <td>The Beatles</td>\n      <td>The Beatles (The White Album)</td>\n      <td>1968-11-22</td>\n      <td>Cry baby cry\\nMake your mother sigh\\nShe's old...</td>\n      <td>Lennon</td>\n      <td>Lennon</td>\n    </tr>\n    <tr>\n      <th>Revolution 9</th>\n      <td>The Beatles</td>\n      <td>The Beatles (The White Album)</td>\n      <td>1968-11-22</td>\n      <td>...bottle of claret for you if I'd realised. I...</td>\n      <td>Lennon</td>\n      <td>\"Instrumental\"</td>\n    </tr>\n    <tr>\n      <th>Good Night</th>\n      <td>The Beatles</td>\n      <td>The Beatles (The White Album)</td>\n      <td>1968-11-22</td>\n      <td>Now it's time to say good night\\nGood night, s...</td>\n      <td>Lennon</td>\n      <td>Starr</td>\n    </tr>\n  </tbody>\n</table>\n<p>180 rows × 6 columns</p>\n</div>"
     },
     "metadata": {},
     "execution_count": 411
    }
   ],
   "source": [
    "no_inst\n",
    "# All songs have information now"
   ]
  },
  {
   "cell_type": "code",
   "execution_count": 420,
   "metadata": {},
   "outputs": [],
   "source": [
    "def name_list(x):\n",
    "    try:\n",
    "        new_str = x.split('/')\n",
    "    except:\n",
    "        new_str = x\n",
    "    return new_str\n",
    "# I want to explode our singers, so we can have a cleaner way of separating each Beatle"
   ]
  },
  {
   "cell_type": "code",
   "execution_count": 436,
   "metadata": {},
   "outputs": [],
   "source": [
    "no_inst['singer'] = no_inst['singer'].apply(lambda x: name_list(x))"
   ]
  },
  {
   "cell_type": "code",
   "execution_count": 441,
   "metadata": {},
   "outputs": [],
   "source": [
    "exploded = no_inst.explode('singer')"
   ]
  },
  {
   "source": [
    "Now we have to get all the members of The Beatles' solo careers into DataFrames"
   ],
   "cell_type": "markdown",
   "metadata": {}
  },
  {
   "cell_type": "code",
   "execution_count": null,
   "metadata": {},
   "outputs": [],
   "source": [
    "all_albums = []\n",
    "directory = 'Harrison'\n",
    "for filename in os.listdir(directory):\n",
    "    all_albums.extend(get_song_info(filename,album_directory='Harrison/'))\n",
    "harrison = pd.DataFrame(all_albums).set_index('song_title')\n",
    "harrison['singer'] = 'Harrison'"
   ]
  },
  {
   "cell_type": "code",
   "execution_count": 448,
   "metadata": {},
   "outputs": [],
   "source": [
    "all_albums = []\n",
    "directory = 'Lennon'\n",
    "for filename in os.listdir(directory):\n",
    "    all_albums.extend(get_song_info(filename,album_directory='Lennon/'))\n",
    "lennon = pd.DataFrame(all_albums).set_index('song_title')\n",
    "lennon['singer'] = 'Lennon'"
   ]
  },
  {
   "cell_type": "code",
   "execution_count": 450,
   "metadata": {},
   "outputs": [],
   "source": [
    "all_albums = []\n",
    "directory = 'McCartney'\n",
    "for filename in os.listdir(directory):\n",
    "    all_albums.extend(get_song_info(filename,album_directory='McCartney/'))\n",
    "mccartney = pd.DataFrame(all_albums).set_index('song_title')\n",
    "mccartney['singer'] = 'McCartney'"
   ]
  },
  {
   "cell_type": "code",
   "execution_count": 452,
   "metadata": {},
   "outputs": [],
   "source": [
    "all_albums = []\n",
    "directory = 'Starr'\n",
    "for filename in os.listdir(directory):\n",
    "    all_albums.extend(get_song_info(filename,album_directory='Starr/'))\n",
    "starr = pd.DataFrame(all_albums).set_index('song_title')\n",
    "starr['singer'] = 'Starr'"
   ]
  },
  {
   "cell_type": "code",
   "execution_count": 457,
   "metadata": {},
   "outputs": [],
   "source": [
    "exploded = exploded.drop(columns='composer')"
   ]
  },
  {
   "cell_type": "code",
   "execution_count": 459,
   "metadata": {},
   "outputs": [],
   "source": [
    "all_projects = pd.concat([exploded,harrison,lennon,mccartney,starr])"
   ]
  },
  {
   "cell_type": "code",
   "execution_count": 460,
   "metadata": {},
   "outputs": [],
   "source": [
    "all_projects.to_pickle('./Data/AllBeatlesProj.pkl')"
   ]
  },
  {
   "cell_type": "code",
   "execution_count": 461,
   "metadata": {},
   "outputs": [
    {
     "output_type": "execute_result",
     "data": {
      "text/plain": [
       "                                   artist                    album_title  \\\n",
       "song_title                                                                 \n",
       "Band on the Run    Paul McCartney & Wings                Band on the Run   \n",
       "About You                  Paul McCartney                   Driving Rain   \n",
       "Savoy Truffle                 The Beatles  The Beatles (The White Album)   \n",
       "Great Day                  Paul McCartney                    Flaming Pie   \n",
       "I Don’t Know               Paul McCartney                  Egypt Station   \n",
       "Wrack My Brain                Ringo Starr       Stop and Smell the Roses   \n",
       "If You Believe            George Harrison                George Harrison   \n",
       "You And Me (Babe)             Ringo Starr                          Ringo   \n",
       "Liverpool 8                   Ringo Starr                    Liverpool 8   \n",
       "Stranglehold               Paul McCartney                  Press to Play   \n",
       "\n",
       "                          release_date  \\\n",
       "song_title                               \n",
       "Band on the Run    1973-12-05 00:00:00   \n",
       "About You          2001-11-12 00:00:00   \n",
       "Savoy Truffle      1968-11-22 00:00:00   \n",
       "Great Day          1997-05-05 00:00:00   \n",
       "I Don’t Know       2018-09-07 00:00:00   \n",
       "Wrack My Brain     1981-10-27 00:00:00   \n",
       "If You Believe     1979-02-20 00:00:00   \n",
       "You And Me (Babe)  1973-11-02 00:00:00   \n",
       "Liverpool 8        2008-11-04 00:00:00   \n",
       "Stranglehold       1986-09-01 00:00:00   \n",
       "\n",
       "                                                              lyrics  \\\n",
       "song_title                                                             \n",
       "Band on the Run    Stuck inside these four walls\\nSent inside for...   \n",
       "About You          One, two, three, four!\\nYou give me power to g...   \n",
       "Savoy Truffle      Creme tangerine and Montelimar\\nA ginger sling...   \n",
       "Great Day          When you're wide awake, say it for goodness sa...   \n",
       "I Don’t Know       I got crows at my window, dogs at my door\\nI d...   \n",
       "Wrack My Brain     Chorus 1]\\nWrack my brain, wrack my brain\\nTil...   \n",
       "If You Believe     You can worry your life away with\\nNot knowing...   \n",
       "You And Me (Babe)  For you and me, babe, it's time that we part\\n...   \n",
       "Liverpool 8        I was a sailor first, I sailed the sea\\nThen I...   \n",
       "Stranglehold       Can I get you to give me a minute of your time...   \n",
       "\n",
       "                      singer  \n",
       "song_title                    \n",
       "Band on the Run    McCartney  \n",
       "About You          McCartney  \n",
       "Savoy Truffle       Harrison  \n",
       "Great Day          McCartney  \n",
       "I Don’t Know       McCartney  \n",
       "Wrack My Brain         Starr  \n",
       "If You Believe      Harrison  \n",
       "You And Me (Babe)      Starr  \n",
       "Liverpool 8            Starr  \n",
       "Stranglehold       McCartney  "
      ],
      "text/html": "<div>\n<style scoped>\n    .dataframe tbody tr th:only-of-type {\n        vertical-align: middle;\n    }\n\n    .dataframe tbody tr th {\n        vertical-align: top;\n    }\n\n    .dataframe thead th {\n        text-align: right;\n    }\n</style>\n<table border=\"1\" class=\"dataframe\">\n  <thead>\n    <tr style=\"text-align: right;\">\n      <th></th>\n      <th>artist</th>\n      <th>album_title</th>\n      <th>release_date</th>\n      <th>lyrics</th>\n      <th>singer</th>\n    </tr>\n    <tr>\n      <th>song_title</th>\n      <th></th>\n      <th></th>\n      <th></th>\n      <th></th>\n      <th></th>\n    </tr>\n  </thead>\n  <tbody>\n    <tr>\n      <th>Band on the Run</th>\n      <td>Paul McCartney &amp; Wings</td>\n      <td>Band on the Run</td>\n      <td>1973-12-05 00:00:00</td>\n      <td>Stuck inside these four walls\\nSent inside for...</td>\n      <td>McCartney</td>\n    </tr>\n    <tr>\n      <th>About You</th>\n      <td>Paul McCartney</td>\n      <td>Driving Rain</td>\n      <td>2001-11-12 00:00:00</td>\n      <td>One, two, three, four!\\nYou give me power to g...</td>\n      <td>McCartney</td>\n    </tr>\n    <tr>\n      <th>Savoy Truffle</th>\n      <td>The Beatles</td>\n      <td>The Beatles (The White Album)</td>\n      <td>1968-11-22 00:00:00</td>\n      <td>Creme tangerine and Montelimar\\nA ginger sling...</td>\n      <td>Harrison</td>\n    </tr>\n    <tr>\n      <th>Great Day</th>\n      <td>Paul McCartney</td>\n      <td>Flaming Pie</td>\n      <td>1997-05-05 00:00:00</td>\n      <td>When you're wide awake, say it for goodness sa...</td>\n      <td>McCartney</td>\n    </tr>\n    <tr>\n      <th>I Don’t Know</th>\n      <td>Paul McCartney</td>\n      <td>Egypt Station</td>\n      <td>2018-09-07 00:00:00</td>\n      <td>I got crows at my window, dogs at my door\\nI d...</td>\n      <td>McCartney</td>\n    </tr>\n    <tr>\n      <th>Wrack My Brain</th>\n      <td>Ringo Starr</td>\n      <td>Stop and Smell the Roses</td>\n      <td>1981-10-27 00:00:00</td>\n      <td>Chorus 1]\\nWrack my brain, wrack my brain\\nTil...</td>\n      <td>Starr</td>\n    </tr>\n    <tr>\n      <th>If You Believe</th>\n      <td>George Harrison</td>\n      <td>George Harrison</td>\n      <td>1979-02-20 00:00:00</td>\n      <td>You can worry your life away with\\nNot knowing...</td>\n      <td>Harrison</td>\n    </tr>\n    <tr>\n      <th>You And Me (Babe)</th>\n      <td>Ringo Starr</td>\n      <td>Ringo</td>\n      <td>1973-11-02 00:00:00</td>\n      <td>For you and me, babe, it's time that we part\\n...</td>\n      <td>Starr</td>\n    </tr>\n    <tr>\n      <th>Liverpool 8</th>\n      <td>Ringo Starr</td>\n      <td>Liverpool 8</td>\n      <td>2008-11-04 00:00:00</td>\n      <td>I was a sailor first, I sailed the sea\\nThen I...</td>\n      <td>Starr</td>\n    </tr>\n    <tr>\n      <th>Stranglehold</th>\n      <td>Paul McCartney</td>\n      <td>Press to Play</td>\n      <td>1986-09-01 00:00:00</td>\n      <td>Can I get you to give me a minute of your time...</td>\n      <td>McCartney</td>\n    </tr>\n  </tbody>\n</table>\n</div>"
     },
     "metadata": {},
     "execution_count": 461
    }
   ],
   "source": [
    "all_projects.sample(10)\n",
    "# This DataFrame will make the separate GPT-2 models easier to create."
   ]
  },
  {
   "cell_type": "code",
   "execution_count": 8,
   "metadata": {},
   "outputs": [],
   "source": [
    "all_proj = pd.read_pickle('./Data/AllBeatlesProj.pkl')"
   ]
  },
  {
   "source": [
    "Let's save the lyrics in a giant string for GPT-2 based on each singer"
   ],
   "cell_type": "markdown",
   "metadata": {}
  },
  {
   "cell_type": "code",
   "execution_count": 13,
   "metadata": {},
   "outputs": [],
   "source": [
    "beatles = all_proj[all_proj['artist']=='The Beatles'].lyrics.str.cat()\n",
    "text_file = open(\"beatles.txt\", \"w\")\n",
    "n = text_file.write(beatles)\n",
    "text_file.close()"
   ]
  },
  {
   "cell_type": "code",
   "execution_count": 17,
   "metadata": {},
   "outputs": [],
   "source": [
    "harr_lyr = all_proj[all_proj['singer']=='Harrison'].lyrics.str.cat()\n",
    "text_file = open(\"harrison.txt\", \"w\")\n",
    "n = text_file.write(harr_lyr)\n",
    "text_file.close()"
   ]
  },
  {
   "cell_type": "code",
   "execution_count": 18,
   "metadata": {},
   "outputs": [],
   "source": [
    "mc_lyr = all_proj[all_proj['singer']=='McCartney'].lyrics.str.cat()\n",
    "text_file = open(\"mccartney.txt\", \"w\")\n",
    "n = text_file.write(mc_lyr)\n",
    "text_file.close()"
   ]
  },
  {
   "cell_type": "code",
   "execution_count": 19,
   "metadata": {},
   "outputs": [],
   "source": [
    "lenn_lyr = all_proj[all_proj['singer']=='Lennon'].lyrics.str.cat()\n",
    "text_file = open(\"lennon.txt\", \"w\")\n",
    "n = text_file.write(lenn_lyr)\n",
    "text_file.close()"
   ]
  },
  {
   "cell_type": "code",
   "execution_count": 20,
   "metadata": {},
   "outputs": [],
   "source": [
    "starr_lyr = all_proj[all_proj['singer']=='Starr'].lyrics.str.cat()\n",
    "text_file = open(\"starr.txt\", \"w\")\n",
    "n = text_file.write(starr_lyr)\n",
    "text_file.close()"
   ]
  },
  {
   "source": [
    "I'm now taking these text files and moving to the Google Colab notebook to finetune GPT-2 models"
   ],
   "cell_type": "markdown",
   "metadata": {}
  }
 ]
}